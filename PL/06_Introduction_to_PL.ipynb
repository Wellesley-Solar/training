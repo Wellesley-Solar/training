{
 "metadata": {
  "language_info": {
   "codemirror_mode": {
    "name": "ipython",
    "version": 3
   },
   "file_extension": ".py",
   "mimetype": "text/x-python",
   "name": "python",
   "nbconvert_exporter": "python",
   "pygments_lexer": "ipython3",
   "version": 3
  },
  "orig_nbformat": 2
 },
 "nbformat": 4,
 "nbformat_minor": 2,
 "cells": [
  {
   "source": [
    "what is PL\n",
    "How do we collect PL data\n",
    "How is the data exported\n",
    "Import PL data\n",
    "Plot PL data\n",
    "Fit PL data\n",
    "Look at changes - changes in intensity, changes in average wavelength, differntial"
   ],
   "cell_type": "markdown",
   "metadata": {}
  },
  {
   "source": [
    "What is PL"
   ],
   "cell_type": "markdown",
   "metadata": {}
  },
  {
   "source": [
    "How do we collect PL"
   ],
   "cell_type": "markdown",
   "metadata": {}
  },
  {
   "source": [
    "Importing PL data"
   ],
   "cell_type": "markdown",
   "metadata": {}
  }
 ]
}