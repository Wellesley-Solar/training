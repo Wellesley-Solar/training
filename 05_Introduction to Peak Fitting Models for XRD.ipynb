{
 "cells": [
  {
   "cell_type": "markdown",
   "metadata": {},
   "source": [
    "# Introduction to Different Peak Fitting in Python"
   ]
  },
  {
   "cell_type": "markdown",
   "metadata": {},
   "source": [
    "So far you have been introduced to the python programming language, working with arrays, importing data simple curve fitting, and doing simple peak fittings. In this tutorial we are going to apply those skills to different peak fitting data to improve accuracy of fitting and uncertainty value.\n",
    "\n",
    "After this tutorial you should be able to:\n",
    "\n",
    "    Fit data with multiple Gaussian distributions\n",
    "    Fit data with Lorentzian Function\n",
    "    Combine Gaussian and Lorentzian into pseudo Voigt analysis\n",
    "    Deduce each methods uncertainty\n",
    "Using Gaussian and Lorentzian distributions to fit the dataset is reasonable for data with little noise undergoing multiple separate component distributions.\n",
    "\n",
    "We'll be using the same imports as our previous tutorials with new important additions, math from which we import pi,sin. "
   ]
  },
  {
   "cell_type": "code",
   "execution_count": 48,
   "metadata": {},
   "outputs": [],
   "source": [
    "import numpy as np\n",
    "import csv\n",
    "import os\n",
    "import matplotlib.pyplot as plt\n",
    "import pandas as pd\n",
    "import math\n",
    "import scipy\n",
    "from scipy.optimize import curve_fit\n",
    "from math import pi,sin"
   ]
  },
  {
   "cell_type": "markdown",
   "metadata": {},
   "source": [
    "# Importing,Trimming, and Subtracting the Data\n",
    "To import the data we're going to use our function \"csv_to_np\" which will use the read_csv function built into pandas to pull the data, and then convert it to a numpy array. Then,lets go ahead an trim out data with set limits,so we can then reference those when calling some segment of our array. Also, lets improve the linear fitting introduced in Tutorial 04, let's fit a straight line for the data around our peak using the size of the data files to get a non-zero baseline."
   ]
  },
  {
   "cell_type": "markdown",
   "metadata": {},
   "source": [
    "First, given that It's worthwhile to make a function that will convert our data with respect to Q go ahead and use the two_to_q function built to pull the data, and takes in an array of 2-theta values and a X-ray wavelength 𝜆, and returns an array of Q values. Well also go ahead and define our past functions from the last tutorial since theyll be useful as well."
   ]
  },
  {
   "cell_type": "code",
   "execution_count": 15,
   "metadata": {},
   "outputs": [],
   "source": [
    "def csv_to_np(filename):\n",
    "    data = pd.read_csv(filename)\n",
    "    return(np.array(data))\n",
    "\n",
    "perov = csv_to_np('D1_MAPBIBr2_Xraydeg.csv')"
   ]
  },
  {
   "cell_type": "code",
   "execution_count": 16,
   "metadata": {},
   "outputs": [],
   "source": [
    "def two_to_q(two_theta, wave):\n",
    "    #two_theta is a 1D array of two_theta angles\n",
    "    #wave is the X-ray energy in angstroms\n",
    "    rad_theta = two_theta/2*np.pi/180\n",
    "    q = 4*np.pi*np.sin(rad_theta)/wave\n",
    "    return q\n"
   ]
  },
  {
   "cell_type": "code",
   "execution_count": 17,
   "metadata": {},
   "outputs": [],
   "source": [
    "def find_nearest(array, target):\n",
    "    array = np.asarray(array) # In case the input is not an array type\n",
    "    idx = (np.abs(array - target)).argmin() # Finds the index of the value closest to the target\n",
    "    return idx"
   ]
  },
  {
   "cell_type": "code",
   "execution_count": 18,
   "metadata": {},
   "outputs": [],
   "source": [
    "def gaussian(x, a, b, c): \n",
    "    return a*np.exp(-(x - b)**2/(2*c**2))"
   ]
  },
  {
   "cell_type": "code",
   "execution_count": 19,
   "metadata": {},
   "outputs": [],
   "source": [
    "#Next We'll use our find_nearest function to find the index of real value closest to our desired limit\n",
    "q=two_to_q(perov[:,0],0.9763)\n",
    "\n",
    "Q=q.tolist()\n",
    "#print(Q)\n",
    "\n",
    "q_1 = 0.98 # This will be the lower limit for Q we'll consider\n",
    "q_2 = 1.15 # This will be our upper limit - ideally there is only one peak between these values\n",
    "\n",
    "limit1 = find_nearest(q, q_1)\n",
    "limit2 =find_nearest(q, q_2)"
   ]
  },
  {
   "cell_type": "code",
   "execution_count": 20,
   "metadata": {},
   "outputs": [],
   "source": [
    "# Having extablished our limits we can now trim the data\n",
    "\n",
    "q_sub = q[limit1:limit2] # We'll reduce the domain of Q\n",
    "perov_sub = perov[limit1:limit2,1:-1] # And correspondingly shrink the size of our diffraction data set. \n",
    "\n",
    "# You'll also notice I'm dropping the first column of data in the perov array, since that's now accounted for in q_sub"
   ]
  },
  {
   "cell_type": "markdown",
   "metadata": {},
   "source": [
    "Go ahead and plot our data to see if our trimming worked. Remember to plot the first column (index 0) of our 2D array (our 2-theta values) against the X-ray diffraction intensities (the values in any other column)."
   ]
  },
  {
   "cell_type": "code",
   "execution_count": 21,
   "metadata": {},
   "outputs": [
    {
     "data": {
      "text/plain": [
       "<matplotlib.legend.Legend at 0x1018242a20>"
      ]
     },
     "execution_count": 21,
     "metadata": {},
     "output_type": "execute_result"
    },
    {
     "data": {
      "image/png": "[encoded data removed]",
      "text/plain": [
       "<Figure size 576x432 with 1 Axes>"
      ]
     },
     "metadata": {
      "needs_background": "light"
     },
     "output_type": "display_data"
    }
   ],
   "source": [
    "plt.figure(figsize=(8,6)) #make plot larger\n",
    "plt.plot(q_sub,perov_sub[:,0],'g-', label='$MAPbIBr_2$') #plot subfield of data\n",
    "plt.xlabel('Q [$\\AA^{-1}$]',size=12) #Define x-axis label\n",
    "plt.ylabel('Intensity [a.u.]',size=12)#Define y-axis label\n",
    "plt.legend(loc=\"upper right\")#Put legend in upper left hand cornerer"
   ]
  },
  {
   "cell_type": "code",
   "execution_count": 22,
   "metadata": {},
   "outputs": [
    {
     "name": "stdout",
     "output_type": "stream",
     "text": [
      "(76, 29)\n"
     ]
    },
    {
     "data": {
      "text/plain": [
       "[<matplotlib.lines.Line2D at 0x1018b6b748>,\n",
       " <matplotlib.lines.Line2D at 0x1018b6b898>,\n",
       " <matplotlib.lines.Line2D at 0x1018b6b9e8>,\n",
       " <matplotlib.lines.Line2D at 0x1018b6bb38>,\n",
       " <matplotlib.lines.Line2D at 0x1018b6bc88>,\n",
       " <matplotlib.lines.Line2D at 0x1018b6bdd8>,\n",
       " <matplotlib.lines.Line2D at 0x1018b6bf28>,\n",
       " <matplotlib.lines.Line2D at 0x1018bc70b8>,\n",
       " <matplotlib.lines.Line2D at 0x1018bc7208>,\n",
       " <matplotlib.lines.Line2D at 0x1018bc7358>,\n",
       " <matplotlib.lines.Line2D at 0x1018a3db00>,\n",
       " <matplotlib.lines.Line2D at 0x1018bc75c0>,\n",
       " <matplotlib.lines.Line2D at 0x1018bc7710>,\n",
       " <matplotlib.lines.Line2D at 0x1018bc7860>,\n",
       " <matplotlib.lines.Line2D at 0x1018bc79b0>,\n",
       " <matplotlib.lines.Line2D at 0x1018bc7b00>,\n",
       " <matplotlib.lines.Line2D at 0x1018bc7c50>,\n",
       " <matplotlib.lines.Line2D at 0x1018bc7da0>,\n",
       " <matplotlib.lines.Line2D at 0x1018bc7ef0>,\n",
       " <matplotlib.lines.Line2D at 0x1018bcc080>,\n",
       " <matplotlib.lines.Line2D at 0x1018bcc1d0>,\n",
       " <matplotlib.lines.Line2D at 0x1018bcc320>,\n",
       " <matplotlib.lines.Line2D at 0x1018bcc470>,\n",
       " <matplotlib.lines.Line2D at 0x1018bcc5c0>,\n",
       " <matplotlib.lines.Line2D at 0x1018bcc710>,\n",
       " <matplotlib.lines.Line2D at 0x1018bcc860>,\n",
       " <matplotlib.lines.Line2D at 0x1018bcc9b0>,\n",
       " <matplotlib.lines.Line2D at 0x1018bccb00>,\n",
       " <matplotlib.lines.Line2D at 0x1018bccc50>]"
      ]
     },
     "execution_count": 22,
     "metadata": {},
     "output_type": "execute_result"
    },
    {
     "data": {
      "image/png": "[encoded data removed]",
      "text/plain": [
       "<Figure size 432x288 with 1 Axes>"
      ]
     },
     "metadata": {
      "needs_background": "light"
     },
     "output_type": "display_data"
    }
   ],
   "source": [
    "# Using the linear fitting introduced in Tutorial 04, let's fit a straight line for the data around our peak.\n",
    "size = perov_sub.shape\n",
    "print (size)\n",
    "q_bins = size[0]\n",
    "num_frames = size[1]\n",
    "slope = np.zeros((num_frames,1))\n",
    "intercept = np.zeros((num_frames,1))\n",
    "back = np.zeros((q_bins,num_frames))\n",
    "int_correct = np.zeros((q_bins,num_frames))\n",
    "\n",
    "#accept a data file and range and returns average values at start and end of range\n",
    "for j in range(num_frames): \n",
    "    slope[j] = ((np.mean(perov_sub[-10:-1,j])-np.mean(perov_sub[0:10,j]))/(np.mean(q[limit2-10:limit2])-np.mean(q[limit1:limit1+10])))\n",
    "    intercept[j]=perov_sub[0,j]-slope[j]*q_sub[0]\n",
    "    back[:,j] = [slope[j]*element+intercept[j] for element in q_sub]\n",
    "    int_correct[:,j] = perov_sub[:,j]-np.array(back[:,j])\n",
    "\n",
    "plt.plot(np.array(q_sub),int_correct)"
   ]
  },
  {
   "cell_type": "markdown",
   "metadata": {},
   "source": [
    "# Built-in Fitting Models\n",
    "  Gaussians, Lorentzian, and Pseudo-Voigt are all pre-defined peak-like models, each a subclass from the Model class,that are used in a wide range of scientific domains. \n",
    "  \n",
    "  These models are unit-normalized and share the same parameter names so that you can easily switch between models and interpret the results. Where $a$ is the height of the peak, $b$ is the peak's center, and $c$ is the standard deviation which impacts the width of the peak. \n",
    "  \n",
    "  Most of these peak functions will have two additional parameters derived from and constrained by the other parameters. The first of these is fwhm which will hold the estimated “Full Width at Half Max” for the peak, which is often easier to compare between different models than $c$. The second of these is height which will contain the maximum value of the peak.\n"
   ]
  },
  {
   "cell_type": "code",
   "execution_count": null,
   "metadata": {},
   "outputs": [],
   "source": []
  },
  {
   "cell_type": "markdown",
   "metadata": {},
   "source": [
    "# Guassian fitting\n",
    "Like in tutorial 4, you learned how to fit the experimental data to a gaussian fit. \n",
    "\n",
    "Rememebr that our idealized model is a guassian peak, which is described by the following expression:\n",
    "\n",
    "$$f(x)=ae^{\\frac{-(x-b)^2}{2c^2}}$$\n",
    "\n",
    "Where $a$ is the height of the peak, $b$ is the peak's center, and $c$ is the standard deviation which impacts the width of the peak.\n"
   ]
  },
  {
   "cell_type": "code",
   "execution_count": 45,
   "metadata": {},
   "outputs": [
    {
     "name": "stdout",
     "output_type": "stream",
     "text": [
      "[6.02442373 6.02448715 6.02443746 6.02443651 6.02450386 6.02457133\n",
      " 6.02462093 6.024679   6.02457378 6.02466153 6.02463978 6.02474891\n",
      " 6.02467186 6.02469051 6.024676   6.0246775  6.02471163 6.02477428\n",
      " 6.02477956 6.02473801 6.02481088 6.02475284 6.02477551 6.02480733\n",
      " 6.02476764 6.02469529 6.02468502 6.02474362 6.02472499]\n",
      "lattice spacing: [6.024711620707654]\n",
      "[2.46392167e+02 1.04290225e+00 2.51372280e-03]\n"
     ]
    },
    {
     "data": {
      "text/plain": [
       "Text(0, 0.5, 'Intensity')"
      ]
     },
     "execution_count": 45,
     "metadata": {},
     "output_type": "execute_result"
    },
    {
     "data": {
      "image/png": "[encoded data removed]",
      "text/plain": [
       "<Figure size 432x288 with 1 Axes>"
      ]
     },
     "metadata": {
      "needs_background": "light"
     },
     "output_type": "display_data"
    }
   ],
   "source": [
    "#We'll also give an initial guess for our fits based off of a visual interpretaion of our data depiciting a,b,c \n",
    "p0 = [250, 1, 0.2]\n",
    "\n",
    "intensity_G = np.zeros((num_frames)) #create correct size arrays for running in the loop\n",
    "lattice_G= np.zeros((num_frames))\n",
    "\n",
    "\n",
    "for j in range(num_frames):\n",
    "    popt, pcov = curve_fit(gaussian, np.array(q_sub), int_correct[:,j], p0)\n",
    "    intensity_G[j] = popt[0]\n",
    "    lattice_G[j] = 2*math.pi/popt[1] \n",
    "    p0 = popt #once you have the initial fit use that as your next guess, we expect things to be continuous so this helps with that\n",
    "print (lattice_G)#lattice of all frames in sample\n",
    "\n",
    "\n",
    "#%%\n",
    "intensity_G = np.zeros((num_frames))\n",
    "lattice_G= np.zeros((num_frames))\n",
    "\n",
    "# %%\n",
    "\n",
    "\n",
    "#guassian fits with plotting\n",
    "#pick fitting and initial guess\n",
    "i = 1#number of fits \n",
    "j = 16#number of frames \n",
    "p0 = [250, 1, 0.2]\n",
    "plt.plot(np.array(q_sub), int_correct[:,j],color='black')\n",
    "\n",
    "if i==1:#if you only want one fit\n",
    "    popt, pcov = curve_fit(gaussian, np.array(q_sub), int_correct[:,j], p0[0:3]) #Return co-effs for fit and covariance\n",
    "    Gx=np.array(q_sub)\n",
    "    Gy=gaussian(np.array(q_sub),*popt)\n",
    "    plt.plot(Gx,Gy)#fitted curve\n",
    "    plt.plot(np.array(q_sub),int_correct[:,j],color='black')# original curve\n",
    "    print('lattice spacing:', [2*math.pi/popt[1]])\n",
    "    intensity_1[j] = popt[0]\n",
    "    lattice_1[j] = 2*math.pi/popt[1] \n",
    "    \n",
    "print(popt)\n",
    "plt.xlabel('Q')\n",
    "plt.ylabel('Intensity')"
   ]
  },
  {
   "cell_type": "markdown",
   "metadata": {},
   "source": [
    "# Lorentzian Function\n",
    "Now that youve seen how much more qualitavely accurate multi guassian peak fitting is well go thorugh another idelaized model, Lorentizian peak:\n",
    "                            \n",
    "                          f(x)=A√π/2[c^2/(x-b)^2+c^2]\n",
    " Like Guassian, $a$ is the height of the peak, $b$ is the peak's center, and $c$ is the standard deviation which impacts the width of the peak. In addition, parameters $fwhm$ and $height$ are included as constraints to report full width at half maximum and maximum peak height, respectively."
   ]
  },
  {
   "cell_type": "code",
   "execution_count": 44,
   "metadata": {},
   "outputs": [
    {
     "name": "stdout",
     "output_type": "stream",
     "text": [
      "[6.02560609 6.02567767 6.025628   6.02562207 6.02570464 6.02578047\n",
      " 6.02582866 6.02590159 6.02578728 6.02587654 6.02583245 6.02597558\n",
      " 6.02589124 6.02591425 6.02589253 6.02590172 6.02593855 6.0260031\n",
      " 6.02601048 6.02596343 6.02603886 6.02598511 6.02599714 6.02603952\n",
      " 6.02599165 6.02591729 6.025897   6.02598266 6.02594564]\n"
     ]
    }
   ],
   "source": [
    "#Now let's define a function we'll want to fit  \n",
    "#We'll call our function lorentzian and it will calculate the expression described above\n",
    "def lorentzian(x, a, b, c):\n",
    "    return (a*b**2/((x-b)**2+c**2))\n",
    "\n",
    "\n",
    "\n",
    "# Well be using same intensity and lattice from the orginal curve to analyze\n",
    "p0 = [250, 1, 0.2]\n",
    "\n",
    "intensity_L= np.zeros((num_frames)) #create correct size arrays for running in the loop\n",
    "lattice_L= np.zeros((num_frames))\n",
    "\n",
    "\n",
    "\n",
    "Lx=np.array(q_sub)\n",
    "Ly=gaussian(np.array(q_sub),*popt)"
   ]
  },
  {
   "cell_type": "markdown",
   "metadata": {},
   "source": [
    "# Exercise 1\n",
    "You'll notice how Lorentzian fit are similar to Guassina just by adding a parameter, modify the code used for the Gaussian fit accordingly to do Lorentzian fitting and then plot your graphs.\n"
   ]
  },
  {
   "cell_type": "code",
   "execution_count": null,
   "metadata": {},
   "outputs": [],
   "source": []
  },
  {
   "cell_type": "markdown",
   "metadata": {},
   "source": [
    "   # PseudoVoigt Fitting\n",
    "    \n",
    "   Most likely youll find data that is hard to analyze with just one gaussian or lorentzian fit indicating the material undergoing changes.\n",
    "\n",
    "   Pseudo Voigt function is a weighted sum of a Gaussian and Lorentzian distribution functions with that share values for amplitude (A), center (μ), and full width at half maximum σ (meaning there is a contrained values of sigma).A fourth parameter fraction (α) controls the relative weight of the Gaussian and Lorentzian components:\n",
    "   \n",
    "                           f(x;A,μ,σ,α)=(1−α)Aσg2π‾‾‾√e[−(x−μ)2/2σg2]+αAπ[σ(x−μ)2+σ2]\n",
    "\n",
    "Below you'll learn how much better using both fits:\n",
    "\n",
    "We'll again use scipy.optimize.curve_fit to pull these parameters from our data set."
   ]
  },
  {
   "cell_type": "code",
   "execution_count": 45,
   "metadata": {},
   "outputs": [
    {
     "name": "stdout",
     "output_type": "stream",
     "text": [
      "[2.63532937e-06 2.18471688e-06 2.16777620e-06 2.42131213e-06\n",
      " 2.55314844e-06 2.48684517e-06 2.51544878e-06 2.54190722e-06\n",
      " 2.63627477e-06 2.52920972e-06 3.02854832e-06 2.84104574e-06\n",
      " 2.75375834e-06 2.74837476e-06 2.39577673e-06 2.46050253e-06\n",
      " 2.53288874e-06 2.54717233e-06 2.52956288e-06 2.51215571e-06\n",
      " 2.77069750e-06 2.75179254e-06 2.65167507e-06 2.65338331e-06\n",
      " 2.66174292e-06 2.83055231e-06 2.84164224e-06 2.06735052e-06\n",
      " 2.04163874e-06]\n"
     ]
    }
   ],
   "source": [
    "#Now let's define a function we'll want to fit to \n",
    "#We'll call our function voigt and it will calculate the expression described above\n",
    "def Voigt(x,f, a1, b1, c1): \n",
    "#need help transforming given pseudo Voigt to more comprehenable equation and know where to use f \n",
    "    return (a1*(1/(c1*(np.sqrt(2*np.pi))))*(np.exp(-((x-b1)**2)/((2*c1)**2)))) +\\\n",
    "              ((a1*c1**2/((x-b1)**2+c1**2)) )\n",
    "\n",
    "p0 = [0.5,250, 1]\n",
    "#last parameter is input on how much of the fit is Lorentzian and/or Gaussian 0=guassian,1=Lorentzian,0.5 is a mix\n",
    "intensity_V = np.zeros((num_frames)) #create correct size arrays for running in the loop\n",
    "lattice_V= np.zeros((num_frames))\n",
    "\n",
    "\n",
    "for j in range(num_frames):\n",
    "    popt, pcov = curve_fit(lorentzian, np.array(q_sub), int_correct[:,j], p0)\n",
    "    intensity_V[j] = popt[0]\n",
    "    lattice_V[j] = 4*math.pi/popt[1] \n",
    "    p0 = popt #once you have the initial fit use that as your next guess, we expect things to be continuous so this helps with that\n",
    "print (lattice_V)#lattice of all frames in sample"
   ]
  },
  {
   "cell_type": "code",
   "execution_count": 48,
   "metadata": {},
   "outputs": [
    {
     "ename": "TypeError",
     "evalue": "Voigt() missing 2 required positional arguments: 'b2' and 'c2'",
     "output_type": "error",
     "traceback": [
      "\u001b[0;31m---------------------------------------------------------------------------\u001b[0m",
      "\u001b[0;31mTypeError\u001b[0m                                 Traceback (most recent call last)",
      "\u001b[0;32m<ipython-input-48-f81b2a22df21>\u001b[0m in \u001b[0;36m<module>\u001b[0;34m\u001b[0m\n\u001b[1;32m     20\u001b[0m \u001b[0;34m\u001b[0m\u001b[0m\n\u001b[1;32m     21\u001b[0m \u001b[0;32mif\u001b[0m \u001b[0mi\u001b[0m\u001b[0;34m==\u001b[0m\u001b[0;36m1\u001b[0m\u001b[0;34m:\u001b[0m\u001b[0;31m#if you only want one fit\u001b[0m\u001b[0;34m\u001b[0m\u001b[0;34m\u001b[0m\u001b[0m\n\u001b[0;32m---> 22\u001b[0;31m     \u001b[0mpopt\u001b[0m\u001b[0;34m,\u001b[0m \u001b[0mpcov\u001b[0m \u001b[0;34m=\u001b[0m \u001b[0mcurve_fit\u001b[0m\u001b[0;34m(\u001b[0m\u001b[0mVoigt\u001b[0m\u001b[0;34m,\u001b[0m \u001b[0mnp\u001b[0m\u001b[0;34m.\u001b[0m\u001b[0marray\u001b[0m\u001b[0;34m(\u001b[0m\u001b[0mq_sub\u001b[0m\u001b[0;34m)\u001b[0m\u001b[0;34m,\u001b[0m \u001b[0mint_correct\u001b[0m\u001b[0;34m[\u001b[0m\u001b[0;34m:\u001b[0m\u001b[0;34m,\u001b[0m\u001b[0mj\u001b[0m\u001b[0;34m]\u001b[0m\u001b[0;34m,\u001b[0m \u001b[0mp0\u001b[0m\u001b[0;34m[\u001b[0m\u001b[0;36m0\u001b[0m\u001b[0;34m:\u001b[0m\u001b[0;36m7\u001b[0m\u001b[0;34m]\u001b[0m\u001b[0;34m)\u001b[0m\u001b[0;34m\u001b[0m\u001b[0;34m\u001b[0m\u001b[0m\n\u001b[0m\u001b[1;32m     23\u001b[0m     \u001b[0mplt\u001b[0m\u001b[0;34m.\u001b[0m\u001b[0mplot\u001b[0m\u001b[0;34m(\u001b[0m\u001b[0mnp\u001b[0m\u001b[0;34m.\u001b[0m\u001b[0marray\u001b[0m\u001b[0;34m(\u001b[0m\u001b[0mq_sub\u001b[0m\u001b[0;34m)\u001b[0m\u001b[0;34m,\u001b[0m \u001b[0mvoigt\u001b[0m\u001b[0;34m(\u001b[0m\u001b[0mnp\u001b[0m\u001b[0;34m.\u001b[0m\u001b[0marray\u001b[0m\u001b[0;34m(\u001b[0m\u001b[0mq_sub\u001b[0m\u001b[0;34m)\u001b[0m\u001b[0;34m,\u001b[0m\u001b[0;34m*\u001b[0m\u001b[0mpopt\u001b[0m\u001b[0;34m)\u001b[0m\u001b[0;34m)\u001b[0m\u001b[0;31m#fitted curve\u001b[0m\u001b[0;34m\u001b[0m\u001b[0;34m\u001b[0m\u001b[0m\n\u001b[1;32m     24\u001b[0m     \u001b[0mplt\u001b[0m\u001b[0;34m.\u001b[0m\u001b[0mplot\u001b[0m\u001b[0;34m(\u001b[0m\u001b[0mnp\u001b[0m\u001b[0;34m.\u001b[0m\u001b[0marray\u001b[0m\u001b[0;34m(\u001b[0m\u001b[0mq_sub\u001b[0m\u001b[0;34m)\u001b[0m\u001b[0;34m,\u001b[0m \u001b[0mint_correct\u001b[0m\u001b[0;34m[\u001b[0m\u001b[0;34m:\u001b[0m\u001b[0;34m,\u001b[0m\u001b[0mj\u001b[0m\u001b[0;34m]\u001b[0m\u001b[0;34m,\u001b[0m\u001b[0mcolor\u001b[0m\u001b[0;34m=\u001b[0m\u001b[0;34m'black'\u001b[0m\u001b[0;34m)\u001b[0m\u001b[0;31m# original curve\u001b[0m\u001b[0;34m\u001b[0m\u001b[0;34m\u001b[0m\u001b[0m\n",
      "\u001b[0;32m/anaconda3/lib/python3.7/site-packages/scipy/optimize/minpack.py\u001b[0m in \u001b[0;36mcurve_fit\u001b[0;34m(f, xdata, ydata, p0, sigma, absolute_sigma, check_finite, bounds, method, jac, **kwargs)\u001b[0m\n\u001b[1;32m    742\u001b[0m         \u001b[0;31m# Remove full_output from kwargs, otherwise we're passing it in twice.\u001b[0m\u001b[0;34m\u001b[0m\u001b[0;34m\u001b[0m\u001b[0;34m\u001b[0m\u001b[0m\n\u001b[1;32m    743\u001b[0m         \u001b[0mreturn_full\u001b[0m \u001b[0;34m=\u001b[0m \u001b[0mkwargs\u001b[0m\u001b[0;34m.\u001b[0m\u001b[0mpop\u001b[0m\u001b[0;34m(\u001b[0m\u001b[0;34m'full_output'\u001b[0m\u001b[0;34m,\u001b[0m \u001b[0;32mFalse\u001b[0m\u001b[0;34m)\u001b[0m\u001b[0;34m\u001b[0m\u001b[0;34m\u001b[0m\u001b[0m\n\u001b[0;32m--> 744\u001b[0;31m         \u001b[0mres\u001b[0m \u001b[0;34m=\u001b[0m \u001b[0mleastsq\u001b[0m\u001b[0;34m(\u001b[0m\u001b[0mfunc\u001b[0m\u001b[0;34m,\u001b[0m \u001b[0mp0\u001b[0m\u001b[0;34m,\u001b[0m \u001b[0mDfun\u001b[0m\u001b[0;34m=\u001b[0m\u001b[0mjac\u001b[0m\u001b[0;34m,\u001b[0m \u001b[0mfull_output\u001b[0m\u001b[0;34m=\u001b[0m\u001b[0;36m1\u001b[0m\u001b[0;34m,\u001b[0m \u001b[0;34m**\u001b[0m\u001b[0mkwargs\u001b[0m\u001b[0;34m)\u001b[0m\u001b[0;34m\u001b[0m\u001b[0;34m\u001b[0m\u001b[0m\n\u001b[0m\u001b[1;32m    745\u001b[0m         \u001b[0mpopt\u001b[0m\u001b[0;34m,\u001b[0m \u001b[0mpcov\u001b[0m\u001b[0;34m,\u001b[0m \u001b[0minfodict\u001b[0m\u001b[0;34m,\u001b[0m \u001b[0merrmsg\u001b[0m\u001b[0;34m,\u001b[0m \u001b[0mier\u001b[0m \u001b[0;34m=\u001b[0m \u001b[0mres\u001b[0m\u001b[0;34m\u001b[0m\u001b[0;34m\u001b[0m\u001b[0m\n\u001b[1;32m    746\u001b[0m         \u001b[0mcost\u001b[0m \u001b[0;34m=\u001b[0m \u001b[0mnp\u001b[0m\u001b[0;34m.\u001b[0m\u001b[0msum\u001b[0m\u001b[0;34m(\u001b[0m\u001b[0minfodict\u001b[0m\u001b[0;34m[\u001b[0m\u001b[0;34m'fvec'\u001b[0m\u001b[0;34m]\u001b[0m \u001b[0;34m**\u001b[0m \u001b[0;36m2\u001b[0m\u001b[0;34m)\u001b[0m\u001b[0;34m\u001b[0m\u001b[0;34m\u001b[0m\u001b[0m\n",
      "\u001b[0;32m/anaconda3/lib/python3.7/site-packages/scipy/optimize/minpack.py\u001b[0m in \u001b[0;36mleastsq\u001b[0;34m(func, x0, args, Dfun, full_output, col_deriv, ftol, xtol, gtol, maxfev, epsfcn, factor, diag)\u001b[0m\n\u001b[1;32m    382\u001b[0m     \u001b[0;32mif\u001b[0m \u001b[0;32mnot\u001b[0m \u001b[0misinstance\u001b[0m\u001b[0;34m(\u001b[0m\u001b[0margs\u001b[0m\u001b[0;34m,\u001b[0m \u001b[0mtuple\u001b[0m\u001b[0;34m)\u001b[0m\u001b[0;34m:\u001b[0m\u001b[0;34m\u001b[0m\u001b[0;34m\u001b[0m\u001b[0m\n\u001b[1;32m    383\u001b[0m         \u001b[0margs\u001b[0m \u001b[0;34m=\u001b[0m \u001b[0;34m(\u001b[0m\u001b[0margs\u001b[0m\u001b[0;34m,\u001b[0m\u001b[0;34m)\u001b[0m\u001b[0;34m\u001b[0m\u001b[0;34m\u001b[0m\u001b[0m\n\u001b[0;32m--> 384\u001b[0;31m     \u001b[0mshape\u001b[0m\u001b[0;34m,\u001b[0m \u001b[0mdtype\u001b[0m \u001b[0;34m=\u001b[0m \u001b[0m_check_func\u001b[0m\u001b[0;34m(\u001b[0m\u001b[0;34m'leastsq'\u001b[0m\u001b[0;34m,\u001b[0m \u001b[0;34m'func'\u001b[0m\u001b[0;34m,\u001b[0m \u001b[0mfunc\u001b[0m\u001b[0;34m,\u001b[0m \u001b[0mx0\u001b[0m\u001b[0;34m,\u001b[0m \u001b[0margs\u001b[0m\u001b[0;34m,\u001b[0m \u001b[0mn\u001b[0m\u001b[0;34m)\u001b[0m\u001b[0;34m\u001b[0m\u001b[0;34m\u001b[0m\u001b[0m\n\u001b[0m\u001b[1;32m    385\u001b[0m     \u001b[0mm\u001b[0m \u001b[0;34m=\u001b[0m \u001b[0mshape\u001b[0m\u001b[0;34m[\u001b[0m\u001b[0;36m0\u001b[0m\u001b[0;34m]\u001b[0m\u001b[0;34m\u001b[0m\u001b[0;34m\u001b[0m\u001b[0m\n\u001b[1;32m    386\u001b[0m     \u001b[0;32mif\u001b[0m \u001b[0mn\u001b[0m \u001b[0;34m>\u001b[0m \u001b[0mm\u001b[0m\u001b[0;34m:\u001b[0m\u001b[0;34m\u001b[0m\u001b[0;34m\u001b[0m\u001b[0m\n",
      "\u001b[0;32m/anaconda3/lib/python3.7/site-packages/scipy/optimize/minpack.py\u001b[0m in \u001b[0;36m_check_func\u001b[0;34m(checker, argname, thefunc, x0, args, numinputs, output_shape)\u001b[0m\n\u001b[1;32m     24\u001b[0m def _check_func(checker, argname, thefunc, x0, args, numinputs,\n\u001b[1;32m     25\u001b[0m                 output_shape=None):\n\u001b[0;32m---> 26\u001b[0;31m     \u001b[0mres\u001b[0m \u001b[0;34m=\u001b[0m \u001b[0matleast_1d\u001b[0m\u001b[0;34m(\u001b[0m\u001b[0mthefunc\u001b[0m\u001b[0;34m(\u001b[0m\u001b[0;34m*\u001b[0m\u001b[0;34m(\u001b[0m\u001b[0;34m(\u001b[0m\u001b[0mx0\u001b[0m\u001b[0;34m[\u001b[0m\u001b[0;34m:\u001b[0m\u001b[0mnuminputs\u001b[0m\u001b[0;34m]\u001b[0m\u001b[0;34m,\u001b[0m\u001b[0;34m)\u001b[0m \u001b[0;34m+\u001b[0m \u001b[0margs\u001b[0m\u001b[0;34m)\u001b[0m\u001b[0;34m)\u001b[0m\u001b[0;34m)\u001b[0m\u001b[0;34m\u001b[0m\u001b[0;34m\u001b[0m\u001b[0m\n\u001b[0m\u001b[1;32m     27\u001b[0m     \u001b[0;32mif\u001b[0m \u001b[0;34m(\u001b[0m\u001b[0moutput_shape\u001b[0m \u001b[0;32mis\u001b[0m \u001b[0;32mnot\u001b[0m \u001b[0;32mNone\u001b[0m\u001b[0;34m)\u001b[0m \u001b[0;32mand\u001b[0m \u001b[0;34m(\u001b[0m\u001b[0mshape\u001b[0m\u001b[0;34m(\u001b[0m\u001b[0mres\u001b[0m\u001b[0;34m)\u001b[0m \u001b[0;34m!=\u001b[0m \u001b[0moutput_shape\u001b[0m\u001b[0;34m)\u001b[0m\u001b[0;34m:\u001b[0m\u001b[0;34m\u001b[0m\u001b[0;34m\u001b[0m\u001b[0m\n\u001b[1;32m     28\u001b[0m         \u001b[0;32mif\u001b[0m \u001b[0;34m(\u001b[0m\u001b[0moutput_shape\u001b[0m\u001b[0;34m[\u001b[0m\u001b[0;36m0\u001b[0m\u001b[0;34m]\u001b[0m \u001b[0;34m!=\u001b[0m \u001b[0;36m1\u001b[0m\u001b[0;34m)\u001b[0m\u001b[0;34m:\u001b[0m\u001b[0;34m\u001b[0m\u001b[0;34m\u001b[0m\u001b[0m\n",
      "\u001b[0;32m/anaconda3/lib/python3.7/site-packages/scipy/optimize/minpack.py\u001b[0m in \u001b[0;36mfunc_wrapped\u001b[0;34m(params)\u001b[0m\n\u001b[1;32m    454\u001b[0m     \u001b[0;32mif\u001b[0m \u001b[0mtransform\u001b[0m \u001b[0;32mis\u001b[0m \u001b[0;32mNone\u001b[0m\u001b[0;34m:\u001b[0m\u001b[0;34m\u001b[0m\u001b[0;34m\u001b[0m\u001b[0m\n\u001b[1;32m    455\u001b[0m         \u001b[0;32mdef\u001b[0m \u001b[0mfunc_wrapped\u001b[0m\u001b[0;34m(\u001b[0m\u001b[0mparams\u001b[0m\u001b[0;34m)\u001b[0m\u001b[0;34m:\u001b[0m\u001b[0;34m\u001b[0m\u001b[0;34m\u001b[0m\u001b[0m\n\u001b[0;32m--> 456\u001b[0;31m             \u001b[0;32mreturn\u001b[0m \u001b[0mfunc\u001b[0m\u001b[0;34m(\u001b[0m\u001b[0mxdata\u001b[0m\u001b[0;34m,\u001b[0m \u001b[0;34m*\u001b[0m\u001b[0mparams\u001b[0m\u001b[0;34m)\u001b[0m \u001b[0;34m-\u001b[0m \u001b[0mydata\u001b[0m\u001b[0;34m\u001b[0m\u001b[0;34m\u001b[0m\u001b[0m\n\u001b[0m\u001b[1;32m    457\u001b[0m     \u001b[0;32melif\u001b[0m \u001b[0mtransform\u001b[0m\u001b[0;34m.\u001b[0m\u001b[0mndim\u001b[0m \u001b[0;34m==\u001b[0m \u001b[0;36m1\u001b[0m\u001b[0;34m:\u001b[0m\u001b[0;34m\u001b[0m\u001b[0;34m\u001b[0m\u001b[0m\n\u001b[1;32m    458\u001b[0m         \u001b[0;32mdef\u001b[0m \u001b[0mfunc_wrapped\u001b[0m\u001b[0;34m(\u001b[0m\u001b[0mparams\u001b[0m\u001b[0;34m)\u001b[0m\u001b[0;34m:\u001b[0m\u001b[0;34m\u001b[0m\u001b[0;34m\u001b[0m\u001b[0m\n",
      "\u001b[0;31mTypeError\u001b[0m: Voigt() missing 2 required positional arguments: 'b2' and 'c2'"
     ]
    },
    {
     "data": {
      "image/png": "[encoded data removed]",
      "text/plain": [
       "<Figure size 432x288 with 1 Axes>"
      ]
     },
     "metadata": {
      "needs_background": "light"
     },
     "output_type": "display_data"
    }
   ],
   "source": [
    "#We'll also give an initial guess for our fits based off of a visual interpretaion of our data but add our fourth parameter \n",
    "p0 = [0.5,250, 1, 0.2,250, 1, 0.2]#save different \n",
    "#FEEDBACK it would be great if we could automate this initial guess based off of the data we have. Do you have thoughts on how we could do that?\\n\",\n",
    "\n",
    "#Use scipy.optimize.curve_fit to fit our desired data\n",
    "#popt, pcov = curve_fit(Voigt, q_sub, perov_fit, p0)\n",
    "\n",
    "#%%\n",
    "intensity_V = np.zeros((num_frames))\n",
    "lattice_V= np.zeros((num_frames))\n",
    "# %%\n",
    "\n",
    "\n",
    "#guassian fits with plotting\n",
    "#pick fitting and initial guess\n",
    "i = 1#number of fits \n",
    "j = 16#number of frames \n",
    "p0 = [0.5,250, 1, 0.2,250, 1, 0.2]\n",
    "plt.plot(np.array(q_sub), int_correct[:,j],color='black')\n",
    "\n",
    "if i==1:#if you only want one fit\n",
    "    popt, pcov = curve_fit(Voigt, np.array(q_sub), int_correct[:,j], p0[0:7])\n",
    "    Vx=np.array(q_sub)\n",
    "    Vy=voigt(np.array(q_sub),*popt)\n",
    "    plt.plot(Vx, Vy)#fitted curve\n",
    "    plt.plot(np.array(q_sub), int_correct[:,j],color='black')# original curve\n",
    "    print('lattice spacing:', [2*math.pi/popt[1]])\n",
    "    intensity_V[j] = popt[0]\n",
    "    lattice_V[j] = 2*math.pi/popt[1] \n",
    "\n",
    "print(popt)\n",
    "plt.xlabel('Q')\n",
    "plt.ylabel('Intensity')\n",
    "\n"
   ]
  },
  {
   "cell_type": "markdown",
   "metadata": {},
   "source": [
    "# Exercise 2\n",
    "Instead of fitting to the (100) peak, we'll often look at the (200) peak for better resolution. Create a new piece of code that succesfully finds the lattice parameter using the (200) peak instead. Do you have a more accurate prediction using the (200) peak? Remember, you will have to update your data limits for this to run succesfully.\n",
    "\n",
    "You'll notice your lattice is of by a factor of 2, why do you think that happened? Youll have to change that piece to get the correct lattice."
   ]
  },
  {
   "cell_type": "code",
   "execution_count": null,
   "metadata": {},
   "outputs": [],
   "source": []
  },
  {
   "cell_type": "markdown",
   "metadata": {},
   "source": [
    "# Introduction quantifying uncertainty for accurate curve fitting\n",
    "Looking back at how good of a fit our different models curve to the data, we are interested in analysing the quality of the fit. CurveFit returns a useful pcov matrix, from which the standard deviation of each fitting parameter can be computed as follwed:"
   ]
  },
  {
   "cell_type": "code",
   "execution_count": 47,
   "metadata": {},
   "outputs": [
    {
     "ename": "ValueError",
     "evalue": "operands could not be broadcast together with shapes (76,) (29,) ",
     "output_type": "error",
     "traceback": [
      "\u001b[0;31m---------------------------------------------------------------------------\u001b[0m",
      "\u001b[0;31mValueError\u001b[0m                                Traceback (most recent call last)",
      "\u001b[0;32m<ipython-input-47-eb2eabfac20d>\u001b[0m in \u001b[0;36m<module>\u001b[0;34m\u001b[0m\n\u001b[1;32m     10\u001b[0m \u001b[0;34m\u001b[0m\u001b[0m\n\u001b[1;32m     11\u001b[0m \u001b[0;31m# Calculate the residuals   q_sub\u001b[0m\u001b[0;34m\u001b[0m\u001b[0;34m\u001b[0m\u001b[0;34m\u001b[0m\u001b[0m\n\u001b[0;32m---> 12\u001b[0;31m \u001b[0mres\u001b[0m \u001b[0;34m=\u001b[0m \u001b[0mgaussian\u001b[0m\u001b[0;34m(\u001b[0m\u001b[0mnp\u001b[0m\u001b[0;34m.\u001b[0m\u001b[0marray\u001b[0m\u001b[0;34m(\u001b[0m\u001b[0mq_sub\u001b[0m\u001b[0;34m)\u001b[0m \u001b[0;34m-\u001b[0m \u001b[0mintensity_G\u001b[0m\u001b[0;34m)\u001b[0m\u001b[0;34m\u001b[0m\u001b[0;34m\u001b[0m\u001b[0m\n\u001b[0m\u001b[1;32m     13\u001b[0m \u001b[0;31m#FEEDBACK residual is difference between fit (gaussian) and experimentla data (intensity of diffracion)\u001b[0m\u001b[0;34m\u001b[0m\u001b[0;34m\u001b[0m\u001b[0;34m\u001b[0m\u001b[0m\n\u001b[1;32m     14\u001b[0m \u001b[0;31m#power_law( int_correct[:,j]), *popt\u001b[0m\u001b[0;34m\u001b[0m\u001b[0;34m\u001b[0m\u001b[0;34m\u001b[0m\u001b[0m\n",
      "\u001b[0;31mValueError\u001b[0m: operands could not be broadcast together with shapes (76,) (29,) "
     ]
    }
   ],
   "source": [
    "# Function to calculate the power-law well use to calculate residuals with constants a and b\n",
    "#def power_law(x, a, b): #commonly use model: y= ax^b \n",
    "    #return a*np.power(x, b)\n",
    "\n",
    "p0 = [250, 1, 0.2] #Initial guess of parameters for Gaussian fit \n",
    "popt, pcov = curve_fit(gaussian, np.array(q_sub), int_correct[:,j], p0[0:3]) #Return co-effs for fit and covariance\n",
    "\n",
    "# Get the standard deviations of the parameters (square roots of the # diagonal of the covariance)\n",
    "stdevs = np.sqrt(np.diag(pcov))#‘Parameter A is %f (%f uncertainty)% (popt[0], np.sqrt(pcov[0, 0]))\n",
    "\n",
    "# Calculate the residuals   q_sub\n",
    "res = gaussian(np.array(q_sub) - intensity_G)  \n",
    "#FEEDBACK residual is difference between fit (gaussian) and experimentla data (intensity of diffracion) \n",
    "#power_law( int_correct[:,j]), *popt\n",
    "print(stdevs)\n",
    "print(popt)"
   ]
  },
  {
   "cell_type": "markdown",
   "metadata": {},
   "source": [
    "# Exercise 3\n",
    "Use the skills youve learned so far on uncertainty to deduce wheter Pseudo-Voigt is a better curve fitting model by comparing it to Gaussian fit:\n",
    "Then compare Lorentzian fit to Pseudo-Voigt:"
   ]
  },
  {
   "cell_type": "code",
   "execution_count": null,
   "metadata": {},
   "outputs": [],
   "source": []
  },
  {
   "cell_type": "code",
   "execution_count": null,
   "metadata": {},
   "outputs": [],
   "source": []
  }
 ],
 "metadata": {
  "kernelspec": {
   "display_name": "Python 3",
   "language": "python",
   "name": "python3"
  },
  "language_info": {
   "codemirror_mode": {
    "name": "ipython",
    "version": 3
   },
   "file_extension": ".py",
   "mimetype": "text/x-python",
   "name": "python",
   "nbconvert_exporter": "python",
   "pygments_lexer": "ipython3",
   "version": "3.7.3"
  }
 },
 "nbformat": 4,
 "nbformat_minor": 2
}
