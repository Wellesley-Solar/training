{
 "cells": [
  {
   "cell_type": "markdown",
   "metadata": {},
   "source": [
    "# Wellesley College, Physics 202 Lab\n",
    "### Fall 2016\n",
    "\n",
    "### Lauri Wardell and Jerome Fung\n",
    "\n",
    "# Introduction\n",
    "\n",
    "Welcome to Physics 202 Lab! Our primary learning goals for you in this lab are twofold:\n",
    "\n",
    "* Give you hands-on experimental experience with the phenomena of thermal and quantum physics you'll be studying in class \n",
    "* Develop and refine your skills as an experimental physicist\n",
    "\n",
    "In your previous labs in PHYS 107 & 108, you've probably had some experience with designing experiments, building apparatus, and communicating your results. But another very important thing experimental physicists need to be able to do is to *construct mathematical models of experimental setups or physical phenomena* and *fit mathematical models to data.* Developing and practicing this skill will be on of the emphases of our first few labs this semester.\n",
    "\n",
    "Fitting models to data is almost always a task for a computer -- in virtually all cases, the necessary calculations are simply too tedious to do by hand. We will introduce some Python tools for doing these tasks, as well as an environment, the Jupyter notebook, that is excellent for analyzing scientific data. \n",
    "\n",
    "You may have had some experience with Python simulations in PHYS 107 & 108 or with Python programming in a computer science class. But don't worry if you haven't -- your instructors and classmates are here to help, and we hope you'll find that the Python software ecosystem is easy-to-learn and user-friendly."
   ]
  },
  {
   "cell_type": "markdown",
   "metadata": {},
   "source": [
    "# Installing a scientific Python distribution\n",
    "\n",
    "As a general-purpose programming language, Python itself has few useful built-in tools for visualizing and analyzing data. However, scientific packages for Python such as [numpy](http://www.numpy.org/), [scipy](http://scipy.org/), and [matplotlib](http://matplotlib.org/) provide a very powerful suite of tools that have found widespread use in physics, astronomy, quantitative biology, data science, and many other areas.\n",
    "\n",
    "By far the easiest way to get up and running with scientific Python and all the tools you need is to install a *distribution*. We strongly recommend [Anaconda](https://www.continuum.io/downloads), which is free and open source. Note that you will need to download Anaconda even if you've previously had Python or VPython set up on your computer. Of course, if you've already installed Anaconda for some other purpose, you can ignore what follows.\n",
    "\n"
   ]
  },
  {
   "cell_type": "code",
   "execution_count": null,
   "metadata": {
    "collapsed": true
   },
   "outputs": [],
   "source": []
  }
 ],
 "metadata": {
  "kernelspec": {
   "display_name": "Python [conda env:py35]",
   "language": "python",
   "name": "conda-env-py35-py"
  },
  "language_info": {
   "codemirror_mode": {
    "name": "ipython",
    "version": 3
   },
   "file_extension": ".py",
   "mimetype": "text/x-python",
   "name": "python",
   "nbconvert_exporter": "python",
   "pygments_lexer": "ipython3",
   "version": "3.5.2"
  }
 },
 "nbformat": 4,
 "nbformat_minor": 1
}
