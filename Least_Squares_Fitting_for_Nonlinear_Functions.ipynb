{
 "cells": [
  {
   "cell_type": "markdown",
   "metadata": {},
   "source": [
    "## Least Squares Fitting for Nonlinear Functions "
   ]
  },
  {
   "cell_type": "markdown",
   "metadata": {},
   "source": [
    "Often in physics one will come across a set of data that theoretically fit a nonlinear model. In this case, it is necessary to use computational techniques in order to determine the least squares fitting curve, as such a model is difficult or impossible to solve analytically. Before we get into the computation itself, though, it is helpful to understand the math behind the computation. For the technique below, it is assumed that we can approximate a set of guess parameters and estimate about how far off they could be."
   ]
  },
  {
   "cell_type": "markdown",
   "metadata": {},
   "source": [
    "## Solving for a general least squares model"
   ]
  },
  {
   "cell_type": "markdown",
   "metadata": {},
   "source": [
    "In least squares, we try to minimize the squares of the difference between a best fit model and the data we have. This is minimizing the function\n",
    "$$\n",
    "\\chi^2 = \\sum_{i=1}^{N}(x_i - f(t_i: \\lambda_1 ... \\lambda_M))^2\n",
    "$$\n",
    "where $(t_i, x_i)$ are our $N$ number data points and ${\\lambda_1...\\lambda_M}$ is our set of $M$ parameters for the best fit model."
   ]
  },
  {
   "cell_type": "markdown",
   "metadata": {},
   "source": [
    "In order to do this, we differentiate $\\chi^2$ with respect to each parameter and set the result equal to zero. This results in a system of $M$ equations, as shown below.\n",
    "\n",
    "\\begin{align*}\n",
    "\\frac{\\partial\\chi^2}{\\partial\\lambda_1} &= -2\\sum_{i=1}^{N}(x_i - f(t_i: \\lambda_1 ... \\lambda_M))\\frac{\\partial f}{\\partial\\lambda_1}=0 \\\\\n",
    "\\frac{\\partial\\chi^2}{\\partial\\lambda_2} &= -2\\sum_{i=1}^{N}(x_i - f(t_i: \\lambda_1 ... \\lambda_M))\\frac{\\partial f}{\\partial\\lambda_2}=0\\\\\n",
    "...\\\\\n",
    "\\frac{\\partial\\chi^2}{\\partial\\lambda_M} &= -2\\sum_{i=1}^{N}(x_i - f(t_i: \\lambda_1 ... \\lambda_M))\\frac{\\partial f}{\\partial\\lambda_M}=0\n",
    "\\end{align*}"
   ]
  },
  {
   "cell_type": "markdown",
   "metadata": {},
   "source": [
    "Since the partial derivatives $\\partial f/\\partial\\lambda_1 ... \\partial f/\\partial\\lambda_M$ are not predictably zero, we must find where $x_i - f(t_i : \\lambda_1 ... \\lambda_M) = 0$."
   ]
  },
  {
   "cell_type": "markdown",
   "metadata": {},
   "source": [
    "We can rewrite\n",
    "$$\n",
    "x_i - f(t_i : \\lambda_1 ... \\lambda_M) = 0\n",
    "$$\n",
    "as\n",
    "$$\n",
    "x_i = f(t_i : \\lambda_1 ... \\lambda_M),\n",
    "$$\n",
    "\n",
    "but we know that right now, that isn't the case; instead,\n",
    "$$\n",
    "x_i = f(t_i : \\lambda_1 ... \\lambda_M) + C_i,\n",
    "$$\n",
    "where $C_i$ is some constant that is different for every data point."
   ]
  },
  {
   "cell_type": "markdown",
   "metadata": {},
   "source": [
    "It turns out that we know $C_i$ from multivariable calculus, since what we are doing now is a linearization of $x_i - f(t_i : \\lambda_1 ... \\lambda_M) = 0$.\n",
    "\n",
    "$$\n",
    "C_i =  \\sum_{j=1}^M \\frac{\\partial f_i}{\\partial\\lambda_j}a_j\n",
    "$$\n",
    "where $a_j$ is the amount $\\lambda_j$ must change for the right side of the equation to equal $x_i$."
   ]
  },
  {
   "cell_type": "markdown",
   "metadata": {},
   "source": [
    "Computationally, \n",
    "$$\n",
    "\\frac{\\partial f_i}{\\partial\\lambda_j} = \\frac{f(t_i: \\lambda_1 ... \\lambda_j + \\Delta\\lambda_j ... \\lambda_M)-f(t_i: \\lambda_1 ... \\lambda_j ... \\lambda_M)}{\\Delta\\lambda_j}\n",
    "$$\n",
    "where $\\Delta\\lambda_j$ is some finite change in $\\lambda_j$. However, this is susceptible to roundoff error since $\\lambda_j$ could be very small, so instead it is typical to define $b_j$ as $a_j/\\Delta\\lambda_j$ and write the equation as\n",
    "\n",
    "$$\n",
    "x_i = f(t_i: \\lambda_1 ... \\lambda_M) + \\sum_{j=1}^M [(f(t_i: \\lambda_1 ... \\lambda_j + \\Delta\\lambda_j ... \\lambda_M)-f(t_i: \\lambda_1 ... \\lambda_j ... \\lambda_M))b_j]\n",
    "$$\n",
    "or more neatly,\n",
    "$$\n",
    "\\Delta x_i = \\sum_{j=1}^M \\Delta f_i b_j\n",
    "$$\n",
    "where $\\Delta x_i$ is the difference between the data and the model and $\\Delta f_i$ is $f(t_i: \\lambda_1 ... \\lambda_j + \\Delta\\lambda_j ... \\lambda_M)-f(t_i: \\lambda_1 ... \\lambda_j ... \\lambda_M)$."
   ]
  },
  {
   "cell_type": "markdown",
   "metadata": {},
   "source": [
    "Once all the data points are taken into account, these turn into matrices, with\n",
    "\n",
    "$$\n",
    "\\mathbf{\\Delta x} = \\begin{pmatrix} \\Delta x_1 \\\\ \\Delta x_2 \\\\ \\vdots \\\\ \\Delta x_N\n",
    "\\end{pmatrix}\n",
    "$$"
   ]
  },
  {
   "cell_type": "markdown",
   "metadata": {},
   "source": [
    "$$\n",
    "\\mathbf{A} = \\begin{pmatrix} \\Delta f_1(t_1) & ... & \\Delta f_M (t_1) \\\\ \\Delta f_1(t_2) & ... & \\Delta f_M (t_2)  \\\\ \\vdots & \\ddots & \\vdots \\\\ \\Delta f_1(t_N) & ... & \\Delta f_M (t_N) \n",
    "\\end{pmatrix}\n",
    "$$\n",
    "\n",
    "and\n",
    "\n",
    "$$\n",
    "\\mathbf{b} =  \\begin{pmatrix} b_1 \\\\ \\vdots \\\\ b_M \\end{pmatrix}\n",
    "$$\n",
    "\n",
    "making the equation\n",
    "\n",
    "$$\n",
    "\\mathbf{\\Delta x} = \\mathbf{A} \\mathbf{b}\n",
    "$$"
   ]
  },
  {
   "cell_type": "markdown",
   "metadata": {},
   "source": [
    "$\\mathbf{A}$ is referred to as the design matrix."
   ]
  },
  {
   "cell_type": "markdown",
   "metadata": {},
   "source": [
    "We can approximate the design matrix from our guess parameters, with $\\Delta\\lambda_j$ being our estimate for how off our guess parameters are. Therefore we want to solve for $\\mathbf{b}$."
   ]
  },
  {
   "cell_type": "markdown",
   "metadata": {},
   "source": [
    "However, since $\\mathbf{A}$ is not a square matrix, we can't simply find its inverse. First we must multiply both sides by the transpose of $\\mathbf{A}$.\n",
    "\n",
    "$$\n",
    "\\mathbf{A^T} \\mathbf{\\Delta x} = \\mathbf{A^T} \\mathbf{A} \\mathbf{b}\n",
    "$$\n",
    "\n",
    "Then, in finding the inverse of $\\mathbf{A^TA}$, we can finally solve for $\\mathbf{b}$."
   ]
  },
  {
   "cell_type": "markdown",
   "metadata": {},
   "source": [
    "Since we earlier defined $b_j$ as $a_j/\\Delta\\lambda_j$, and $a_j$ is how far off from the best fit model our parameters are, we can then say that $\\lambda_{j (best)} = \\lambda_{j (guess)} + b_j \\Delta\\lambda_j$, which is true for each parameter in our model."
   ]
  },
  {
   "cell_type": "markdown",
   "metadata": {},
   "source": [
    "Note that since we used guess parameters to calculate $\\mathbf{A}$, our determinations of the least squares fitting parameters may not be exact. If higher precision is required, one can iterate through this process multiple times until values in $\\mathbf{b}$ are very small, at which point the least squares function has reached a more precise approximate minimum."
   ]
  },
  {
   "cell_type": "markdown",
   "metadata": {
    "collapsed": true
   },
   "source": [
    "### The Covariance Matrix"
   ]
  },
  {
   "cell_type": "markdown",
   "metadata": {},
   "source": [
    "The covariance matrix, which is a square matrix that gives [covariances](https://en.wikipedia.org/wiki/Covariance) between parameters $1$ to $M$ at indices $1$ through $M$ (and therefore gives the [variances](https://en.wikipedia.org/wiki/Variance) on the diagonal), can be determined by first dividing each row of the design matrix by the vector $\\mathbf{\\Delta\\lambda}$ of our estimate for how far off our guess parameters are from the best fit model. This produces a matrix $\\mathbf{D}$ where\n",
    "\n",
    "$$\n",
    "\\mathbf{D} = \\begin{pmatrix} \\frac{\\Delta f_1(t_0)}{\\Delta\\lambda_1} & ... & \\frac{\\Delta f_M (t_0)}{\\Delta\\lambda_M} \\\\ \\frac{\\Delta f_1(t_1)}{\\Delta\\lambda_1} & ... & \\frac{\\Delta f_M (t_1)}{\\Delta\\lambda_M}  \\\\ \\vdots & \\ddots & \\vdots \\\\ \\frac{\\Delta f_1(t_N)}{\\Delta\\lambda_1} & ... & \\frac{\\Delta f_M (t_N)}{\\Delta\\lambda_M} \\end{pmatrix}.\n",
    "$$\n",
    "\n",
    "The covariance matrix $\\mathbf{C}$ is then related to $\\mathbf{D}$ by\n",
    "\n",
    "$$\n",
    "\\mathbf{C} = \\mathbf{(D^T}\\mathbf{D)^{-1}}.\n",
    "$$"
   ]
  },
  {
   "cell_type": "markdown",
   "metadata": {},
   "source": [
    "### Extensions"
   ]
  },
  {
   "cell_type": "markdown",
   "metadata": {},
   "source": [
    "$\\bullet$ It is possible to use the above method for finding the best fitting parameters to a data set that does not follow an explicit analytic function. For example, if the data follows a given differential equation but the equation is not solvable analytically, the model \"function\" one uses for least squares fitting can actually be a numeric integration technique that solves the differential equation, resulting in a model data set.\n",
    "\n",
    "$\\bullet$ It can sometimes be useful to freeze a few of the parameters inputted into the least squares fitting so that those parameters do not vary while finding the best fit. For example, if we are fitting a curve to a data set measuring position of a particle, and we know that the particle started at the origin, we may want to ensure that the model data set has the initial position at 0. This could be implemented by setting the parameter's guess step size to zero, although doing so requires some extra code so that the program does not try to divide elements by the step size of 0 and does not try to still include the frozen parameter in the design matrix; it is also implementable through a list of booleans corresponding to whether or not a $j$th parameter is frozen.\n",
    "\n",
    "$\\bullet$ It is also worth considering user interfaces – how a user will input the guess parameters and where the user will be able to access the final results. This is often easily implemented through text files.\n",
    "\n",
    "$\\bullet$ Consider storing a generic implementation of nonlinear least squares fitting in your personal python library so that you can use it easily for a variety of data sets and model functions."
   ]
  },
  {
   "cell_type": "markdown",
   "metadata": {},
   "source": [
    "### Note "
   ]
  },
  {
   "cell_type": "markdown",
   "metadata": {},
   "source": [
    "For nonlinear least squares fitting, it is possible that there will be multiple minima to $\\chi^2$. This means that it can produce terrible fits if the guess parameters and step sizes are not accurate enough. Thus it is vital that these estimations are as accurate as possible. It can be helpful to first try to fit a few curves by hand so that you can have a good understanding of the approximate parameters needed."
   ]
  },
  {
   "cell_type": "markdown",
   "metadata": {},
   "source": [
    "## A Computational Example: Nonlinear Least Squares Fitting for a Mass on a Spring"
   ]
  },
  {
   "cell_type": "markdown",
   "metadata": {},
   "source": [
    "### Setting Up Our Data and Parameters "
   ]
  },
  {
   "cell_type": "code",
   "execution_count": 1,
   "metadata": {
    "collapsed": true
   },
   "outputs": [],
   "source": [
    "# Imports that will be used in code\n",
    "\n",
    "import numpy as np # For more refined numeric operations\n",
    "import matplotlib.pyplot as plt # For graphing\n",
    "# For showing the graphs inline of the notebook\n",
    "%matplotlib inline"
   ]
  },
  {
   "cell_type": "markdown",
   "metadata": {},
   "source": [
    "Imagine that we have a set of data for time and position of a mass on a Hookian spring. I have compuationally generated such a data set and added some variation in the position so that the least squares fitting cannot come up with a perfect fit."
   ]
  },
  {
   "cell_type": "code",
   "execution_count": 2,
   "metadata": {
    "collapsed": false
   },
   "outputs": [],
   "source": [
    "# Retrieves data set from file\n",
    "data = np.genfromtxt(\"/Users/Hope/Desktop/MassOnSpring.txt\")\n",
    "time = data[0]\n",
    "data_position = data[1]"
   ]
  },
  {
   "cell_type": "markdown",
   "metadata": {},
   "source": [
    "Now we need a model to which to fit our data. We know from introductory physics that the force $F$ generated by a Hookian spring is given by \n",
    "$$\n",
    "F = -kx,\n",
    "$$\n",
    "which, when combined with Newton's second law, gives us the equation of motion\n",
    "$$\n",
    "a = -\\frac{k}{m} x.\n",
    "$$\n",
    "It would be possible to use numerical integration techniques with this equation of motion to generate our model fit for least squares fitting, but for now we will analytically solve this to get the result\n",
    "$$\n",
    "x(t) = x_0\\cos(\\omega t) + \\frac{v_0}{\\omega}\\sin(\\omega t),\n",
    "$$\n",
    "where $x_0$ is initial position, $v_0$ is initial velocity, and $\\omega$ is angular frequency $\\sqrt{k/m}$."
   ]
  },
  {
   "cell_type": "markdown",
   "metadata": {},
   "source": [
    "We will define this in python as the function SMH_pos. For convinience later on, $\\omega$, $x_0$, and $v_0$ will be passed in as a list of parameters."
   ]
  },
  {
   "cell_type": "code",
   "execution_count": 3,
   "metadata": {
    "collapsed": true
   },
   "outputs": [],
   "source": [
    "# parameter list: [omega, initial position, initial velocity]\n",
    "def SMH_pos(time,parameters):\n",
    "    omega = parameters[0]\n",
    "    init_pos = parameters[1]\n",
    "    init_vel = parameters[2]\n",
    "    return init_pos*np.cos(omega*time) + init_vel/omega * np.sin(omega * time)"
   ]
  },
  {
   "cell_type": "markdown",
   "metadata": {},
   "source": [
    "We also need some guess parameters so that we can run least squares. Let's plot our data to get a good estimate."
   ]
  },
  {
   "cell_type": "code",
   "execution_count": 4,
   "metadata": {
    "collapsed": false,
    "scrolled": true
   },
   "outputs": [
    {
     "data": {
      "text/plain": [
       "<matplotlib.text.Text at 0x110d38438>"
      ]
     },
     "execution_count": 4,
     "metadata": {},
     "output_type": "execute_result"
    },
    {
     "data": {
      "image/png": "[encoded data removed]",
      "text/plain": [
       "<matplotlib.figure.Figure at 0x110cea4a8>"
      ]
     },
     "metadata": {},
     "output_type": "display_data"
    }
   ],
   "source": [
    "plt.plot(time,data_position,\"r*\")\n",
    "plt.xlabel(\"Time [s]\")\n",
    "plt.ylabel(\"Position [m]\")\n",
    "plt.title(\"Position for a Mass on a Spring\")"
   ]
  },
  {
   "cell_type": "markdown",
   "metadata": {},
   "source": [
    "It looks like the plot has a period of about $2\\pi$, so let's guess that $\\omega\\approx1$. The initial position looks to be around -2.0 or so, and while inital velocity is harder to estimate without some calculations, let's guess that it's around 1. So we have our guess parameters at\n",
    "\n",
    "$$\n",
    "\\omega\\approx1\\qquad x_0\\approx-2.0\\qquad v_0\\approx1,\n",
    "$$\n",
    "\n",
    "and let's say our guesses are all off by .1 or so."
   ]
  },
  {
   "cell_type": "code",
   "execution_count": 5,
   "metadata": {
    "collapsed": true
   },
   "outputs": [],
   "source": [
    "guess_parameters = [1,-2.0,1.0]\n",
    "guess_step_size = [.1,.1,.1]"
   ]
  },
  {
   "cell_type": "markdown",
   "metadata": {},
   "source": [
    "Now we can actually start the calculations."
   ]
  },
  {
   "cell_type": "markdown",
   "metadata": {},
   "source": [
    "### Running Least Squares"
   ]
  },
  {
   "cell_type": "markdown",
   "metadata": {},
   "source": [
    "Let's start by calculating the $\\mathbf{\\Delta x}$ vector, where\n",
    "\n",
    "$$\n",
    "\\Delta x_i = x_i - f(t_i: \\lambda_1 ... \\lambda_M)\n",
    "$$"
   ]
  },
  {
   "cell_type": "code",
   "execution_count": 6,
   "metadata": {
    "collapsed": false
   },
   "outputs": [],
   "source": [
    "change_in_pos = data_position - SMH_pos(time,guess_parameters)\n",
    "#change_in_pos = np.transpose(change_in_pos)"
   ]
  },
  {
   "cell_type": "markdown",
   "metadata": {},
   "source": [
    "And now we'll calculate the design matrix by looping through the different parameters and incrementing them separately, thereby calculating each column of the design matrix."
   ]
  },
  {
   "cell_type": "code",
   "execution_count": 7,
   "metadata": {
    "collapsed": false
   },
   "outputs": [],
   "source": [
    "# Creates the design matrix so we can use it in the loop; np.zeros() is useful for this.\n",
    "design = np.zeros((len(data[0]),len(guess_parameters)))\n",
    "\n",
    "# Loops through each parameter\n",
    "for j in range(len(guess_parameters)):\n",
    "    \n",
    "    # Calculates the parameter list with one changed by the guess step size\n",
    "    parameters_with_one_inc = list(guess_parameters)  # Must create a copy of guess_parameters due to object reference\n",
    "    parameters_with_one_inc[j] += guess_step_size[j]\n",
    "    \n",
    "    # Calculates the change in the model function and puts it in the design matrix\n",
    "    \n",
    "    # Transposition (which can be done with np.transpose) is necessary in following lines because we want a column \n",
    "    # of the design matrix, while one-dimensional lists in python correspond to rows of two-dimensional arrays.\n",
    "    model_function_with_inc = np.transpose(SMH_pos(time,parameters_with_one_inc)) \n",
    "    model_function_with_normal_parameters = np.transpose(SMH_pos(time,guess_parameters))\n",
    "    design_column = model_function_with_inc - model_function_with_normal_parameters\n",
    "    # The array indexing notation [row,column] works for numpy arrays such as design. The : is from python array \n",
    "    # slicing and indicates that we want the elements from all row indices.\n",
    "    design[:,j] = design_column\n",
    " "
   ]
  },
  {
   "cell_type": "markdown",
   "metadata": {},
   "source": [
    "Then, calculating the transpose is trivial because of the [np.transpose](https://docs.scipy.org/doc/numpy-1.12.0/reference/generated/numpy.transpose.html) method."
   ]
  },
  {
   "cell_type": "code",
   "execution_count": 8,
   "metadata": {
    "collapsed": false
   },
   "outputs": [],
   "source": [
    "design_t = np.transpose(design)"
   ]
  },
  {
   "cell_type": "markdown",
   "metadata": {},
   "source": [
    "To solve for $\\mathbf{b}$, we will use [np.linalg.solve](https://docs.scipy.org/doc/numpy/reference/generated/numpy.linalg.solve.html), because the values in the design matrix could be small enough that numerical matrix inversion would lead to less precision. The np.dot method performs matrix multiplication."
   ]
  },
  {
   "cell_type": "code",
   "execution_count": 9,
   "metadata": {
    "collapsed": true
   },
   "outputs": [],
   "source": [
    "b = np.linalg.solve(np.dot(design_t,design),np.dot(design_t,change_in_pos))"
   ]
  },
  {
   "cell_type": "markdown",
   "metadata": {},
   "source": [
    "Finally, we calculate the best fit parameters from $\\mathbf{b}$."
   ]
  },
  {
   "cell_type": "code",
   "execution_count": 10,
   "metadata": {
    "collapsed": true
   },
   "outputs": [],
   "source": [
    "best_fit_parameters = guess_parameters + b*guess_step_size"
   ]
  },
  {
   "cell_type": "markdown",
   "metadata": {},
   "source": [
    "Then, we can plot the curve with the data to see how well the fitting worked."
   ]
  },
  {
   "cell_type": "code",
   "execution_count": 11,
   "metadata": {
    "collapsed": false
   },
   "outputs": [
    {
     "data": {
      "text/plain": [
       "<matplotlib.legend.Legend at 0x1140e2390>"
      ]
     },
     "execution_count": 11,
     "metadata": {},
     "output_type": "execute_result"
    },
    {
     "data": {
      "image/png": "[encoded data removed]",
      "text/plain": [
       "<matplotlib.figure.Figure at 0x110cd0b70>"
      ]
     },
     "metadata": {},
     "output_type": "display_data"
    }
   ],
   "source": [
    "plt.plot(time,data_position,\"r*\",label=\"data\")\n",
    "plt.plot(time,SMH_pos(time,best_fit_parameters),label='best fit')\n",
    "plt.xlabel(\"Time [s]\")\n",
    "plt.ylabel(\"Position [m]\")\n",
    "plt.title(\"Mass on a Spring Data Plus Best Fit\")\n",
    "# A useful function for showing the legend of a graph\n",
    "plt.legend(bbox_to_anchor=(1.05, 1), loc=2, borderaxespad=0.)"
   ]
  },
  {
   "cell_type": "markdown",
   "metadata": {},
   "source": [
    "So our fit is pretty okay, but could be a lot better. It's likely that we just need to iterate through our least squares fitting a few more times to produce a more accurate result. I will set up this loop with the condition to stop running once the amount the parameters have to change ($b_j \\Delta\\lambda_j$) is less than .1% of the given parameter value."
   ]
  },
  {
   "cell_type": "code",
   "execution_count": 12,
   "metadata": {
    "collapsed": false
   },
   "outputs": [],
   "source": [
    "loop_should_reiterate = True\n",
    "\n",
    "while(loop_should_reiterate):\n",
    "    change_in_pos = data_position - SMH_pos(time,guess_parameters)\n",
    "\n",
    "    # Creates the design matrix so we can use it in the loop; np.zeros() is useful for this.\n",
    "    design = np.zeros((len(data[0]),len(guess_parameters)))\n",
    "\n",
    "    # Loops through each parameter\n",
    "    for j in range(len(guess_parameters)):\n",
    "        parameters_with_one_inc = list(guess_parameters)# Must copy guess_parameters due to object reference\n",
    "        parameters_with_one_inc[j] += guess_step_size[j]\n",
    "        # Transposition (which can be done with np.transpose) is necessary in following lines because we want a column \n",
    "        # of the design matrix, while one-dimensional lists in python correspond to rows of two-dimensional arrays.\n",
    "        model_function_with_inc = np.transpose(SMH_pos(time,parameters_with_one_inc)) \n",
    "        model_function_with_normal_parameters = np.transpose(SMH_pos(time,guess_parameters))\n",
    "        design_column = model_function_with_inc - model_function_with_normal_parameters\n",
    "        # The array indexing notation [row,column] works for numpy arrays such as design. The : is from python array \n",
    "        # slicing and indicates that we want the elements from all row indices.\n",
    "        design[:,j] = design_column\n",
    "\n",
    "    design_t = np.transpose(design)\n",
    "    b = np.linalg.solve(np.dot(design_t,design),np.dot(design_t,change_in_pos))\n",
    "    best_fit_parameters = guess_parameters + b*guess_step_size\n",
    "    \n",
    "    # np.all checks the truth values of an entire array and returns True only if all values in the array are True.\n",
    "    if(np.all(abs(b*guess_step_size/guess_parameters)<.001)):\n",
    "        loop_should_reiterate = False\n",
    "        \n",
    "    # The reiteration will run the guess parameters as the best fit parameters it calculated from this iteration.\n",
    "    guess_parameters = best_fit_parameters\n"
   ]
  },
  {
   "cell_type": "markdown",
   "metadata": {},
   "source": [
    "Let's see if this fit is any better."
   ]
  },
  {
   "cell_type": "code",
   "execution_count": 13,
   "metadata": {
    "collapsed": false
   },
   "outputs": [
    {
     "data": {
      "text/plain": [
       "<matplotlib.legend.Legend at 0x1146534a8>"
      ]
     },
     "execution_count": 13,
     "metadata": {},
     "output_type": "execute_result"
    },
    {
     "data": {
      "image/png": "[encoded data removed]",
      "text/plain": [
       "<matplotlib.figure.Figure at 0x110cd0470>"
      ]
     },
     "metadata": {},
     "output_type": "display_data"
    }
   ],
   "source": [
    "plt.plot(time,data_position,\"r*\",label=\"data\")\n",
    "plt.plot(time,SMH_pos(time,best_fit_parameters),label=\"best fit\")\n",
    "plt.xlabel(\"Time [s]\")\n",
    "plt.ylabel(\"Position [m]\")\n",
    "plt.title(\"Data and Best Fit (with multiple iterations) for Mass on a Spring\")\n",
    "plt.legend(bbox_to_anchor=(1.05, 1), loc=2, borderaxespad=0.)"
   ]
  },
  {
   "cell_type": "markdown",
   "metadata": {},
   "source": [
    "Now, let's calculate our covariance matrix and see what it looks like compared to our best fit parameters."
   ]
  },
  {
   "cell_type": "code",
   "execution_count": 14,
   "metadata": {
    "collapsed": false
   },
   "outputs": [],
   "source": [
    "D = design/guess_step_size\n",
    "D_t = np.transpose(D)\n",
    "covariance = np.linalg.inv(np.dot(D_t,D))"
   ]
  },
  {
   "cell_type": "code",
   "execution_count": 15,
   "metadata": {
    "collapsed": false
   },
   "outputs": [
    {
     "name": "stdout",
     "output_type": "stream",
     "text": [
      "omega 0.92963799731\n",
      "initial position -2.09070107494\n",
      "initial velocity 1.2099432179\n",
      "\n",
      "   omega\t    initial position  initial velocity\n",
      "[[  1.97003250e-05  -5.46736661e-04  -8.47413168e-06]\n",
      " [ -5.46736661e-04   2.19042058e-02   2.11344150e-04]\n",
      " [ -8.47413168e-06   2.11344150e-04   5.71138835e-03]]\n"
     ]
    }
   ],
   "source": [
    "print(\"omega\",best_fit_parameters[0])\n",
    "print(\"initial position\",best_fit_parameters[1])\n",
    "print(\"initial velocity\",best_fit_parameters[2])\n",
    "print()\n",
    "print(\"   omega\\t    initial position  initial velocity\")\n",
    "print(covariance)"
   ]
  },
  {
   "cell_type": "markdown",
   "metadata": {},
   "source": [
    "Our covariance matrix looks reasonably small, so let's calculate deviations so we can express our final result."
   ]
  },
  {
   "cell_type": "code",
   "execution_count": 16,
   "metadata": {
    "collapsed": false
   },
   "outputs": [
    {
     "name": "stdout",
     "output_type": "stream",
     "text": [
      "omega standard deviation 0.00443850481292\n",
      "initial position standard deviation 0.148000695405\n",
      "initial velocity standard deviation 0.0755737279278\n"
     ]
    }
   ],
   "source": [
    "omega_dev = np.sqrt(covariance[0][0])\n",
    "init_pos_dev = np.sqrt(covariance[1][1])\n",
    "init_vel_dev = np.sqrt(covariance[2][2])\n",
    "print(\"omega standard deviation\",omega_dev)\n",
    "print(\"initial position standard deviation\",init_pos_dev)\n",
    "print(\"initial velocity standard deviation\",init_vel_dev)"
   ]
  },
  {
   "cell_type": "markdown",
   "metadata": {},
   "source": [
    "So our final result is\n",
    "$$\n",
    "\\omega = 0.930 \\pm .004 \\quad x_0 = -2.09 \\pm 0.15 \\quad v_0 = 1.21 \\pm 0.08\n",
    "$$"
   ]
  }
 ],
 "metadata": {
  "kernelspec": {
   "display_name": "Python 3",
   "language": "python",
   "name": "python3"
  },
  "language_info": {
   "codemirror_mode": {
    "name": "ipython",
    "version": 3
   },
   "file_extension": ".py",
   "mimetype": "text/x-python",
   "name": "python",
   "nbconvert_exporter": "python",
   "pygments_lexer": "ipython3",
   "version": "3.6.0"
  }
 },
 "nbformat": 4,
 "nbformat_minor": 2
}
