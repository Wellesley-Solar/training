{
 "cells": [
  {
   "cell_type": "code",
   "execution_count": 116,
   "metadata": {},
   "outputs": [],
   "source": [
    "import numpy as np"
   ]
  },
  {
   "cell_type": "markdown",
   "metadata": {},
   "source": [
    "## Python Lists"
   ]
  },
  {
   "cell_type": "markdown",
   "metadata": {},
   "source": [
    "A list is created using square brackets, with elements separate by comma. Some common functions of a list are given below.\n"
   ]
  },
  {
   "cell_type": "code",
   "execution_count": 117,
   "metadata": {},
   "outputs": [
    {
     "name": "stdout",
     "output_type": "stream",
     "text": [
      "[2, 8, 6, 4, 12]\n",
      "[2, 4, 6, 8, 12]\n",
      "[2, 6, 8, 12]\n"
     ]
    }
   ],
   "source": [
    "listA = [2,8,6,4,12]\n",
    "print(listA)\n",
    "\n",
    "listA.sort() #sorts your list from least to greatest value\n",
    "print(listA)\n",
    "\n",
    "listA.pop(1) #pop is a function used to temporarily delete the chosen index\n",
    "print(listA)\n"
   ]
  },
  {
   "cell_type": "markdown",
   "metadata": {},
   "source": [
    "### Slicing"
   ]
  },
  {
   "cell_type": "markdown",
   "metadata": {},
   "source": [
    "Python counts differently from us! While we count 1,2,3,4,5, Python counts 0,1,2,3,4,5. Therefore, Python indexing starts at 0. This means if you have a list [3,6,9,12], the first value 3 would have index 0. The second value, 6, would have index 1 and so on. See below for how to call certain values from a list."
   ]
  },
  {
   "cell_type": "code",
   "execution_count": 118,
   "metadata": {},
   "outputs": [
    {
     "name": "stdout",
     "output_type": "stream",
     "text": [
      "1\n",
      "2\n",
      "13\n"
     ]
    }
   ],
   "source": [
    "myList = [1,1,2,3,5,8,13]\n",
    "print(myList[0])\n",
    "\n",
    "print(myList[2])\n",
    "\n",
    "print(myList[-1]) #negative indexing counts from the end [-1] backwards\n"
   ]
  },
  {
   "cell_type": "markdown",
   "metadata": {},
   "source": [
    "To slice a range of values in your list, we use a colon. "
   ]
  },
  {
   "cell_type": "code",
   "execution_count": 119,
   "metadata": {},
   "outputs": [
    {
     "name": "stdout",
     "output_type": "stream",
     "text": [
      "[1, 1, 2, 3, 5, 8]\n",
      "[2, 3, 5, 8, 13]\n"
     ]
    }
   ],
   "source": [
    "myList = [1,1,2,3,5,8,13]\n",
    "\n",
    "print(myList[0:6]) #the first term in the list (0) to the second to last term; \n",
    "#note this function is not inclusive of the last index [6]\n",
    "\n",
    "print(myList[2:]) #from the third term in the list to the end of the list"
   ]
  },
  {
   "cell_type": "markdown",
   "metadata": {},
   "source": [
    "### Linspace, arange, zeros, oh my!"
   ]
  },
  {
   "cell_type": "markdown",
   "metadata": {},
   "source": [
    "Common NumPy functions to create a list are np.linspace and np.arange. They are very similar functions that can do the same thing.  Use whichever you prefer! These functions are helpful so you do not have to manually type out every list you want to make in Python.\n",
    "\n",
    "Linspace works with the function np.linspace(first#, last#, how many values between these two numbers).\n",
    "\n",
    "To make a list of zeros, simply use np.zeros(# of zeros you want).  This is a useful list when you want to use a for loop and fill in the zeros with values. "
   ]
  },
  {
   "cell_type": "code",
   "execution_count": 120,
   "metadata": {},
   "outputs": [
    {
     "name": "stdout",
     "output_type": "stream",
     "text": [
      "[ 1.  2.  3.  4.  5.  6.  7.  8.  9. 10.]\n"
     ]
    }
   ],
   "source": [
    "lin_list = np.linspace(1,10,10)\n",
    "print(lin_list)\n"
   ]
  },
  {
   "cell_type": "markdown",
   "metadata": {},
   "source": [
    "Arange works with the function np.arange(first#, last# + 1, increment of counting). \n",
    "\n",
    "You can use arange without specifying the first number and increment, too.  By default, arange will start counting at 0 and give you the specified number of indices. See below for clarification.  "
   ]
  },
  {
   "cell_type": "code",
   "execution_count": 121,
   "metadata": {},
   "outputs": [
    {
     "name": "stdout",
     "output_type": "stream",
     "text": [
      "[1 2 3 4 5 6 7 8 9]\n",
      "[ 2  4  6  8 10]\n",
      "[0 1 2 3 4 5 6 7 8 9]\n"
     ]
    }
   ],
   "source": [
    "arange_list = np.arange(1,10,1)\n",
    "print(arange_list)\n",
    "\n",
    "countby2 = np.arange(2,11,2)\n",
    "print(countby2)\n",
    "\n",
    "arange_list2 = np.arange(10) #notice how this list starts at 0 and ends on 9, giving you 10 indices\n",
    "print(arange_list2)"
   ]
  },
  {
   "cell_type": "code",
   "execution_count": 122,
   "metadata": {},
   "outputs": [
    {
     "name": "stdout",
     "output_type": "stream",
     "text": [
      "[0. 0. 0. 0. 0. 0. 0. 0.]\n",
      "[2. 2. 2. 2. 2. 2. 2. 2.]\n"
     ]
    }
   ],
   "source": [
    "zero_list = np.zeros(8)\n",
    "print(zero_list)\n",
    "\n",
    "zero_list2 = zero_list + 2\n",
    "print(zero_list2)"
   ]
  },
  {
   "cell_type": "markdown",
   "metadata": {},
   "source": [
    "### Practice"
   ]
  },
  {
   "cell_type": "markdown",
   "metadata": {},
   "source": [
    "Use linspace and arange to make a list counting from 0 to 15 counting by 3s [0,3,6,9,12,15]"
   ]
  },
  {
   "cell_type": "markdown",
   "metadata": {},
   "source": [
    "## For Loops"
   ]
  },
  {
   "cell_type": "markdown",
   "metadata": {},
   "source": [
    "A for loop is used for iterating over a sequence (such as a list, array, or string).  There are many ways to format a for loop, you can even have a for loop within a for loop! For this tutorial, we'll just concern ourselves with the basics of a for loop and the format we use for XRD analysis. "
   ]
  },
  {
   "cell_type": "markdown",
   "metadata": {},
   "source": [
    "#### range() function"
   ]
  },
  {
   "cell_type": "markdown",
   "metadata": {},
   "source": [
    "To loop through a set of code a specified number of times, we can use the range() function. The range function works very similarly to np.arange. \n",
    "\n",
    "The range() function returns a sequence of numbers, starting from 0 by default, and increments by 1 (by default), and ends at a specified number. You can put a specified number or variable within the parenthesis.  \n",
    "\n",
    "Always start a for loop with for.  Following for can be any variable, commonly x, i, and n, but you can use any variable that makes sense to you. Then we put our range() function followed by a colon.  "
   ]
  },
  {
   "cell_type": "code",
   "execution_count": 123,
   "metadata": {},
   "outputs": [
    {
     "name": "stdout",
     "output_type": "stream",
     "text": [
      "0\n",
      "1\n",
      "2\n",
      "3\n",
      "4\n",
      "5\n"
     ]
    }
   ],
   "source": [
    "#a simple for loop\n",
    "for x in range(6): #notice how the return starts at 0 and ends at 5, giving you 6 total indices\n",
    "    print(x)  "
   ]
  },
  {
   "cell_type": "code",
   "execution_count": 124,
   "metadata": {},
   "outputs": [
    {
     "name": "stdout",
     "output_type": "stream",
     "text": [
      "2\n",
      "3\n",
      "4\n",
      "5\n"
     ]
    }
   ],
   "source": [
    "for x in range(2,6): #you can specify you're starting value as well\n",
    "    print(x)"
   ]
  },
  {
   "cell_type": "code",
   "execution_count": 125,
   "metadata": {},
   "outputs": [
    {
     "name": "stdout",
     "output_type": "stream",
     "text": [
      "0\n",
      "1\n",
      "2\n",
      "3\n",
      "4\n",
      "5\n",
      "6\n",
      "7\n",
      "outside of the for loop = 7\n"
     ]
    }
   ],
   "source": [
    "lattice = np.zeros(8) \n",
    "\n",
    "for n in range(8):\n",
    "    lattice = lattice +1\n",
    "    print(n) #where you put the print statement matters, within the for loop prints all iterations\n",
    "print('outside of the for loop =', n)#outside of for loop prints last iteration only"
   ]
  },
  {
   "cell_type": "markdown",
   "metadata": {},
   "source": [
    "While the for loops we use in lab are a little more complicated than the ones discussed here, they are built upon the same basics.  For loops take a lot of practice, patience, and trial & error.  Even writing this for loop below took me several tries.  That being said, for loops are extremely useful for many doing calculations over many iterations.\n",
    "\n",
    "See below for a for loop that coverts degrees to radians and combines many of the topics in this tutorial."
   ]
  },
  {
   "cell_type": "code",
   "execution_count": 126,
   "metadata": {},
   "outputs": [
    {
     "name": "stdout",
     "output_type": "stream",
     "text": [
      "[ 0. 15. 30. 45. 60. 75. 90.]\n",
      "0.0\n",
      "0.2617993877991494\n",
      "0.5235987755982988\n",
      "0.7853981633974483\n",
      "1.0471975511965976\n",
      "1.3089969389957472\n",
      "1.5707963267948966\n"
     ]
    }
   ],
   "source": [
    "degrees = np.linspace(0,90,7)\n",
    "print(degrees)\n",
    "\n",
    "for n in range(7):\n",
    "    radians = (degrees[n]*np.pi)/180 #convert from 2-theta to theta in radians\n",
    "    print(radians)"
   ]
  }
 ],
 "metadata": {
  "kernelspec": {
   "display_name": "Python 3",
   "language": "python",
   "name": "python3"
  },
  "language_info": {
   "codemirror_mode": {
    "name": "ipython",
    "version": 3
   },
   "file_extension": ".py",
   "mimetype": "text/x-python",
   "name": "python",
   "nbconvert_exporter": "python",
   "pygments_lexer": "ipython3",
   "version": "3.7.4"
  }
 },
 "nbformat": 4,
 "nbformat_minor": 2
}
