{
 "cells": [
  {
   "cell_type": "markdown",
   "metadata": {},
   "source": [
    "# Introduction to Different Peak Fitting in Python"
   ]
  },
  {
   "cell_type": "markdown",
   "metadata": {},
   "source": [
    "So far you have been introduced to the python programming language, working with arrays, importing data simple curve fitting, and doing simple peak fiitings . In this tutorial we are going to apply those skills to different peak fitting data to improve accuracy of fitting and uncertainty value .\n",
    "\n",
    "After this tutorial you should be able to:\n",
    "\n",
    "    Fit data with multiple Gaussian distributions\n",
    "    Fit data with Lorentzian Function\n",
    "    Combine Gaussian and Lorentzian into pseudo Voigt analysis\n",
    "    Deduce each methods uncertainty\n",
    "Using Gaussian and Lorentzian distributions to fit the dataset is reasonable for data with little noise undergoing multiple separate component distributions.\n",
    "\n",
    "We'll be using the same imports as our previous tutorials with new important additions, math from which we import pi,sin. "
   ]
  },
  {
   "cell_type": "code",
   "execution_count": 103,
   "metadata": {},
   "outputs": [],
   "source": [
    "import numpy as np\n",
    "import csv\n",
    "import os\n",
    "import matplotlib.pyplot as plt\n",
    "import pandas as pd\n",
    "import math\n",
    "import scipy\n",
    "from scipy.optimize import curve_fit\n",
    "from math import pi,sin"
   ]
  },
  {
   "cell_type": "markdown",
   "metadata": {},
   "source": [
    "# Importing the Data\n",
    "For this tutorial I already have a datafile of xrd data. This datafile is stacked .csv where the first column is the value of 2-theta and subsequent columns are diffracted intensity for a variety of samples.\n",
    "To import the data we're going to define a function \"csv_to_np\" which will use the read_csv function built into pandas to pull the data, and then convert it to a numpy array since we're already familiar with working with those."
   ]
  },
  {
   "cell_type": "markdown",
   "metadata": {},
   "source": [
    "First, given that It's worthwhile to make a function that will convert our data with respect to Q go ahead and use the two_to_q function built to pull the data, and takes in an array of 2-theta values and a X-ray wavelength 𝜆, and returns an array of Q values."
   ]
  },
  {
   "cell_type": "code",
   "execution_count": 104,
   "metadata": {},
   "outputs": [],
   "source": [
    "def csv_to_np(filename):\n",
    "    data = pd.read_csv(filename)\n",
    "    return(np.array(data))\n",
    "\n",
    "perov = csv_to_np('D1_MAPBIBr2_Xraydeg.csv')"
   ]
  },
  {
   "cell_type": "code",
   "execution_count": null,
   "metadata": {},
   "outputs": [],
   "source": []
  },
  {
   "cell_type": "code",
   "execution_count": 105,
   "metadata": {},
   "outputs": [],
   "source": [
    "def two_to_q(two_theta, wave):\n",
    "    #two_theta is a 1D array of two_theta angles\n",
    "    #wave is the X-ray energy in angstroms\n",
    "    rad_theta = two_theta/2*np.pi/180\n",
    "    q = 4*np.pi*np.sin(rad_theta)/wave\n",
    "    return q"
   ]
  },
  {
   "cell_type": "code",
   "execution_count": 106,
   "metadata": {},
   "outputs": [],
   "source": [
    "q=two_to_q(perov[:,2],0.9763)\n",
    "Q= q.tolist()"
   ]
  },
  {
   "cell_type": "markdown",
   "metadata": {},
   "source": [
    "Go ahead and plot our data. Remember to plot the first column (index 0) of our 2D array (our 2-theta values) against the X-ray diffraction intensities (the values in any other column)."
   ]
  },
  {
   "cell_type": "code",
   "execution_count": 107,
   "metadata": {},
   "outputs": [
    {
     "data": {
      "text/plain": [
       "<matplotlib.legend.Legend at 0x1a1d5f8828>"
      ]
     },
     "execution_count": 107,
     "metadata": {},
     "output_type": "execute_result"
    },
    {
     "data": {
      "image/png": "[encoded data removed]",
      "text/plain": [
       "<Figure size 576x432 with 1 Axes>"
      ]
     },
     "metadata": {
      "needs_background": "light"
     },
     "output_type": "display_data"
    }
   ],
   "source": [
    "plt.figure(figsize=(8,6)) #make plot larger\n",
    "plt.plot(perov[:,0],perov[:,1],'r-', label='$MAPbIBr_2$') #plot two-theta versus XRD intesntiy\n",
    "plt.xlabel('2-theta [$^o$]',size=12) #Define x-axis label\n",
    "plt.ylabel('Intensity [a.u.]',size=12)#Define y-axis label\n",
    "plt.legend(loc=\"upper right\")#Put legend in upper left hand corner"
   ]
  },
  {
   "cell_type": "markdown",
   "metadata": {},
   "source": [
    "# Trimming Data\n",
    "Lets go ahead an trim out data with set limits,so we can then reference those when calling some segment of our array.\n"
   ]
  },
  {
   "cell_type": "code",
   "execution_count": 108,
   "metadata": {},
   "outputs": [
    {
     "ename": "ValueError",
     "evalue": "12 is not in list",
     "output_type": "error",
     "traceback": [
      "\u001b[0;31m---------------------------------------------------------------------------\u001b[0m",
      "\u001b[0;31mValueError\u001b[0m                                Traceback (most recent call last)",
      "\u001b[0;32m<ipython-input-108-2f181b497978>\u001b[0m in \u001b[0;36m<module>\u001b[0;34m\u001b[0m\n\u001b[1;32m     10\u001b[0m \u001b[0mq_2\u001b[0m \u001b[0;34m=\u001b[0m \u001b[0;36m1.10\u001b[0m \u001b[0;31m# This will be our upper limit - ideally there is only one peak between these values\u001b[0m\u001b[0;34m\u001b[0m\u001b[0;34m\u001b[0m\u001b[0m\n\u001b[1;32m     11\u001b[0m \u001b[0;34m\u001b[0m\u001b[0m\n\u001b[0;32m---> 12\u001b[0;31m \u001b[0mlimit1\u001b[0m \u001b[0;34m=\u001b[0m \u001b[0mQ\u001b[0m\u001b[0;34m.\u001b[0m\u001b[0mindex\u001b[0m\u001b[0;34m(\u001b[0m\u001b[0mfind_nearest\u001b[0m\u001b[0;34m(\u001b[0m\u001b[0mq\u001b[0m\u001b[0;34m,\u001b[0m \u001b[0mq_1\u001b[0m\u001b[0;34m)\u001b[0m\u001b[0;34m)\u001b[0m\u001b[0;34m\u001b[0m\u001b[0;34m\u001b[0m\u001b[0m\n\u001b[0m\u001b[1;32m     13\u001b[0m \u001b[0mlimit2\u001b[0m \u001b[0;34m=\u001b[0m \u001b[0mQ\u001b[0m\u001b[0;34m.\u001b[0m\u001b[0mindex\u001b[0m\u001b[0;34m(\u001b[0m\u001b[0mfind_nearest\u001b[0m\u001b[0;34m(\u001b[0m\u001b[0mq\u001b[0m\u001b[0;34m,\u001b[0m \u001b[0mq_2\u001b[0m\u001b[0;34m)\u001b[0m\u001b[0;34m)\u001b[0m\u001b[0;34m\u001b[0m\u001b[0;34m\u001b[0m\u001b[0m\n\u001b[1;32m     14\u001b[0m \u001b[0mq_sub\u001b[0m \u001b[0;34m=\u001b[0m \u001b[0mq\u001b[0m\u001b[0;34m[\u001b[0m\u001b[0mlimit1\u001b[0m\u001b[0;34m:\u001b[0m\u001b[0mlimit2\u001b[0m\u001b[0;34m]\u001b[0m\u001b[0;34m\u001b[0m\u001b[0;34m\u001b[0m\u001b[0m\n",
      "\u001b[0;31mValueError\u001b[0m: 12 is not in list"
     ]
    }
   ],
   "source": [
    "def find_nearest(array, target):\n",
    "    array = np.asarray(array) # In case the input is not an array type\n",
    "    idx = (np.abs(array - target)).argmin() # Finds the index of the value closest to the target\n",
    "    return idx\n",
    "\n",
    "\n",
    "#We use our new function to find the index of real value closest to our desired limit\n",
    "\n",
    "q_1 = 0.98 # This will be the lower limit for Q we'll consider\n",
    "q_2 = 1.10 # This will be our upper limit - ideally there is only one peak between these values\n",
    "\n",
    "limit1 = Q.index(find_nearest(q, q_1))\n",
    "limit2 = Q.index(find_nearest(q, q_2))\n",
    "q_sub = q[limit1:limit2]\n",
    "perov_sub = perov[limit1:limit2,1:]\n",
    "plt.plot(q_sub,perov_sub[:,-1])"
   ]
  },
  {
   "cell_type": "code",
   "execution_count": 109,
   "metadata": {},
   "outputs": [
    {
     "ename": "TypeError",
     "evalue": "expected non-empty vector for x",
     "output_type": "error",
     "traceback": [
      "\u001b[0;31m---------------------------------------------------------------------------\u001b[0m",
      "\u001b[0;31mTypeError\u001b[0m                                 Traceback (most recent call last)",
      "\u001b[0;32m<ipython-input-109-ed123e8f1d3a>\u001b[0m in \u001b[0;36m<module>\u001b[0;34m\u001b[0m\n\u001b[1;32m      5\u001b[0m \u001b[0mq_linear\u001b[0m \u001b[0;34m=\u001b[0m \u001b[0mnp\u001b[0m\u001b[0;34m.\u001b[0m\u001b[0mhstack\u001b[0m\u001b[0;34m(\u001b[0m\u001b[0;34m(\u001b[0m\u001b[0mq_sub\u001b[0m\u001b[0;34m[\u001b[0m\u001b[0;36m0\u001b[0m\u001b[0;34m:\u001b[0m\u001b[0;36m10\u001b[0m\u001b[0;34m]\u001b[0m\u001b[0;34m,\u001b[0m \u001b[0mq_sub\u001b[0m\u001b[0;34m[\u001b[0m\u001b[0;34m-\u001b[0m\u001b[0;36m11\u001b[0m\u001b[0;34m:\u001b[0m\u001b[0;34m-\u001b[0m\u001b[0;36m1\u001b[0m\u001b[0;34m]\u001b[0m\u001b[0;34m)\u001b[0m\u001b[0;34m)\u001b[0m \u001b[0;31m#I'm taking the starting and ending values\u001b[0m\u001b[0;34m\u001b[0m\u001b[0;34m\u001b[0m\u001b[0m\n\u001b[1;32m      6\u001b[0m \u001b[0mperov_linear\u001b[0m \u001b[0;34m=\u001b[0m \u001b[0mnp\u001b[0m\u001b[0;34m.\u001b[0m\u001b[0mhstack\u001b[0m\u001b[0;34m(\u001b[0m\u001b[0;34m(\u001b[0m\u001b[0mperov_sub\u001b[0m\u001b[0;34m[\u001b[0m\u001b[0;36m0\u001b[0m\u001b[0;34m:\u001b[0m\u001b[0;36m10\u001b[0m\u001b[0;34m,\u001b[0m\u001b[0;36m0\u001b[0m\u001b[0;34m]\u001b[0m\u001b[0;34m,\u001b[0m \u001b[0mperov_sub\u001b[0m\u001b[0;34m[\u001b[0m\u001b[0;34m-\u001b[0m\u001b[0;36m11\u001b[0m\u001b[0;34m:\u001b[0m\u001b[0;34m-\u001b[0m\u001b[0;36m1\u001b[0m\u001b[0;34m,\u001b[0m\u001b[0;36m0\u001b[0m\u001b[0;34m]\u001b[0m\u001b[0;34m)\u001b[0m\u001b[0;34m)\u001b[0m \u001b[0;31m#We'll use these to fit a straight line\u001b[0m\u001b[0;34m\u001b[0m\u001b[0;34m\u001b[0m\u001b[0m\n\u001b[0;32m----> 7\u001b[0;31m \u001b[0mslope\u001b[0m\u001b[0;34m,\u001b[0m \u001b[0mintercept\u001b[0m \u001b[0;34m=\u001b[0m \u001b[0mnp\u001b[0m\u001b[0;34m.\u001b[0m\u001b[0mpolyfit\u001b[0m\u001b[0;34m(\u001b[0m\u001b[0mq_linear\u001b[0m\u001b[0;34m,\u001b[0m \u001b[0mperov_linear\u001b[0m\u001b[0;34m,\u001b[0m \u001b[0;36m1\u001b[0m\u001b[0;34m)\u001b[0m \u001b[0;31m#Do linear fit\u001b[0m\u001b[0;34m\u001b[0m\u001b[0;34m\u001b[0m\u001b[0m\n\u001b[0m\u001b[1;32m      8\u001b[0m \u001b[0mback\u001b[0m \u001b[0;34m=\u001b[0m \u001b[0mslope\u001b[0m\u001b[0;34m*\u001b[0m\u001b[0mq_sub\u001b[0m\u001b[0;34m+\u001b[0m\u001b[0mintercept\u001b[0m \u001b[0;31m#Create background array of the form Background = Ax+B\u001b[0m\u001b[0;34m\u001b[0m\u001b[0;34m\u001b[0m\u001b[0m\n\u001b[1;32m      9\u001b[0m \u001b[0;31m#print (back)\u001b[0m\u001b[0;34m\u001b[0m\u001b[0;34m\u001b[0m\u001b[0;34m\u001b[0m\u001b[0m\n",
      "\u001b[0;32m/anaconda3/lib/python3.7/site-packages/numpy/lib/polynomial.py\u001b[0m in \u001b[0;36mpolyfit\u001b[0;34m(x, y, deg, rcond, full, w, cov)\u001b[0m\n\u001b[1;32m    596\u001b[0m         \u001b[0;32mraise\u001b[0m \u001b[0mTypeError\u001b[0m\u001b[0;34m(\u001b[0m\u001b[0;34m\"expected 1D vector for x\"\u001b[0m\u001b[0;34m)\u001b[0m\u001b[0;34m\u001b[0m\u001b[0;34m\u001b[0m\u001b[0m\n\u001b[1;32m    597\u001b[0m     \u001b[0;32mif\u001b[0m \u001b[0mx\u001b[0m\u001b[0;34m.\u001b[0m\u001b[0msize\u001b[0m \u001b[0;34m==\u001b[0m \u001b[0;36m0\u001b[0m\u001b[0;34m:\u001b[0m\u001b[0;34m\u001b[0m\u001b[0;34m\u001b[0m\u001b[0m\n\u001b[0;32m--> 598\u001b[0;31m         \u001b[0;32mraise\u001b[0m \u001b[0mTypeError\u001b[0m\u001b[0;34m(\u001b[0m\u001b[0;34m\"expected non-empty vector for x\"\u001b[0m\u001b[0;34m)\u001b[0m\u001b[0;34m\u001b[0m\u001b[0;34m\u001b[0m\u001b[0m\n\u001b[0m\u001b[1;32m    599\u001b[0m     \u001b[0;32mif\u001b[0m \u001b[0my\u001b[0m\u001b[0;34m.\u001b[0m\u001b[0mndim\u001b[0m \u001b[0;34m<\u001b[0m \u001b[0;36m1\u001b[0m \u001b[0;32mor\u001b[0m \u001b[0my\u001b[0m\u001b[0;34m.\u001b[0m\u001b[0mndim\u001b[0m \u001b[0;34m>\u001b[0m \u001b[0;36m2\u001b[0m\u001b[0;34m:\u001b[0m\u001b[0;34m\u001b[0m\u001b[0;34m\u001b[0m\u001b[0m\n\u001b[1;32m    600\u001b[0m         \u001b[0;32mraise\u001b[0m \u001b[0mTypeError\u001b[0m\u001b[0;34m(\u001b[0m\u001b[0;34m\"expected 1D or 2D array for y\"\u001b[0m\u001b[0;34m)\u001b[0m\u001b[0;34m\u001b[0m\u001b[0;34m\u001b[0m\u001b[0m\n",
      "\u001b[0;31mTypeError\u001b[0m: expected non-empty vector for x"
     ]
    }
   ],
   "source": [
    "\n",
    "q_sub = q[limit1:limit2] # We'll reduce the domain of Q\n",
    "perov_sub = perov[limit1:limit2,1:-1]\n",
    "\n",
    "q_linear = np.hstack((q_sub[0:10], q_sub[-11:-1])) #I'm taking the starting and ending values\n",
    "perov_linear = np.hstack((perov_sub[0:10,0], perov_sub[-11:-1,0])) #We'll use these to fit a straight line\n",
    "slope, intercept = np.polyfit(q_linear, perov_linear, 1) #Do linear fit\n",
    "back = slope*q_sub+intercept #Create background array of the form Background = Ax+B\n",
    "#print (back)\n",
    "\n",
    "#plt.plot(q_sub,perov_sub[:,1], 'r-',label='$MAPbIBr_2$')# plot minus background \n",
    "#Let's begin by getting our data ready to analyze\n",
    "perov_fit = perov_sub[:,0]-back #We'll begin by subtracting the background we calculated for this piece of data\n",
    "\n",
    "#Now let's define a function we'll want to fit to - this is analagous to the \"straight-line-model\" from tutorial 03\n",
    "#We'll call our function gaussian and it will calculate the expression described above\n",
    "def gaussian(x, a, b, c): \n",
    "    return a*np.exp(-(x - b)**2/(2*c**2))\n",
    "\n",
    "#We'll also give an initial guess for our fits based off of a visual interpretaion of our data\n",
    "p0 = [45, 2.4, 2]\n",
    "\n",
    "#Use scipy.optimize.curve_fit to fit our desired data\n",
    "popt, pcov = curve_fit(gaussian, q_sub, perov_fit, p0)\n",
    "\n",
    "#To confirm our fits it's always nice to plot our model versus our data.\n",
    "plt.figure(figsize=(8,6)) #make plot larger\n",
    "plt.plot(q_sub,perov_fit,'r-', label='$MAPbIBr_2$') #plot subfield of data\n",
    "plt.plot(q_sub,gaussian(q_sub, *popt),'b--', label='Model') #plot best fit\n",
    "plt.xlabel('Q [$\\AA^{-1}$]',size=12) #Define x-axis label\n",
    "plt.ylabel('Intensity [a.u.]',size=12)#Define y-axis label\n",
    "plt.legend(loc=\"upper right\")#Put legend in upper left hand corner\n",
    "\n"
   ]
  },
  {
   "cell_type": "markdown",
   "metadata": {},
   "source": [
    "# Subrtacting Background "
   ]
  },
  {
   "cell_type": "code",
   "execution_count": 110,
   "metadata": {},
   "outputs": [
    {
     "name": "stdout",
     "output_type": "stream",
     "text": [
      "(0, 29)\n"
     ]
    }
   ],
   "source": [
    "#remove background\n",
    "size = perov_sub.shape\n",
    "print (size)\n",
    "q_bins = size[0]\n",
    "#print (q_bins)\n",
    "num_frames = size[1]\n",
    "slope = np.zeros((num_frames,1))\n",
    "intercept = np.zeros((num_frames,1))\n",
    "back = np.zeros((q_bins,num_frames))\n",
    "int_correct = np.zeros((q_bins,num_frames))"
   ]
  },
  {
   "cell_type": "code",
   "execution_count": 111,
   "metadata": {},
   "outputs": [
    {
     "ename": "IndexError",
     "evalue": "index 0 is out of bounds for axis 0 with size 0",
     "output_type": "error",
     "traceback": [
      "\u001b[0;31m---------------------------------------------------------------------------\u001b[0m",
      "\u001b[0;31mIndexError\u001b[0m                                Traceback (most recent call last)",
      "\u001b[0;32m<ipython-input-111-f8b851a13b17>\u001b[0m in \u001b[0;36m<module>\u001b[0;34m\u001b[0m\n\u001b[1;32m      1\u001b[0m \u001b[0;32mfor\u001b[0m \u001b[0mj\u001b[0m \u001b[0;32min\u001b[0m \u001b[0mrange\u001b[0m\u001b[0;34m(\u001b[0m\u001b[0mnum_frames\u001b[0m\u001b[0;34m)\u001b[0m\u001b[0;34m:\u001b[0m\u001b[0;34m\u001b[0m\u001b[0;34m\u001b[0m\u001b[0m\n\u001b[1;32m      2\u001b[0m     \u001b[0mslope\u001b[0m\u001b[0;34m[\u001b[0m\u001b[0mj\u001b[0m\u001b[0;34m]\u001b[0m \u001b[0;34m=\u001b[0m \u001b[0;34m(\u001b[0m\u001b[0;34m(\u001b[0m\u001b[0mnp\u001b[0m\u001b[0;34m.\u001b[0m\u001b[0mmean\u001b[0m\u001b[0;34m(\u001b[0m\u001b[0mperov_sub\u001b[0m\u001b[0;34m[\u001b[0m\u001b[0;34m-\u001b[0m\u001b[0;36m10\u001b[0m\u001b[0;34m:\u001b[0m\u001b[0;34m-\u001b[0m\u001b[0;36m1\u001b[0m\u001b[0;34m,\u001b[0m\u001b[0mj\u001b[0m\u001b[0;34m]\u001b[0m\u001b[0;34m)\u001b[0m\u001b[0;34m-\u001b[0m\u001b[0mnp\u001b[0m\u001b[0;34m.\u001b[0m\u001b[0mmean\u001b[0m\u001b[0;34m(\u001b[0m\u001b[0mperov_sub\u001b[0m\u001b[0;34m[\u001b[0m\u001b[0;36m0\u001b[0m\u001b[0;34m:\u001b[0m\u001b[0;36m10\u001b[0m\u001b[0;34m,\u001b[0m\u001b[0mj\u001b[0m\u001b[0;34m]\u001b[0m\u001b[0;34m)\u001b[0m\u001b[0;34m)\u001b[0m\u001b[0;34m/\u001b[0m\u001b[0;34m(\u001b[0m\u001b[0mnp\u001b[0m\u001b[0;34m.\u001b[0m\u001b[0mmean\u001b[0m\u001b[0;34m(\u001b[0m\u001b[0mq\u001b[0m\u001b[0;34m[\u001b[0m\u001b[0mlimit2\u001b[0m\u001b[0;34m-\u001b[0m\u001b[0;36m10\u001b[0m\u001b[0;34m:\u001b[0m\u001b[0mlimit2\u001b[0m\u001b[0;34m]\u001b[0m\u001b[0;34m)\u001b[0m\u001b[0;34m-\u001b[0m\u001b[0mnp\u001b[0m\u001b[0;34m.\u001b[0m\u001b[0mmean\u001b[0m\u001b[0;34m(\u001b[0m\u001b[0mq\u001b[0m\u001b[0;34m[\u001b[0m\u001b[0mlimit1\u001b[0m\u001b[0;34m:\u001b[0m\u001b[0mlimit1\u001b[0m\u001b[0;34m+\u001b[0m\u001b[0;36m10\u001b[0m\u001b[0;34m]\u001b[0m\u001b[0;34m)\u001b[0m\u001b[0;34m)\u001b[0m\u001b[0;34m)\u001b[0m\u001b[0;34m\u001b[0m\u001b[0;34m\u001b[0m\u001b[0m\n\u001b[0;32m----> 3\u001b[0;31m     \u001b[0mb\u001b[0m\u001b[0;34m[\u001b[0m\u001b[0mj\u001b[0m\u001b[0;34m]\u001b[0m\u001b[0;34m=\u001b[0m\u001b[0mperov_sub\u001b[0m\u001b[0;34m[\u001b[0m\u001b[0;36m0\u001b[0m\u001b[0;34m,\u001b[0m\u001b[0mj\u001b[0m\u001b[0;34m]\u001b[0m\u001b[0;34m-\u001b[0m\u001b[0mslope\u001b[0m\u001b[0;34m[\u001b[0m\u001b[0mj\u001b[0m\u001b[0;34m]\u001b[0m\u001b[0;34m*\u001b[0m\u001b[0mq_sub\u001b[0m\u001b[0;34m[\u001b[0m\u001b[0;36m0\u001b[0m\u001b[0;34m]\u001b[0m\u001b[0;34m\u001b[0m\u001b[0;34m\u001b[0m\u001b[0m\n\u001b[0m\u001b[1;32m      4\u001b[0m     \u001b[0mback\u001b[0m\u001b[0;34m[\u001b[0m\u001b[0;34m:\u001b[0m\u001b[0;34m,\u001b[0m\u001b[0mj\u001b[0m\u001b[0;34m]\u001b[0m \u001b[0;34m=\u001b[0m \u001b[0;34m[\u001b[0m\u001b[0mslope\u001b[0m\u001b[0;34m[\u001b[0m\u001b[0mj\u001b[0m\u001b[0;34m]\u001b[0m\u001b[0;34m*\u001b[0m\u001b[0melement\u001b[0m\u001b[0;34m+\u001b[0m\u001b[0mb\u001b[0m\u001b[0;34m[\u001b[0m\u001b[0mj\u001b[0m\u001b[0;34m]\u001b[0m \u001b[0;32mfor\u001b[0m \u001b[0melement\u001b[0m \u001b[0;32min\u001b[0m \u001b[0mq_sub\u001b[0m\u001b[0;34m]\u001b[0m\u001b[0;34m\u001b[0m\u001b[0;34m\u001b[0m\u001b[0m\n\u001b[1;32m      5\u001b[0m     \u001b[0mint_correct\u001b[0m\u001b[0;34m[\u001b[0m\u001b[0;34m:\u001b[0m\u001b[0;34m,\u001b[0m\u001b[0mj\u001b[0m\u001b[0;34m]\u001b[0m \u001b[0;34m=\u001b[0m \u001b[0mperov_sub\u001b[0m\u001b[0;34m[\u001b[0m\u001b[0;34m:\u001b[0m\u001b[0;34m,\u001b[0m\u001b[0mj\u001b[0m\u001b[0;34m]\u001b[0m\u001b[0;34m-\u001b[0m\u001b[0mnp\u001b[0m\u001b[0;34m.\u001b[0m\u001b[0marray\u001b[0m\u001b[0;34m(\u001b[0m\u001b[0mback\u001b[0m\u001b[0;34m[\u001b[0m\u001b[0;34m:\u001b[0m\u001b[0;34m,\u001b[0m\u001b[0mj\u001b[0m\u001b[0;34m]\u001b[0m\u001b[0;34m)\u001b[0m\u001b[0;34m\u001b[0m\u001b[0;34m\u001b[0m\u001b[0m\n",
      "\u001b[0;31mIndexError\u001b[0m: index 0 is out of bounds for axis 0 with size 0"
     ]
    }
   ],
   "source": [
    "for j in range(num_frames): \n",
    "    slope[j] = ((np.mean(perov_sub[-10:-1,j])-np.mean(perov_sub[0:10,j]))/(np.mean(q[limit2-10:limit2])-np.mean(q[limit1:limit1+10])))\n",
    "    b[j]=perov_sub[0,j]-slope[j]*q_sub[0]\n",
    "    back[:,j] = [slope[j]*element+b[j] for element in q_sub]\n",
    "    int_correct[:,j] = perov_sub[:,j]-np.array(back[:,j])\n",
    "\n",
    "plt.plot(np.array(q_sub),int_correct)"
   ]
  },
  {
   "cell_type": "markdown",
   "metadata": {},
   "source": [
    "# Iterative Guassian fitting\n",
    "Unlike in tutorial 4, where you learned how to fit the experimental data to a gaussian fit. Most likely youll find data that is hard to analyze with just one gaussian fit indicating the material in undergoing compenent distriubuting chnages.\n",
    "\n",
    "Below youll learn how simple and better multigaussian fits are for materials undergoing changes.\n",
    "\n",
    "Rememebr that our idelaized model is a guassian peak, which is described by the following expression:\n",
    "\n",
    "$$f(x)=ae^{\\frac{-(x-b)^2}{2c^2}}$$\n",
    "\n",
    "Where $a$ is the height of the peak, $b$ is the peak's center, and $c$ is the standard deviation which impacts the width of the peak."
   ]
  },
  {
   "cell_type": "code",
   "execution_count": 112,
   "metadata": {},
   "outputs": [
    {
     "ename": "ValueError",
     "evalue": "operands could not be broadcast together with shapes (0,) (0,29) ",
     "output_type": "error",
     "traceback": [
      "\u001b[0;31m---------------------------------------------------------------------------\u001b[0m",
      "\u001b[0;31mValueError\u001b[0m                                Traceback (most recent call last)",
      "\u001b[0;32m<ipython-input-112-e9cde161cd34>\u001b[0m in \u001b[0;36m<module>\u001b[0;34m\u001b[0m\n\u001b[1;32m      1\u001b[0m \u001b[0;31m#Let's begin by getting our data ready to analyze\u001b[0m\u001b[0;34m\u001b[0m\u001b[0;34m\u001b[0m\u001b[0;34m\u001b[0m\u001b[0m\n\u001b[0;32m----> 2\u001b[0;31m \u001b[0mperov_fit\u001b[0m \u001b[0;34m=\u001b[0m \u001b[0mperov_sub\u001b[0m\u001b[0;34m[\u001b[0m\u001b[0;34m:\u001b[0m\u001b[0;34m,\u001b[0m\u001b[0;36m0\u001b[0m\u001b[0;34m]\u001b[0m\u001b[0;34m-\u001b[0m\u001b[0mback\u001b[0m \u001b[0;31m#We'll begin by subtracting the background we calculated for this piece of data\u001b[0m\u001b[0;34m\u001b[0m\u001b[0;34m\u001b[0m\u001b[0m\n\u001b[0m\u001b[1;32m      3\u001b[0m \u001b[0;34m\u001b[0m\u001b[0m\n\u001b[1;32m      4\u001b[0m \u001b[0;31m#Now let's define a function we'll want to fit to - this is analagous to the \"straight-line-model\" from tutorial 03\u001b[0m\u001b[0;34m\u001b[0m\u001b[0;34m\u001b[0m\u001b[0;34m\u001b[0m\u001b[0m\n\u001b[1;32m      5\u001b[0m \u001b[0;31m#We'll call our function gaussian and it will calculate the expression described above\u001b[0m\u001b[0;34m\u001b[0m\u001b[0;34m\u001b[0m\u001b[0;34m\u001b[0m\u001b[0m\n",
      "\u001b[0;31mValueError\u001b[0m: operands could not be broadcast together with shapes (0,) (0,29) "
     ]
    }
   ],
   "source": [
    "#Let's begin by getting our data ready to analyze\n",
    "perov_fit = perov_sub[:,0]-back #We'll begin by subtracting the background we calculated for this piece of data\n",
    "\n",
    "#Now let's define a function we'll want to fit to - this is analagous to the \"straight-line-model\" from tutorial 03\n",
    "#We'll call our function gaussian and it will calculate the expression described above\n",
    "def gaussian(x, a, b, c): \n",
    "    return a*np.exp(-(x - b)**2/(2*c**2))\n",
    "\n",
    "#We'll also give an initial guess for our fits based off of a visual interpretaion of our data\n",
    "p0 = [250, 1, 0.2]\n",
    "\n",
    "#Use scipy.optimize.curve_fit to fit our desired data\n",
    "popt, pcov = curve_fit(gaussian, q_sub, perov_fit, p0)\n",
    "\n"
   ]
  },
  {
   "cell_type": "code",
   "execution_count": null,
   "metadata": {},
   "outputs": [],
   "source": [
    "#Remember to confirm our fits by plotting our model versus our data.\n",
    "plt.figure(figsize=(8,6)) #make plot larger\n",
    "plt.plot(q_sub,perov_fit,'r-', label='$MAPbIBr_2$') #plot subfield of data\n",
    "plt.plot(q_sub,gaussian(q_sub, *popt),'b--', label='Model') #plot best fit\n",
    "plt.xlabel('Q [$\\AA^{-1}$]',size=12) #Define x-axis label\n",
    "plt.ylabel('Intensity [a.u.]',size=12)#Define y-axis label\n",
    "plt.legend(loc=\"upper right\")#Put legend in upper left hand corner"
   ]
  },
  {
   "cell_type": "code",
   "execution_count": 114,
   "metadata": {},
   "outputs": [],
   "source": [
    "#Youll see the fit isnt accurately depiciting our data\n",
    "#adding another or two gaussian fits can help more accurately plot our model versus our data\n",
    "i = 2#number of fits \n",
    "j = 16#number of frames \n",
    "#6 parameters in total depiciting a,b,c for two different peaks you detect\n",
    "p0 =  [20, 2.08, 0.02, 10,2.08]\n",
    "plt.plot(np.array(q_sub), int_correct[:,j],color='black')\n",
    "if i == 2:\n",
    "    popt, pcov = curve_fit(two_gaussians, np.array(q_sub), int_correct[:,j], p0[0:6])\n",
    "    #plt.plot(np.array(q_sub), two_gaussians(np.array(q_sub),*popt))\n",
    "    pars_1 = popt[0:3]\n",
    "    pars_2 = popt[3:6]\n",
    "    gauss_peak_1 = gaussian(np.array(q_sub), *pars_1)\n",
    "    gauss_peak_2 = gaussian(np.array(q_sub), *pars_2)\n",
    "    plt.plot(np.array(q_sub), gauss_peak_1, color='red')\n",
    "    plt.plot(np.array(q_sub),gauss_peak_2,color='blue') \n",
    "    plt.plot(np.array(q_sub), gauss_peak_1+gauss_peak_2,color='green')\n",
    "    print('lattice spacing:', [4*math.pi/popt[1], 4*math.pi/popt[4]])\n",
    "    intensity_1[j] = popt[0]\n",
    "    lattice_1[j] = 4*math.pi/popt[1] \n",
    "    intensity_2[j] = popt[3]\n",
    "    lattice_2[j] = 4*math.pi/popt[4]\n",
    "#i==3 will apply if you want three different fits\n",
    "if i == 3:\n",
    "    popt, pcov = curve_fit(three_gaussians, np.array(q_sub), int_correct[:,j], p0)\n",
    "    #plt.plot(np.array(q_sub), three_gaussians(np.array(q_sub),*popt))\n",
    "    pars_1 = popt[0:3]\n",
    "    pars_2 = popt[3:6]\n",
    "    pars_3 = popt[6:9]\n",
    "    gauss_peak_1 = gaussian(np.array(q_sub), *pars_1)\n",
    "    gauss_peak_2 = gaussian(np.array(q_sub), *pars_2)\n",
    "    gauss_peak_3 = gaussian(np.array(q_sub), *pars_3)\n",
    "    plt.plot(np.array(q_sub), gauss_peak_1, color='magenta')\n",
    "    plt.plot(np.array(q_sub),gauss_peak_2,color='blue') \n",
    "    plt.plot(np.array(q_sub),gauss_peak_3,color='green')\n",
    "    plt.plot(np.array(q_sub),gauss_peak_3+gauss_peak_1+gauss_peak_2,color='red',linestyle='dashed')\n",
    "    print('lattice spacing:', [4*math.pi/popt[1], 4*math.pi/popt[4],4*math.pi/popt[7]])\n",
    "    intensity_1[j] = popt[0]\n",
    "    lattice_1[j] = 4*math.pi/popt[1] \n",
    "    intensity_2[j] = popt[3]\n",
    "    lattice_2[j] = 4*math.pi/popt[4]\n",
    "    intensity_2[j] = popt[6]\n",
    "    lattice_3[j] = 4*math.pi/popt[7]\n",
    "#i==1,if you only want one fit\n",
    "else: \n",
    "    popt, pcov = curve_fit(gaussian, np.array(q_sub), int_correct[:,j], p0[0:3])\n",
    "    plt.plot(np.array(q_sub), gaussian(np.array(q_sub),*popt))\n",
    "    print('lattice spacing:', [4*math.pi/popt[1]])\n",
    "    intensity_1[j] = popt[0]\n",
    "    lattice_1[j] = 4*math.pi/popt[1] \n",
    "\n",
    "print(popt)\n",
    "plt.xlabel('Q')\n",
    "plt.ylabel('Intensity')"
   ]
  },
  {
   "cell_type": "markdown",
   "metadata": {},
   "source": [
    "# Lorentzian Function\n",
    "Now that youve seen how much more qualitavely accurate multi guassian peak fitting is well go thorugh another idelaized model, Lorentizian peak:\n",
    "                            \n",
    "                          f(x;A,μ,σ)=Aπ[σ(x−μ)2+σ2]\n",
    " Like Guassian, $a$ is the height of the peak, $b$ is the peak's center, and $c$ is the standard deviation which impacts the width of the peak. In addition, parameters $fwhm$ and height are included as constraints to report full width at half maximum and maximum peak height, respectively."
   ]
  },
  {
   "cell_type": "code",
   "execution_count": 115,
   "metadata": {},
   "outputs": [
    {
     "ename": "ValueError",
     "evalue": "operands could not be broadcast together with shapes (0,) (0,29) ",
     "output_type": "error",
     "traceback": [
      "\u001b[0;31m---------------------------------------------------------------------------\u001b[0m",
      "\u001b[0;31mValueError\u001b[0m                                Traceback (most recent call last)",
      "\u001b[0;32m<ipython-input-115-02639fe93fad>\u001b[0m in \u001b[0;36m<module>\u001b[0;34m\u001b[0m\n\u001b[1;32m      1\u001b[0m \u001b[0;31m#Let's begin by getting our data ready to analyze\u001b[0m\u001b[0;34m\u001b[0m\u001b[0;34m\u001b[0m\u001b[0;34m\u001b[0m\u001b[0m\n\u001b[0;32m----> 2\u001b[0;31m \u001b[0mperov_fit\u001b[0m \u001b[0;34m=\u001b[0m \u001b[0mperov_sub\u001b[0m\u001b[0;34m[\u001b[0m\u001b[0;34m:\u001b[0m\u001b[0;34m,\u001b[0m\u001b[0;36m0\u001b[0m\u001b[0;34m]\u001b[0m\u001b[0;34m-\u001b[0m\u001b[0mback\u001b[0m \u001b[0;31m#We'll begin by subtracting the background we calculated for this piece of data\u001b[0m\u001b[0;34m\u001b[0m\u001b[0;34m\u001b[0m\u001b[0m\n\u001b[0m\u001b[1;32m      3\u001b[0m \u001b[0;34m\u001b[0m\u001b[0m\n\u001b[1;32m      4\u001b[0m \u001b[0;31m#Now let's define a function we'll want to fit to - this is analagous to the \"straight-line-model\" from tutorial 03\u001b[0m\u001b[0;34m\u001b[0m\u001b[0;34m\u001b[0m\u001b[0;34m\u001b[0m\u001b[0m\n\u001b[1;32m      5\u001b[0m \u001b[0;31m#We'll call our function gaussian and it will calculate the expression described above\u001b[0m\u001b[0;34m\u001b[0m\u001b[0;34m\u001b[0m\u001b[0;34m\u001b[0m\u001b[0m\n",
      "\u001b[0;31mValueError\u001b[0m: operands could not be broadcast together with shapes (0,) (0,29) "
     ]
    }
   ],
   "source": [
    "#Let's begin by getting our data ready to analyze\n",
    "perov_fit = perov_sub[:,0]-back #We'll begin by subtracting the background we calculated for this piece of data\n",
    "\n",
    "#Now let's define a function we'll want to fit to - this is analagous to the \"straight-line-model\" from tutorial 03\n",
    "#We'll call our function gaussian and it will calculate the expression described above\n",
    "def gaussian(x, a, b, c): \n",
    "    return a*np.exp(-(x - b)**2/(2*c**2))\n",
    "\n",
    "#We'll also give an initial guess for our fits based off of a visual interpretaion of our data\n",
    "p0 = [250, 1, 0.2]\n",
    "\n",
    "#Use scipy.optimize.curve_fit to fit our desired data\n",
    "popt, pcov = curve_fit(gaussian, q_sub, perov_fit, p0)"
   ]
  },
  {
   "cell_type": "code",
   "execution_count": null,
   "metadata": {},
   "outputs": [],
   "source": []
  }
 ],
 "metadata": {
  "kernelspec": {
   "display_name": "Python 3",
   "language": "python",
   "name": "python3"
  },
  "language_info": {
   "codemirror_mode": {
    "name": "ipython",
    "version": 3
   },
   "file_extension": ".py",
   "mimetype": "text/x-python",
   "name": "python",
   "nbconvert_exporter": "python",
   "pygments_lexer": "ipython3",
   "version": "3.7.3"
  }
 },
 "nbformat": 4,
 "nbformat_minor": 2
}
