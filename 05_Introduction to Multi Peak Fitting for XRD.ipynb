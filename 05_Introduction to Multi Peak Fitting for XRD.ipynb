{
 "cells": [
  {
   "cell_type": "markdown",
   "metadata": {},
   "source": [
    "# Introduction to Multi Peak Fitting in Python"
   ]
  },
  {
   "cell_type": "markdown",
   "metadata": {},
   "source": [
    "So far you have been introduced to the python programming language, working with arrays, importing data simple curve fitting, and doing one peak fiitings . In this tutorial we are going to apply those skills to multiple peak fitting data to improve accuracy of fitting and uncertainty value .\n",
    "\n",
    "After this tutorial you should be able to:\n",
    "\n",
    "    Fit data with multiple Gaussian distributions\n",
    "Using multiple Gaussian distributions to fit the dataset is reasonable for data with little noise undergoing  multiple separate component distributions.\n",
    "\n",
    "We'll be using the same imports as our previous tutorials with new important additions, math from which we import pi,sin. "
   ]
  },
  {
   "cell_type": "code",
   "execution_count": 1,
   "metadata": {},
   "outputs": [],
   "source": [
    "import numpy as np\n",
    "import matplotlib.pyplot as plt\n",
    "import scipy.stats\n",
    "from scipy.optimize import curve_fit\n",
    "import pandas as pd\n",
    "import math\n",
    "from math import pi,sin"
   ]
  },
  {
   "cell_type": "markdown",
   "metadata": {},
   "source": [
    "# Importing the Data\n",
    "For this tutorial I already have a datafile of xrd data. This datafile is stacked .csv where the first column is the value of 2-theta and subsequent columns are diffracted intensity for a variety of samples.\n",
    "To import the data we're going to define a function \"csv_to_np\" which will use the read_csv function built into pandas to pull the data, and then convert it to a numpy array since we're already familiar with working with those."
   ]
  },
  {
   "cell_type": "markdown",
   "metadata": {},
   "source": [
    "First, given that It's worthwhile to make a function that will convert our data with respect to Q go ahead and use the two_to_q function built to pull the data, and takes in an array of 2-theta values and a X-ray wavelength 𝜆, and returns an array of Q values."
   ]
  },
  {
   "cell_type": "code",
   "execution_count": 5,
   "metadata": {},
   "outputs": [],
   "source": [
    "def two_to_q(two_theta, wave):\n",
    "    #two_theta is a 1D array of two_theta angles\n",
    "    #wave is the X-ray energy in angstroms\n",
    "    rad_theta = two_theta/2*np.pi/180\n",
    "    q = 4*np.pi*np.sin(rad_theta)/wave\n",
    "    return q"
   ]
  },
  {
   "cell_type": "code",
   "execution_count": null,
   "metadata": {},
   "outputs": [],
   "source": []
  },
  {
   "cell_type": "code",
   "execution_count": 6,
   "metadata": {},
   "outputs": [],
   "source": [
    "def csv_to_np(filename):\n",
    "    data = pd.read_csv(filename)\n",
    "    return(np.array(data))\n",
    "\n",
    "perov = csv_to_np('D1_MAPBIBr2_Xraydeg.csv')"
   ]
  },
  {
   "cell_type": "markdown",
   "metadata": {},
   "source": [
    "Go ahead and plot our data. Remember to plot the first column (index 0) of our 2D array (our 2-theta values) against the X-ray diffraction intensities (the values in any other column)."
   ]
  },
  {
   "cell_type": "code",
   "execution_count": null,
   "metadata": {},
   "outputs": [],
   "source": [
    "plt.figure(figsize=(8,6)) #make plot larger\n",
    "plt.plot(perov[:,0],perov[:,2],'r-', label='$MAPbIBr_2$') #plot two-theta versus XRD intesntiy\n",
    "plt.xlabel('2-theta [$^o$]',size=12) #Define x-axis label\n",
    "plt.ylabel('Intensity [a.u.]',size=12)#Define y-axis label\n",
    "plt.legend(loc=\"upper right\")#Put legend in upper left hand corner"
   ]
  },
  {
   "cell_type": "markdown",
   "metadata": {},
   "source": [
    "# Plot Fitting\n"
   ]
  },
  {
   "cell_type": "code",
   "execution_count": null,
   "metadata": {},
   "outputs": [],
   "source": [
    "# Exercise 5\n",
    "q_1 = 2.04 # This will be the lower limit for Q we'll consider\n",
    "q_2 =2.15\n",
    "limit1 = find_nearest(q, q_1) #First our lower limit\n",
    "limit2 = find_nearest(q, q_2) #And of our higher limit\n",
    "q_sub = q[limit1:limit2] # We'll reduce the domain of Q\n",
    "perov_sub = perov[limit1:limit2,1:-1]\n",
    "\n",
    "q_linear = np.hstack((q_sub[0:10], q_sub[-11:-1])) #I'm taking the starting and ending values\n",
    "perov_linear = np.hstack((perov_sub[0:10,0], perov_sub[-11:-1,0])) #We'll use these to fit a straight line\n",
    "slope, intercept = np.polyfit(q_linear, perov_linear, 1) #Do linear fit\n",
    "back = slope*q_sub+intercept #Create background array of the form Background = Ax+B\n",
    "#print (back)\n",
    "\n",
    "#plt.plot(q_sub,perov_sub[:,1], 'r-',label='$MAPbIBr_2$')# plot minus background \n",
    "#Let's begin by getting our data ready to analyze\n",
    "perov_fit = perov_sub[:,0]-back #We'll begin by subtracting the background we calculated for this piece of data\n",
    "\n",
    "#Now let's define a function we'll want to fit to - this is analagous to the \"straight-line-model\" from tutorial 03\n",
    "#We'll call our function gaussian and it will calculate the expression described above\n",
    "def gaussian(x, a, b, c): \n",
    "    return a*np.exp(-(x - b)**2/(2*c**2))\n",
    "\n",
    "#We'll also give an initial guess for our fits based off of a visual interpretaion of our data\n",
    "p0 = [45, 2.4, 2]\n",
    "\n",
    "#Use scipy.optimize.curve_fit to fit our desired data\n",
    "popt, pcov = curve_fit(gaussian, q_sub, perov_fit, p0)\n",
    "\n",
    "#To confirm our fits it's always nice to plot our model versus our data.\n",
    "plt.figure(figsize=(8,6)) #make plot larger\n",
    "plt.plot(q_sub,perov_fit,'r-', label='$MAPbIBr_2$') #plot subfield of data\n",
    "plt.plot(q_sub,gaussian(q_sub, *popt),'b--', label='Model') #plot best fit\n",
    "plt.xlabel('Q [$\\AA^{-1}$]',size=12) #Define x-axis label\n",
    "plt.ylabel('Intensity [a.u.]',size=12)#Define y-axis label\n",
    "plt.legend(loc=\"upper right\")#Put legend in upper left hand corner\n",
    "\n"
   ]
  }
 ],
 "metadata": {
  "kernelspec": {
   "display_name": "Python 3",
   "language": "python",
   "name": "python3"
  },
  "language_info": {
   "codemirror_mode": {
    "name": "ipython",
    "version": 3
   },
   "file_extension": ".py",
   "mimetype": "text/x-python",
   "name": "python",
   "nbconvert_exporter": "python",
   "pygments_lexer": "ipython3",
   "version": "3.7.3"
  }
 },
 "nbformat": 4,
 "nbformat_minor": 2
}
