{
 "cells": [
  {
   "cell_type": "markdown",
   "metadata": {},
   "source": [
    "# Introduction to Different Peak Fitting in Python"
   ]
  },
  {
   "cell_type": "markdown",
   "metadata": {},
   "source": [
    "So far you have been introduced to the python programming language, working with arrays, importing data simple curve fitting, and doing simple peak fittings. In this tutorial we are going to apply those skills to different peak fitting data to improve accuracy of fitting and uncertainty value.\n",
    "\n",
    "After this tutorial you should be able to:\n",
    "\n",
    "    Fit data with multiple Gaussian distributions\n",
    "    Fit data with Lorentzian Function\n",
    "    Combine Gaussian and Lorentzian into pseudo Voigt analysis\n",
    "    Deduce each methods uncertainty\n",
    "Using Gaussian and Lorentzian distributions to fit the dataset is reasonable for data with little noise undergoing multiple separate component distributions.\n",
    "\n",
    "We'll be using the same imports as our previous tutorials with new important additions, math from which we import pi,sin. "
   ]
  },
  {
   "cell_type": "code",
   "execution_count": 3,
   "metadata": {},
   "outputs": [],
   "source": [
    "\n",
    "import numpy as np\n",
    "import csv\n",
    "import os\n",
    "import matplotlib.pyplot as plt\n",
    "import pandas as pd\n",
    "import math\n",
    "import scipy\n",
    "from scipy.optimize import curve_fit\n",
    "from math import pi,sin"
   ]
  },
  {
   "cell_type": "markdown",
   "metadata": {},
   "source": [
    "# Importing the Data\n",
    "For this tutorial I already have a datafile of xrd data. This datafile is stacked .csv where the first column is the value of 2-theta and subsequent columns are diffracted intensity for a variety of samples.\n",
    "To import the data we're going to define a function \"csv_to_np\" which will use the read_csv function built into pandas to pull the data, and then convert it to a numpy array since we're already familiar with working with those."
   ]
  },
  {
   "cell_type": "markdown",
   "metadata": {},
   "source": [
    "First, given that It's worthwhile to make a function that will convert our data with respect to Q go ahead and use the two_to_q function built to pull the data, and takes in an array of 2-theta values and a X-ray wavelength 𝜆, and returns an array of Q values. Well also go ahead and define our past functions from the last tutorial since theyll be useful as well."
   ]
  },
  {
   "cell_type": "code",
   "execution_count": 47,
   "metadata": {},
   "outputs": [],
   "source": [
    "def csv_to_np(filename):\n",
    "    data = pd.read_csv(filename)\n",
    "    return(np.array(data))\n",
    "\n",
    "perov = csv_to_np('D1_MAPBIBr2_Xraydeg.csv')"
   ]
  },
  {
   "cell_type": "code",
   "execution_count": 48,
   "metadata": {},
   "outputs": [],
   "source": [
    "def two_to_q(two_theta, wave):\n",
    "    #two_theta is a 1D array of two_theta angles\n",
    "    #wave is the X-ray energy in angstroms\n",
    "    rad_theta = two_theta/2*np.pi/180\n",
    "    q = 4*np.pi*np.sin(rad_theta)/wave\n",
    "    return q\n"
   ]
  },
  {
   "cell_type": "code",
   "execution_count": 49,
   "metadata": {},
   "outputs": [],
   "source": [
    "def find_nearest(array, target):\n",
    "    array = np.asarray(array) # In case the input is not an array type\n",
    "    idx = (np.abs(array - target)).argmin() # Finds the index of the value closest to the target\n",
    "    return idx"
   ]
  },
  {
   "cell_type": "code",
   "execution_count": 65,
   "metadata": {},
   "outputs": [],
   "source": [
    "def gaussian(x, a, b, c): \n",
    "    return a*np.exp(-(x - b)**2/(2*c**2))"
   ]
  },
  {
   "cell_type": "markdown",
   "metadata": {},
   "source": [
    "Go ahead and plot our data. Remember to plot the first column (index 0) of our 2D array (our 2-theta values) against the X-ray diffraction intensities (the values in any other column)."
   ]
  },
  {
   "cell_type": "code",
   "execution_count": 50,
   "metadata": {},
   "outputs": [
    {
     "data": {
      "text/plain": [
       "<matplotlib.legend.Legend at 0x1a1da0e940>"
      ]
     },
     "execution_count": 50,
     "metadata": {},
     "output_type": "execute_result"
    },
    {
     "data": {
      "image/png": "[encoded data removed]",
      "text/plain": [
       "<Figure size 576x432 with 1 Axes>"
      ]
     },
     "metadata": {
      "needs_background": "light"
     },
     "output_type": "display_data"
    }
   ],
   "source": [
    "plt.figure(figsize=(8,6)) #make plot larger\n",
    "plt.plot(perov[:,0],perov[:,1],'r-', label='$MAPbIBr_2$') #plot two-theta versus XRD intesntiy\n",
    "plt.xlabel('2-theta [$^o$]',size=12) #Define x-axis label\n",
    "plt.ylabel('Intensity [a.u.]',size=12)#Define y-axis label\n",
    "plt.legend(loc=\"upper right\")#Put legend in upper left hand corner"
   ]
  },
  {
   "cell_type": "markdown",
   "metadata": {},
   "source": [
    "# Trimming Data\n",
    "Lets go ahead an trim out data with set limits,so we can then reference those when calling some segment of our array.\n"
   ]
  },
  {
   "cell_type": "code",
   "execution_count": 64,
   "metadata": {},
   "outputs": [
    {
     "ename": "ValueError",
     "evalue": "187 is not in list",
     "output_type": "error",
     "traceback": [
      "\u001b[0;31m---------------------------------------------------------------------------\u001b[0m",
      "\u001b[0;31mValueError\u001b[0m                                Traceback (most recent call last)",
      "\u001b[0;32m<ipython-input-64-2ea76037f9fe>\u001b[0m in \u001b[0;36m<module>\u001b[0;34m\u001b[0m\n\u001b[1;32m      8\u001b[0m \u001b[0mq_2\u001b[0m \u001b[0;34m=\u001b[0m \u001b[0;36m1.15\u001b[0m \u001b[0;31m# This will be our upper limit - ideally there is only one peak between these values\u001b[0m\u001b[0;34m\u001b[0m\u001b[0;34m\u001b[0m\u001b[0m\n\u001b[1;32m      9\u001b[0m \u001b[0;34m\u001b[0m\u001b[0m\n\u001b[0;32m---> 10\u001b[0;31m \u001b[0mlimit1\u001b[0m \u001b[0;34m=\u001b[0m \u001b[0mQ\u001b[0m\u001b[0;34m.\u001b[0m\u001b[0mindex\u001b[0m\u001b[0;34m(\u001b[0m\u001b[0mfind_nearest\u001b[0m\u001b[0;34m(\u001b[0m\u001b[0mq\u001b[0m\u001b[0;34m,\u001b[0m \u001b[0mq_1\u001b[0m\u001b[0;34m)\u001b[0m\u001b[0;34m)\u001b[0m\u001b[0;34m\u001b[0m\u001b[0;34m\u001b[0m\u001b[0m\n\u001b[0m\u001b[1;32m     11\u001b[0m \u001b[0mlimit2\u001b[0m \u001b[0;34m=\u001b[0m\u001b[0mQ\u001b[0m\u001b[0;34m.\u001b[0m\u001b[0mindex\u001b[0m\u001b[0;34m(\u001b[0m\u001b[0mfind_nearest\u001b[0m\u001b[0;34m(\u001b[0m\u001b[0mq\u001b[0m\u001b[0;34m,\u001b[0m \u001b[0mq_2\u001b[0m\u001b[0;34m)\u001b[0m\u001b[0;34m)\u001b[0m\u001b[0;34m\u001b[0m\u001b[0;34m\u001b[0m\u001b[0m\n\u001b[1;32m     12\u001b[0m \u001b[0;34m\u001b[0m\u001b[0m\n",
      "\u001b[0;31mValueError\u001b[0m: 187 is not in list"
     ]
    }
   ],
   "source": [
    "#We'll use our find_nearest function to find the index of real value closest to our desired limit\n",
    "q=two_to_q(perov[:,0],0.9763)\n",
    "\n",
    "Q=q.tolist()\n",
    "#print(Q)\n",
    "\n",
    "q_1 = 0.98 # This will be the lower limit for Q we'll consider\n",
    "q_2 = 1.15 # This will be our upper limit - ideally there is only one peak between these values\n",
    "\n",
    "limit1 = Q.index(find_nearest(q, q_1))\n",
    "limit2 =Q.index(find_nearest(q, q_2))\n",
    "\n"
   ]
  },
  {
   "cell_type": "code",
   "execution_count": 60,
   "metadata": {},
   "outputs": [
    {
     "ename": "TypeError",
     "evalue": "slice indices must be integers or None or have an __index__ method",
     "output_type": "error",
     "traceback": [
      "\u001b[0;31m---------------------------------------------------------------------------\u001b[0m",
      "\u001b[0;31mTypeError\u001b[0m                                 Traceback (most recent call last)",
      "\u001b[0;32m<ipython-input-60-aae710b09d75>\u001b[0m in \u001b[0;36m<module>\u001b[0;34m\u001b[0m\n\u001b[1;32m      1\u001b[0m \u001b[0;31m# Having extablished our limits we can now trim the data\u001b[0m\u001b[0;34m\u001b[0m\u001b[0;34m\u001b[0m\u001b[0;34m\u001b[0m\u001b[0m\n\u001b[1;32m      2\u001b[0m \u001b[0;34m\u001b[0m\u001b[0m\n\u001b[0;32m----> 3\u001b[0;31m \u001b[0mq_sub\u001b[0m \u001b[0;34m=\u001b[0m \u001b[0mQ\u001b[0m\u001b[0;34m[\u001b[0m\u001b[0mlimit1\u001b[0m\u001b[0;34m:\u001b[0m\u001b[0mlimit2\u001b[0m\u001b[0;34m]\u001b[0m \u001b[0;31m# We'll reduce the domain of Q\u001b[0m\u001b[0;34m\u001b[0m\u001b[0;34m\u001b[0m\u001b[0m\n\u001b[0m\u001b[1;32m      4\u001b[0m \u001b[0mperov_sub\u001b[0m \u001b[0;34m=\u001b[0m \u001b[0mperov\u001b[0m\u001b[0;34m[\u001b[0m\u001b[0mlimit1\u001b[0m\u001b[0;34m:\u001b[0m\u001b[0mlimit2\u001b[0m\u001b[0;34m,\u001b[0m\u001b[0;36m1\u001b[0m\u001b[0;34m:\u001b[0m\u001b[0;34m-\u001b[0m\u001b[0;36m1\u001b[0m\u001b[0;34m]\u001b[0m \u001b[0;31m# And correspondingly shrink the size of our diffraction data set.\u001b[0m\u001b[0;34m\u001b[0m\u001b[0;34m\u001b[0m\u001b[0m\n\u001b[1;32m      5\u001b[0m \u001b[0;34m\u001b[0m\u001b[0m\n",
      "\u001b[0;31mTypeError\u001b[0m: slice indices must be integers or None or have an __index__ method"
     ]
    }
   ],
   "source": [
    "# Having extablished our limits we can now trim the data\n",
    "\n",
    "q_sub = q[limit1:limit2] # We'll reduce the domain of Q\n",
    "perov_sub = perov[limit1:limit2,1:-1] # And correspondingly shrink the size of our diffraction data set. \n",
    "\n",
    "# You'll also notice I'm dropping the first column of data in the perov array, since that's now accounted for in q_sub"
   ]
  },
  {
   "cell_type": "code",
   "execution_count": 53,
   "metadata": {
    "scrolled": true
   },
   "outputs": [
    {
     "ename": "NameError",
     "evalue": "name 'q_sub' is not defined",
     "output_type": "error",
     "traceback": [
      "\u001b[0;31m---------------------------------------------------------------------------\u001b[0m",
      "\u001b[0;31mNameError\u001b[0m                                 Traceback (most recent call last)",
      "\u001b[0;32m<ipython-input-53-047454e5afc5>\u001b[0m in \u001b[0;36m<module>\u001b[0;34m\u001b[0m\n\u001b[1;32m      1\u001b[0m \u001b[0;31m#Now let's go ahead and plot again to see if our trimming worked\u001b[0m\u001b[0;34m\u001b[0m\u001b[0;34m\u001b[0m\u001b[0;34m\u001b[0m\u001b[0m\n\u001b[1;32m      2\u001b[0m \u001b[0mplt\u001b[0m\u001b[0;34m.\u001b[0m\u001b[0mfigure\u001b[0m\u001b[0;34m(\u001b[0m\u001b[0mfigsize\u001b[0m\u001b[0;34m=\u001b[0m\u001b[0;34m(\u001b[0m\u001b[0;36m8\u001b[0m\u001b[0;34m,\u001b[0m\u001b[0;36m6\u001b[0m\u001b[0;34m)\u001b[0m\u001b[0;34m)\u001b[0m \u001b[0;31m#make plot larger\u001b[0m\u001b[0;34m\u001b[0m\u001b[0;34m\u001b[0m\u001b[0m\n\u001b[0;32m----> 3\u001b[0;31m \u001b[0mplt\u001b[0m\u001b[0;34m.\u001b[0m\u001b[0mplot\u001b[0m\u001b[0;34m(\u001b[0m\u001b[0mq_sub\u001b[0m\u001b[0;34m,\u001b[0m\u001b[0mperov_sub\u001b[0m\u001b[0;34m[\u001b[0m\u001b[0;34m:\u001b[0m\u001b[0;34m,\u001b[0m\u001b[0;36m0\u001b[0m\u001b[0;34m]\u001b[0m\u001b[0;34m,\u001b[0m\u001b[0;34m'g-'\u001b[0m\u001b[0;34m,\u001b[0m \u001b[0mlabel\u001b[0m\u001b[0;34m=\u001b[0m\u001b[0;34m'$MAPbIBr_2$'\u001b[0m\u001b[0;34m)\u001b[0m \u001b[0;31m#plot subfield of data\u001b[0m\u001b[0;34m\u001b[0m\u001b[0;34m\u001b[0m\u001b[0m\n\u001b[0m\u001b[1;32m      4\u001b[0m \u001b[0mplt\u001b[0m\u001b[0;34m.\u001b[0m\u001b[0mxlabel\u001b[0m\u001b[0;34m(\u001b[0m\u001b[0;34m'Q [$\\AA^{-1}$]'\u001b[0m\u001b[0;34m,\u001b[0m\u001b[0msize\u001b[0m\u001b[0;34m=\u001b[0m\u001b[0;36m12\u001b[0m\u001b[0;34m)\u001b[0m \u001b[0;31m#Define x-axis label\u001b[0m\u001b[0;34m\u001b[0m\u001b[0;34m\u001b[0m\u001b[0m\n\u001b[1;32m      5\u001b[0m \u001b[0mplt\u001b[0m\u001b[0;34m.\u001b[0m\u001b[0mylabel\u001b[0m\u001b[0;34m(\u001b[0m\u001b[0;34m'Intensity [a.u.]'\u001b[0m\u001b[0;34m,\u001b[0m\u001b[0msize\u001b[0m\u001b[0;34m=\u001b[0m\u001b[0;36m12\u001b[0m\u001b[0;34m)\u001b[0m\u001b[0;31m#Define y-axis label\u001b[0m\u001b[0;34m\u001b[0m\u001b[0;34m\u001b[0m\u001b[0m\n",
      "\u001b[0;31mNameError\u001b[0m: name 'q_sub' is not defined"
     ]
    },
    {
     "data": {
      "text/plain": [
       "<Figure size 576x432 with 0 Axes>"
      ]
     },
     "metadata": {},
     "output_type": "display_data"
    }
   ],
   "source": [
    "#Now let's go ahead and plot again to see if our trimming worked\n",
    "plt.figure(figsize=(8,6)) #make plot larger\n",
    "plt.plot(q_sub,perov_sub[:,0],'g-', label='$MAPbIBr_2$') #plot subfield of data\n",
    "plt.xlabel('Q [$\\AA^{-1}$]',size=12) #Define x-axis label\n",
    "plt.ylabel('Intensity [a.u.]',size=12)#Define y-axis label\n",
    "plt.legend(loc=\"upper right\")#Put legend in upper left hand corner"
   ]
  },
  {
   "cell_type": "markdown",
   "metadata": {},
   "source": [
    "# Substracting Background\n",
    "Improving the linear fitting introduced in Tutorial 04, let's fit a striaght line for the data around our peak using the size of the data files to get a non-zero baseline."
   ]
  },
  {
   "cell_type": "code",
   "execution_count": 67,
   "metadata": {},
   "outputs": [
    {
     "ename": "NameError",
     "evalue": "name 'perov_sub' is not defined",
     "output_type": "error",
     "traceback": [
      "\u001b[0;31m---------------------------------------------------------------------------\u001b[0m",
      "\u001b[0;31mNameError\u001b[0m                                 Traceback (most recent call last)",
      "\u001b[0;32m<ipython-input-67-8e49ed205985>\u001b[0m in \u001b[0;36m<module>\u001b[0;34m\u001b[0m\n\u001b[1;32m      1\u001b[0m \u001b[0;31m# Using the linear fitting introduced in Tutorial 03, let's fit a straight line for the data around our peak.\u001b[0m\u001b[0;34m\u001b[0m\u001b[0;34m\u001b[0m\u001b[0;34m\u001b[0m\u001b[0m\n\u001b[0;32m----> 2\u001b[0;31m \u001b[0msize\u001b[0m \u001b[0;34m=\u001b[0m \u001b[0mperov_sub\u001b[0m\u001b[0;34m.\u001b[0m\u001b[0mshape\u001b[0m\u001b[0;34m\u001b[0m\u001b[0;34m\u001b[0m\u001b[0m\n\u001b[0m\u001b[1;32m      3\u001b[0m \u001b[0mprint\u001b[0m \u001b[0;34m(\u001b[0m\u001b[0msize\u001b[0m\u001b[0;34m)\u001b[0m\u001b[0;34m\u001b[0m\u001b[0;34m\u001b[0m\u001b[0m\n\u001b[1;32m      4\u001b[0m \u001b[0mq_bins\u001b[0m \u001b[0;34m=\u001b[0m \u001b[0msize\u001b[0m\u001b[0;34m[\u001b[0m\u001b[0;36m0\u001b[0m\u001b[0;34m]\u001b[0m\u001b[0;34m\u001b[0m\u001b[0;34m\u001b[0m\u001b[0m\n\u001b[1;32m      5\u001b[0m \u001b[0mnum_frames\u001b[0m \u001b[0;34m=\u001b[0m \u001b[0msize\u001b[0m\u001b[0;34m[\u001b[0m\u001b[0;36m1\u001b[0m\u001b[0;34m]\u001b[0m\u001b[0;34m\u001b[0m\u001b[0;34m\u001b[0m\u001b[0m\n",
      "\u001b[0;31mNameError\u001b[0m: name 'perov_sub' is not defined"
     ]
    }
   ],
   "source": [
    "# Using the linear fitting introduced in Tutorial 03, let's fit a straight line for the data around our peak.\n",
    "size = perov_sub.shape\n",
    "print (size)\n",
    "q_bins = size[0]\n",
    "num_frames = size[1]\n",
    "slope = np.zeros((num_frames,1))\n",
    "intercept = np.zeros((num_frames,1))\n",
    "back = np.zeros((q_bins,num_frames))\n",
    "int_correct = np.zeros((q_bins,num_frames))\n",
    "\n",
    "#accept a data file and range and returns average values at start and end of range\n",
    "for j in range(num_frames): \n",
    "    slope[j] = ((np.mean(perov_sub[-10:-1,j])-np.mean(perov_sub[0:10,j]))/(np.mean(q[limit2-10:limit2])-np.mean(q[limit1:limit1+10])))\n",
    "    b[j]=perov_sub[0,j]-slope[j]*q_sub[0]\n",
    "    back[:,j] = [slope[j]*element+b[j] for element in q_sub]\n",
    "    int_correct[:,j] = perov_sub[:,j]-np.array(back[:,j])\n",
    "\n",
    "plt.plot(np.array(q_sub),int_correct)"
   ]
  },
  {
   "cell_type": "markdown",
   "metadata": {},
   "source": [
    "# Guassian fitting\n",
    "Like in tutorial 4, you learned how to fit the experimental data to a gaussian fit. \n",
    "\n",
    "Rememebr that our idelaized model is a guassian peak, which is described by the following expression:\n",
    "\n",
    "$$f(x)=ae^{\\frac{-(x-b)^2}{2c^2}}$$\n",
    "\n",
    "Where $a$ is the height of the peak, $b$ is the peak's center, and $c$ is the standard deviation which impacts the width of the peak.\n"
   ]
  },
  {
   "cell_type": "code",
   "execution_count": 114,
   "metadata": {},
   "outputs": [],
   "source": [
    "#We'll also give an initial guess for our fits based off of a visual interpretaion of our data depiciting a,b,c \n",
    "p0 = [250, 1, 0.2]\n",
    "\n",
    "intensity_1 = np.zeros((num_frames)) #create correct size arrays for running in the loop\n",
    "intensity_2= np.zeros((num_frames))\n",
    "lattice_1= np.zeros((num_frames))\n",
    "lattice_2 = np.zeros((num_frames))\n",
    "\n",
    "for j in range(num_frames):\n",
    "    popt, pcov = curve_fit(gaussian, np.array(q_sub), int_correct[:,j], p0)\n",
    "    intensity_1[j] = popt[0]\n",
    "    lattice_1[j] = 2*math.pi/popt[1] \n",
    "    p0 = popt #once you have the initial fit use that as your next guess, we expect things to be continuous so this helps with that\n",
    "print (lattice_1)#lattice of all frames in sample\n",
    "\n",
    "\n",
    "#%%\n",
    "intensity_1 = np.zeros((num_frames))\n",
    "intensity_2= np.zeros((num_frames))\n",
    "intensity_3= np.zeros((num_frames))\n",
    "lattice_1= np.zeros((num_frames))\n",
    "lattice_2 = np.zeros((num_frames))\n",
    "lattice_3 = np.zeros((num_frames))\n",
    "# %%\n",
    "\n",
    "\n",
    "#guassian fits with plotting\n",
    "#pick fitting and initial guess\n",
    "i = 2#number of fits \n",
    "j = 16#number of frames \n",
    "p0 = [250, 1, 0.2]\n",
    "plt.plot(np.array(q_sub), int_correct[:,j],color='black')\n",
    "\n",
    "if i==1:#if you only want one fit\n",
    "    popt, pcov = curve_fit(gaussian, np.array(q_sub), int_correct[:,j], p0[0:3]) #Return co-effs for fit and covariance\n",
    "    plt.plot(np.array(q_sub), gaussian(np.array(q_sub),*popt))#fitted curve\n",
    "    plt.plot(np.array(q_sub), int_correct[:,j],color='black')# original curve\n",
    "    print('lattice spacing:', [4*math.pi/popt[1]])\n",
    "    intensity_1[j] = popt[0]\n",
    "    lattice_1[j] = 2*math.pi/popt[1] \n",
    "\n",
    "print(popt)\n",
    "plt.xlabel('Q')\n",
    "plt.ylabel('Intensity')"
   ]
  },
  {
   "cell_type": "markdown",
   "metadata": {},
   "source": [
    "# Lorentzian Function\n",
    "Now that youve seen how much more qualitavely accurate multi guassian peak fitting is well go thorugh another idelaized model, Lorentizian peak:\n",
    "                            \n",
    "                          f(x;A,μ,σ)=Aπ[σ(x−μ)2+σ2]\n",
    " Like Guassian, $a$ is the height of the peak, $b$ is the peak's center, and $c$ is the standard deviation which impacts the width of the peak. In addition, parameters $fwhm$ and height are included as constraints to report full width at half maximum and maximum peak height, respectively."
   ]
  },
  {
   "cell_type": "code",
   "execution_count": 7,
   "metadata": {},
   "outputs": [
    {
     "ename": "NameError",
     "evalue": "name 'x' is not defined",
     "output_type": "error",
     "traceback": [
      "\u001b[0;31m---------------------------------------------------------------------------\u001b[0m",
      "\u001b[0;31mNameError\u001b[0m                                 Traceback (most recent call last)",
      "\u001b[0;32m<ipython-input-7-990cb7c56f51>\u001b[0m in \u001b[0;36m<module>\u001b[0;34m\u001b[0m\n\u001b[1;32m      7\u001b[0m \u001b[0;34m\u001b[0m\u001b[0m\n\u001b[1;32m      8\u001b[0m \u001b[0;31m# Well be using same intensity and lattice from the orginal curve to analyze\u001b[0m\u001b[0;34m\u001b[0m\u001b[0;34m\u001b[0m\u001b[0;34m\u001b[0m\u001b[0m\n\u001b[0;32m----> 9\u001b[0;31m \u001b[0mp0\u001b[0m \u001b[0;34m=\u001b[0m \u001b[0;34m[\u001b[0m\u001b[0mx\u001b[0m\u001b[0;34m,\u001b[0m\u001b[0;36m250\u001b[0m\u001b[0;34m,\u001b[0m \u001b[0;36m1\u001b[0m\u001b[0;34m,\u001b[0m \u001b[0;36m0.2\u001b[0m\u001b[0;34m]\u001b[0m\u001b[0;34m\u001b[0m\u001b[0;34m\u001b[0m\u001b[0m\n\u001b[0m\u001b[1;32m     10\u001b[0m \u001b[0;34m\u001b[0m\u001b[0m\n\u001b[1;32m     11\u001b[0m \u001b[0mintensity_1\u001b[0m \u001b[0;34m=\u001b[0m \u001b[0mnp\u001b[0m\u001b[0;34m.\u001b[0m\u001b[0mzeros\u001b[0m\u001b[0;34m(\u001b[0m\u001b[0;34m(\u001b[0m\u001b[0mnum_frames\u001b[0m\u001b[0;34m)\u001b[0m\u001b[0;34m)\u001b[0m \u001b[0;31m#create correct size arrays for running in the loop\u001b[0m\u001b[0;34m\u001b[0m\u001b[0;34m\u001b[0m\u001b[0m\n",
      "\u001b[0;31mNameError\u001b[0m: name 'x' is not defined"
     ]
    }
   ],
   "source": [
    "#Now let's define a function we'll want to fit  \n",
    "#We'll call our function lorentzian and it will calculate the expression described above\n",
    "def lorentzian(x, a, b, c):\n",
    "    return (a*b**2/((x-c)**2+b**2))\n",
    "\n",
    "\n",
    "\n",
    "# Well be using same intensity and lattice from the orginal curve to analyze\n",
    "p0 = [x,250, 1, 0.2]\n",
    "\n",
    "intensity_1 = np.zeros((num_frames)) #create correct size arrays for running in the loop\n",
    "intensity_2= np.zeros((num_frames))\n",
    "lattice_1= np.zeros((num_frames))\n",
    "lattice_2 = np.zeros((num_frames))\n",
    "\n",
    "for j in range(num_frames):\n",
    "    popt, pcov = curve_fit(lorentzian, np.array(q_sub), int_correct[:,j], p0)\n",
    "    intensity_1[j] = popt[0]\n",
    "    lattice_1[j] = 2*math.pi/popt[1] \n",
    "    p0 = popt #once you have the initial fit use that as your next guess, we expect things to be continuous so this helps with that\n",
    "print (lattice_1)#lattice of all frames in sample\n",
    "\n",
    "\n",
    "#%%\n",
    "intensity_1 = np.zeros((num_frames))\n",
    "lattice_1= np.zeros((num_frames))\n",
    "# %%\n",
    "\n",
    "\n"
   ]
  },
  {
   "cell_type": "markdown",
   "metadata": {},
   "source": [
    "# Exercise 1\n",
    "You'll notice how Lorentzian fit are similar to Guassina just an added parameter, modify the code used for the Gaussian fit accordingly and plot your graph."
   ]
  },
  {
   "cell_type": "code",
   "execution_count": null,
   "metadata": {},
   "outputs": [],
   "source": []
  },
  {
   "cell_type": "markdown",
   "metadata": {},
   "source": [
    "   # PseudoVoigt Fitting\n",
    "    \n",
    "   Most likely youll find data that is hard to analyze with just one gaussian or lorentzian fit indicating the material undergoing changes.\n",
    "\n",
    "   Pseudo Voigt function is a weighted sum of a Gaussian and Lorentzian distribution functions with that share values for amplitude (A), center (μ), and full width at half maximum σ (meaning there is a contrained values of sigma).A fourth parameter fraction (α) controls the relative weight of the Gaussian and Lorentzian components:\n",
    "   \n",
    "                           f(x;A,μ,σ,α)=(1−α)Aσg2π‾‾‾√e[−(x−μ)2/2σg2]+αAπ[σ(x−μ)2+σ2]\n",
    "\n",
    "Below you'll learn how much better using both fits:\n",
    "\n",
    "We'll again use scipy.optimize.curve_fit to pull these parameters from our data set."
   ]
  },
  {
   "cell_type": "code",
   "execution_count": null,
   "metadata": {},
   "outputs": [],
   "source": [
    "#Now let's define a function we'll want to fit to \n",
    "#We'll call our function voigt and it will calculate the expression described above\n",
    "def Voigt(x, a1, b1, c1, a2, b2, c2): \n",
    "#a1,b1,c1 are all guassian parameters while a2,b2,c2 are Lorentzian\n",
    "    return (a1*(1/(c1*(np.sqrt(2*np.pi))))*(np.exp(-((x-b1)**2)/((2*c1)**2)))) +\\\n",
    "              ((a2*c2**2/((x-b2)**2+c2**2)) )\n",
    "\n",
    "p0 = [0.5,250, 1, 0.2,250, 1, 0.2]\n",
    "#last parameter is input on how much of the fit is Lorentzian and/or Gaussian 0=guassian,1=Lorentzian,0.5 is a mix\n",
    "intensity_1 = np.zeros((num_frames)) #create correct size arrays for running in the loop\n",
    "intensity_2= np.zeros((num_frames))\n",
    "lattice_1= np.zeros((num_frames))\n",
    "lattice_2 = np.zeros((num_frames))\n",
    "\n",
    "for j in range(num_frames):\n",
    "    popt, pcov = curve_fit(lorentzian, np.array(q_sub), int_correct[:,j], p0)\n",
    "    intensity_1[j] = popt[0]\n",
    "    lattice_1[j] = 2*math.pi/popt[1] \n",
    "    p0 = popt #once you have the initial fit use that as your next guess, we expect things to be continuous so this helps with that\n",
    "print (lattice_1)#lattice of all frames in sample"
   ]
  },
  {
   "cell_type": "code",
   "execution_count": 5,
   "metadata": {},
   "outputs": [
    {
     "ename": "NameError",
     "evalue": "name 'q_sub' is not defined",
     "output_type": "error",
     "traceback": [
      "\u001b[0;31m---------------------------------------------------------------------------\u001b[0m",
      "\u001b[0;31mNameError\u001b[0m                                 Traceback (most recent call last)",
      "\u001b[0;32m<ipython-input-5-102e73a61372>\u001b[0m in \u001b[0;36m<module>\u001b[0;34m\u001b[0m\n\u001b[1;32m     11\u001b[0m \u001b[0;34m\u001b[0m\u001b[0m\n\u001b[1;32m     12\u001b[0m \u001b[0;31m#Use scipy.optimize.curve_fit to fit our desired data\u001b[0m\u001b[0;34m\u001b[0m\u001b[0;34m\u001b[0m\u001b[0;34m\u001b[0m\u001b[0m\n\u001b[0;32m---> 13\u001b[0;31m \u001b[0mpopt\u001b[0m\u001b[0;34m,\u001b[0m \u001b[0mpcov\u001b[0m \u001b[0;34m=\u001b[0m \u001b[0mcurve_fit\u001b[0m\u001b[0;34m(\u001b[0m\u001b[0mgaussian\u001b[0m\u001b[0;34m,\u001b[0m \u001b[0mq_sub\u001b[0m\u001b[0;34m,\u001b[0m \u001b[0mperov_fit\u001b[0m\u001b[0;34m,\u001b[0m \u001b[0mp0\u001b[0m\u001b[0;34m)\u001b[0m\u001b[0;34m\u001b[0m\u001b[0;34m\u001b[0m\u001b[0m\n\u001b[0m\u001b[1;32m     14\u001b[0m \u001b[0;34m\u001b[0m\u001b[0m\n",
      "\u001b[0;31mNameError\u001b[0m: name 'q_sub' is not defined"
     ]
    }
   ],
   "source": [
    "#We'll also give an initial guess for our fits based off of a visual interpretaion of our data but add our fourth parameter \n",
    "p0 = [0.5,250, 1, 0.2,250, 1, 0.2]\n",
    "\n",
    "\n",
    "#Use scipy.optimize.curve_fit to fit our desired data\n",
    "popt, pcov = curve_fit(Voigt, q_sub, perov_fit, p0)\n",
    "\n",
    "#%%\n",
    "intensity_1 = np.zeros((num_frames))\n",
    "lattice_1= np.zeros((num_frames))\n",
    "# %%\n",
    "\n",
    "\n",
    "#guassian fits with plotting\n",
    "#pick fitting and initial guess\n",
    "i = 1#number of fits \n",
    "j = 16#number of frames \n",
    "p0 = [0.5,250, 1, 0.2]\n",
    "plt.plot(np.array(q_sub), int_correct[:,j],color='black')\n",
    "\n",
    "if i==1:#if you only want one fit\n",
    "    popt, pcov = curve_fit(voigt, np.array(q_sub), int_correct[:,j], p0[0:7])\n",
    "    plt.plot(np.array(q_sub), voigt(np.array(q_sub),*popt))#fitted curve\n",
    "    plt.plot(np.array(q_sub), int_correct[:,j],color='black')# original curve\n",
    "    print('lattice spacing:', [2*math.pi/popt[1]])\n",
    "    intensity_1[j] = popt[0]\n",
    "    lattice_1[j] = 2*math.pi/popt[1] \n",
    "\n",
    "print(popt)\n",
    "plt.xlabel('Q')\n",
    "plt.ylabel('Intensity')\n",
    "\n"
   ]
  },
  {
   "cell_type": "markdown",
   "metadata": {},
   "source": [
    "# Exercise 2\n",
    "Instead of fitting to the (100) peak, we'll often look at the (200) peak for better resolution. Create a new piece of code that succesfully finds the lattice parameter using the (200) peak instead. Do you have a more accurate prediction using the (200) peak? Remember, you will have to update your data limits for this to run succesfully.\n",
    "\n",
    "You'll notice your lattice is of by a factor of 2, why do you think that happened? Youll have to change that piece to get the correct lattice."
   ]
  },
  {
   "cell_type": "code",
   "execution_count": null,
   "metadata": {},
   "outputs": [],
   "source": []
  },
  {
   "cell_type": "markdown",
   "metadata": {},
   "source": [
    "# Introduction of uncertainty and quantifying for curve fitting\n",
    "Looking back at how good of a fit our different models curve to the data, we are interested in analysing the quality of the fit. CurveFit returns a useful pcov matrix, from which the standard deviation of each fitting parameter can be computed as follwed:"
   ]
  },
  {
   "cell_type": "code",
   "execution_count": null,
   "metadata": {},
   "outputs": [],
   "source": [
    "# Function to calculate the power-law well use to calculate residuals with constants a and b\n",
    "def power_law(x, a, b): #commonly use model: y= ax^b \n",
    "    return a*np.power(x, b)\n",
    "\n",
    "p0 = [250, 1, 0.2] #Initial guess of parameters for Gaussian fit \n",
    "popt, pcov = curve_fit(gaussian, np.array(q_sub), int_correct[:,j], p0[0:3]) #Return co-effs for fit and covariance\n",
    "\n",
    "# Get the standard deviations of the parameters (square roots of the # diagonal of the covariance)\n",
    "stdevs = np.sqrt(np.diag(pcov))#‘Parameter A is %f (%f uncertainty)% (popt[0], np.sqrt(pcov[0, 0]))\n",
    "\n",
    "# Calculate the residuals\n",
    "res = gaussian(np.array(q_sub) - power_law( int_correct[:,j]), *popt)  \n",
    "\n",
    "print(stdevs)\n",
    "print(popt)"
   ]
  },
  {
   "cell_type": "markdown",
   "metadata": {},
   "source": [
    "# Exercise 3\n",
    "Use the skills youve learned so far on uncertainty to deduce wheter Pseudo-Voigt is a better curve fitting model by comparing it to Gaussian fit:"
   ]
  },
  {
   "cell_type": "code",
   "execution_count": null,
   "metadata": {},
   "outputs": [],
   "source": []
  },
  {
   "cell_type": "markdown",
   "metadata": {},
   "source": [
    "# Exercise 4\n",
    "Now compare Pseudo-Voigt to the Lorentzian fit:"
   ]
  },
  {
   "cell_type": "code",
   "execution_count": null,
   "metadata": {},
   "outputs": [],
   "source": []
  }
 ],
 "metadata": {
  "kernelspec": {
   "display_name": "Python 3",
   "language": "python",
   "name": "python3"
  },
  "language_info": {
   "codemirror_mode": {
    "name": "ipython",
    "version": 3
   },
   "file_extension": ".py",
   "mimetype": "text/x-python",
   "name": "python",
   "nbconvert_exporter": "python",
   "pygments_lexer": "ipython3",
   "version": "3.7.3"
  }
 },
 "nbformat": 4,
 "nbformat_minor": 2
}
