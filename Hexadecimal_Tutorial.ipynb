{
 "cells": [
  {
   "cell_type": "code",
   "execution_count": 19,
   "metadata": {},
   "outputs": [
    {
     "name": "stdout",
     "output_type": "stream",
     "text": [
      "Decimal 179 = binary 0b10110011\n",
      "Decimal 179 = hex    0xb3\n"
     ]
    }
   ],
   "source": [
    "import binascii\n",
    "\n",
    "# A hex value uses 2 digits to represent a single byte\n",
    "# For example, in Hex:  B3 = 11(16**1) + 3(16**0) = 179\n",
    "\n",
    "# In decimal, 179 equals Hex 0xB3, which equals binary b10110011\n",
    "print('Decimal 179 = binary '+ bin(179))\n",
    "print('Decimal 179 = hex    '+ hex(179))\n",
    "#print('Hex 0xB3 equals decimal ' 0xB3)\n",
    "\n",
    "\n",
    "#binascii.hexlify(\"10110011\")"
   ]
  },
  {
   "cell_type": "code",
   "execution_count": null,
   "metadata": {},
   "outputs": [],
   "source": []
  },
  {
   "cell_type": "code",
   "execution_count": null,
   "metadata": {},
   "outputs": [],
   "source": []
  }
 ],
 "metadata": {
  "kernelspec": {
   "display_name": "Python 3",
   "language": "python",
   "name": "python3"
  },
  "language_info": {
   "codemirror_mode": {
    "name": "ipython",
    "version": 3
   },
   "file_extension": ".py",
   "mimetype": "text/x-python",
   "name": "python",
   "nbconvert_exporter": "python",
   "pygments_lexer": "ipython3",
   "version": "3.7.4"
  }
 },
 "nbformat": 4,
 "nbformat_minor": 2
}
