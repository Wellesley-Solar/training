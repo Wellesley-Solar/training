{
 "cells": [
  {
   "cell_type": "markdown",
   "metadata": {},
   "source": [
    "# The Fourth-Order Runge-Kutta Method for Numerical Integration "
   ]
  },
  {
   "cell_type": "markdown",
   "metadata": {},
   "source": [
    "Numerical integration is very useful for calculating results of differential equations that cannot be solved analytically. The fourth-order Runge-Kutta method (rk4) is an accurate and common technique for such integration."
   ]
  },
  {
   "cell_type": "markdown",
   "metadata": {},
   "source": [
    "### The Basic RK4 Method "
   ]
  },
  {
   "cell_type": "markdown",
   "metadata": {},
   "source": [
    "Rk4 refines techniques from [Euler](https://en.wikipedia.org/wiki/Euler_method) by taking trial steps at midpoints in order to produce a more accurate final result. These steps take the form below for a differential equation $y' = f(x,y)$ at an independent point $x_n$ and advancing to $x_{n+1}$:\n",
    "\n",
    "$$\n",
    "k_1 = hf(x_n,y_n)\n",
    "$$\n",
    "$$\n",
    "k_2 = hf(x_n+\\frac{1}{2}h,y_n + \\frac{1}{2}k_1)\n",
    "$$\n",
    "$$\n",
    "k_3 = hf(x_n+\\frac{1}{2}h,y_n + \\frac{1}{2}k_2)\n",
    "$$\n",
    "$$\n",
    "k_4 = hf(x_n+h,y_n+k_3)\n",
    "$$\n",
    "\n",
    "$$\n",
    "y_{n+1} \\approx y_n + \\frac{1}{6}k_1 + \\frac{1}{3}k_2 + \\frac{1}{3}k_2 + \\frac{1}{6}k_4 \n",
    "$$"
   ]
  },
  {
   "cell_type": "markdown",
   "metadata": {},
   "source": [
    "It's useful to think of the four $k$ approximations as approximations for change in $y(x)$ from $y(x_n)$ to $y(x_{n+1})$. Then the calculation for $y_{n+1}$ takes a weighted average of all four of these, resulting in a more accurate change in $y$, and adds it to $y_n$ to get $y_{n+1}$."
   ]
  },
  {
   "cell_type": "markdown",
   "metadata": {},
   "source": [
    "### Using RK4 for higher order differential equations "
   ]
  },
  {
   "cell_type": "markdown",
   "metadata": {},
   "source": [
    "In order to use rk4 for higher order differential equations, it is necessary to think of the differential equation as a system of first order differential equations."
   ]
  },
  {
   "cell_type": "markdown",
   "metadata": {},
   "source": [
    "For example, if we once again model a mass on a spring, we know that\n",
    "$$\n",
    "a = x'' = -\\frac{k}{m}x\n",
    "$$\n",
    "\n",
    "with values of $x_n$ and $v_n$ at the beginning of the step.\n",
    "\n",
    "We can then write acceleration and velocity as\n",
    "\n",
    "$$\n",
    "\\frac{dx}{dt} = v\n",
    "$$\n",
    "\n",
    "and\n",
    "$$\n",
    "\\frac{dv}{dt} = x'' = -\\frac{k}{m}x\n",
    "$$\n",
    "\n",
    "so what we really have is a system of first-order differential equations, which we can write as\n",
    "\n",
    "$$\n",
    "\\mathbf{\\dot x} = \\mathbf{Ax},\n",
    "$$\n",
    "\n",
    "where\n",
    "\n",
    "$$\n",
    "\\mathbf{\\dot x} = \\begin{pmatrix} x' \\\\ v' \\end{pmatrix}\n",
    "$$"
   ]
  },
  {
   "cell_type": "markdown",
   "metadata": {},
   "source": [
    "$$\n",
    "\\mathbf{A} = \\begin{pmatrix} 0 && 1 \\\\ -\\frac{k}{m} && 0\\end{pmatrix}\n",
    "$$\n",
    "\n",
    "and\n",
    "\n",
    "$$\n",
    "\\mathbf{x} = \\begin{pmatrix} x \\\\ v \\end{pmatrix}\n",
    "$$"
   ]
  },
  {
   "cell_type": "markdown",
   "metadata": {},
   "source": [
    "Let's define $k_1 ... k_4$ to be the approximations for change in position and $\\ell_1 ... \\ell_4$ to be the approximations for change in velocity."
   ]
  },
  {
   "cell_type": "markdown",
   "metadata": {},
   "source": [
    "We must calculate $k_1$ and $\\ell_1$ together, and $k_2$ and $\\ell_2$ together, and so on, so that we can have midpoint approximations for both acceleration and velocity."
   ]
  },
  {
   "cell_type": "markdown",
   "metadata": {},
   "source": [
    "#### Evaluating $k_1$ and $\\ell_1$"
   ]
  },
  {
   "cell_type": "markdown",
   "metadata": {},
   "source": [
    "These are pretty easy because we have $x_n$ and $y_n$ for the beginning of the step. Therefore we know that\n",
    "\n",
    "$$\n",
    "k_1 = hv_n\n",
    "$$\n",
    "and\n",
    "$$\n",
    "\\ell_1 = -\\frac{k}{m}x_n\n",
    "$$"
   ]
  },
  {
   "cell_type": "markdown",
   "metadata": {},
   "source": [
    "#### Evaluating $k_2$ and $\\ell_2$"
   ]
  },
  {
   "cell_type": "markdown",
   "metadata": {},
   "source": [
    "Now we have to use our values for $k_1$ and $\\ell_1$ to find $k_2$ and $\\ell_2$.\n",
    "\n",
    "$$\n",
    "k_2 = h(v_n + \\frac{1}{2}\\ell_1)\n",
    "$$\n",
    "\n",
    "$$\n",
    "\\ell_2 = h(-\\frac{k}{m}(x_n + \\frac{1}{2}k_1))\n",
    "$$"
   ]
  },
  {
   "cell_type": "markdown",
   "metadata": {},
   "source": [
    "The same process continues for the next two change calculations."
   ]
  },
  {
   "cell_type": "markdown",
   "metadata": {},
   "source": [
    "#### Final Result"
   ]
  },
  {
   "cell_type": "markdown",
   "metadata": {},
   "source": [
    "In the end, we finally get\n",
    "$$\n",
    "x_{n+1} \\approx x_n + \\frac{1}{6}k_1 + \\frac{1}{3}k_2 + \\frac{1}{3}k_2 + \\frac{1}{6}k_4 \n",
    "$$\n",
    "and\n",
    "$$\n",
    "v_{n+1} \\approx v_n + \\frac{1}{6}\\ell_1 + \\frac{1}{3}\\ell_2 + \\frac{1}{3}\\ell_2 + \\frac{1}{6}\\ell_4,\n",
    "$$\n",
    "\n",
    "similar to our result for a first order differential equation."
   ]
  },
  {
   "cell_type": "markdown",
   "metadata": {},
   "source": [
    "### Generalizing RK4 for computation "
   ]
  },
  {
   "cell_type": "code",
   "execution_count": 1,
   "metadata": {
    "collapsed": false
   },
   "outputs": [],
   "source": [
    "import numpy as np # For more refined numerical operations\n",
    "import matplotlib.pyplot as plt # For graphing\n",
    "# For showing the graphs inline of the notebook.\n",
    "%matplotlib inline "
   ]
  },
  {
   "cell_type": "markdown",
   "metadata": {},
   "source": [
    "It's useful to have a general rk4 in your python library so it can be called for any number of differential equations. In order to generalize rk4, we will consider the system of first order differential equations to be a vector of derivative functions and the initial conditions to be another vector. Additionally, we will code rk4 such that it can be used for vector functions (such as position, velocity, etc. in multiple dimensions) when necessary."
   ]
  },
  {
   "cell_type": "markdown",
   "metadata": {},
   "source": [
    "Our implementation of rk4 only runs one step at a time. This is so the user can implement it in a loop and collect whichever derivatives are useful to them. For example, if we were running this rk4 implementation with simple harmonic motion, we may want to take out the values for both position and velocity."
   ]
  },
  {
   "cell_type": "markdown",
   "metadata": {},
   "source": [
    "For the function below, x_init is the initial value for the independent variable, init_condns is our vector of initial conditions, params are any constant parameters needed to calculate derivatives, derivs is our vector of derivative functions, all of which take in the arguments (x_init, init_condns, params), and step_size is $h$ from above – how big we want the step size to be. step_size is an optional argument whose default setting is .01."
   ]
  },
  {
   "cell_type": "code",
   "execution_count": 2,
   "metadata": {
    "collapsed": true
   },
   "outputs": [],
   "source": [
    "def rk4_oneStep(x_init,init_condns,params,derivs,step_size=.01):    \n",
    "    \n",
    "    new_init_condns = list(init_condns) # A copy of init_condns is needed due to object reference in python.\n",
    "    new_x_init = x_init # new_x_init will vary with the different approximations, while x_init will not.\n",
    "    \n",
    "\n",
    "    # First approximations\n",
    "    \n",
    "    k_one = np.zeros_like(init_condns)\n",
    "    \n",
    "    # The lower-level k_ones are just calculated with the initial conditions.\n",
    "    k_one[0:len(derivs)-1] = np.full_like(k_one[:len(derivs)-1],step_size) * init_condns[1:len(derivs)]\n",
    "    \n",
    "    # The lowest_level k_one uses its derivative function with init_condns to calculate its derivative.\n",
    "    k_one[len(derivs)-1] = step_size * derivs[len(derivs)-1](x_init, init_condns, params)\n",
    "    \n",
    "    \n",
    "    # First updates\n",
    "    \n",
    "    new_init_condns = init_condns + k_one/2.\n",
    "    new_x_init = x_init + .5 * step_size\n",
    "\n",
    "    \n",
    "    # Second approximations\n",
    "    \n",
    "    k_two = np.zeros_like(init_condns)\n",
    "    for i in range(len(derivs)):\n",
    "        k_two[i] = step_size * derivs[i](x_init, new_init_condns, params)\n",
    "    \n",
    "    \n",
    "    # Second updates\n",
    "    \n",
    "    new_init_condns = init_condns + .5 * k_two\n",
    "\n",
    "    \n",
    "    # Third approximations\n",
    "    \n",
    "    k_three = np.zeros_like(init_condns)\n",
    "    for i in range(len(derivs)):\n",
    "        k_three[i] = step_size * derivs[i](x_init,new_init_condns,params)\n",
    "\n",
    "        \n",
    "    # Third updates\n",
    "    \n",
    "    new_init_condns = init_condns + k_three\n",
    "    new_x_init = x_init + step_size\n",
    "\n",
    "    \n",
    "    # Fourth approximations\n",
    "    \n",
    "    k_four = np.zeros_like(init_condns)\n",
    "    for i in range(len(derivs)):\n",
    "        k_four[i] = step_size * derivs[i](x_init, new_init_condns, params)\n",
    "\n",
    "        \n",
    "    # The steps are taken\n",
    "    \n",
    "    new_init_condns = init_condns + k_one/6. + k_two/3. + k_three/3. + k_four/6.\n",
    "\n",
    "    \n",
    "    # x_init is updated and returned so a independent data list can be compiled for plotting.\n",
    "    \n",
    "    x_init = x_init + step_size\n",
    "      \n",
    "    return [x_init,new_init_condns]\n"
   ]
  },
  {
   "cell_type": "markdown",
   "metadata": {},
   "source": [
    "### Example: Modelling Mass on a Spring"
   ]
  },
  {
   "cell_type": "markdown",
   "metadata": {},
   "source": [
    "Let's run through a computational example of this with our mass on a spring system."
   ]
  },
  {
   "cell_type": "markdown",
   "metadata": {},
   "source": [
    "#### Determining x_init "
   ]
  },
  {
   "cell_type": "markdown",
   "metadata": {},
   "source": [
    "In this case, our independent variable is time, and to simplify matters we will just start at $t=0$."
   ]
  },
  {
   "cell_type": "code",
   "execution_count": 3,
   "metadata": {
    "collapsed": true
   },
   "outputs": [],
   "source": [
    "x_init = 0"
   ]
  },
  {
   "cell_type": "markdown",
   "metadata": {},
   "source": [
    "#### Determining init_condns"
   ]
  },
  {
   "cell_type": "markdown",
   "metadata": {},
   "source": [
    "We need some initial condition for position and an initial condition for velocity. Let's say that $x_0 = -1.2$ and $v_0 = 0.5$."
   ]
  },
  {
   "cell_type": "code",
   "execution_count": 4,
   "metadata": {
    "collapsed": true
   },
   "outputs": [],
   "source": [
    "x_0 = -1.2\n",
    "v_0 = 0.5\n",
    "\n",
    "init_condns = [x_0, v_0]"
   ]
  },
  {
   "cell_type": "markdown",
   "metadata": {},
   "source": [
    "#### Determining parameters"
   ]
  },
  {
   "cell_type": "markdown",
   "metadata": {},
   "source": [
    "We need a value for $k$ and $m$. Let's say $k = 1$ and $m=1$."
   ]
  },
  {
   "cell_type": "code",
   "execution_count": 5,
   "metadata": {
    "collapsed": true
   },
   "outputs": [],
   "source": [
    "k = 1.\n",
    "m = 1.\n",
    "parameters = [k,m]"
   ]
  },
  {
   "cell_type": "markdown",
   "metadata": {},
   "source": [
    "#### Determining derivs"
   ]
  },
  {
   "cell_type": "markdown",
   "metadata": {},
   "source": [
    "Let's define two functions in python as described mathematically above and make them into the list derivs."
   ]
  },
  {
   "cell_type": "code",
   "execution_count": 6,
   "metadata": {
    "collapsed": true
   },
   "outputs": [],
   "source": [
    "def accel_spring(x_init,init_condns,params):\n",
    "    k = params[0]\n",
    "    m = params[1]\n",
    "\n",
    "    x = init_condns[0]\n",
    "    \n",
    "    return -(k/m)*x\n",
    "\n",
    "def vel_spring(x_init,init_condns,params):\n",
    "    velocity = init_condns[1]\n",
    "    return velocity\n",
    "\n",
    "derivs = [vel_spring,accel_spring]"
   ]
  },
  {
   "cell_type": "markdown",
   "metadata": {},
   "source": [
    "#### Calling the function"
   ]
  },
  {
   "cell_type": "markdown",
   "metadata": {},
   "source": [
    "Let's call rk4 in a loop, extract position and time data, and see what the plot looks like."
   ]
  },
  {
   "cell_type": "code",
   "execution_count": 7,
   "metadata": {
    "collapsed": false
   },
   "outputs": [],
   "source": [
    "# Sets the number of steps to 1000 so we can see from t=0 to t=10.\n",
    "num_of_steps = 1000\n",
    "\n",
    "# The size of the array must be 1000 + 1 to account for the initial values.\n",
    "time = np.zeros(num_of_steps+1)\n",
    "time[0] = x_init\n",
    "\n",
    "position = np.zeros(num_of_steps+1)\n",
    "position[0] = init_condns[0]\n",
    "\n",
    "for i in range(1,num_of_steps+1):\n",
    "    data = rk4_oneStep(x_init,init_condns,parameters,derivs)\n",
    "    \n",
    "    # Data stored in time and position\n",
    "    position[i] = data[1][0]\n",
    "    time[i] = data[0]\n",
    "    \n",
    "    # Conditions updated for next iteration\n",
    "    x_init = data[0]\n",
    "    init_condns = data[1]  "
   ]
  },
  {
   "cell_type": "code",
   "execution_count": 8,
   "metadata": {
    "collapsed": false
   },
   "outputs": [
    {
     "data": {
      "text/plain": [
       "<matplotlib.text.Text at 0x11938c908>"
      ]
     },
     "execution_count": 8,
     "metadata": {},
     "output_type": "execute_result"
    },
    {
     "data": {
      "image/png": "[encoded data removed]",
      "text/plain": [
       "<matplotlib.figure.Figure at 0x1160393c8>"
      ]
     },
     "metadata": {},
     "output_type": "display_data"
    }
   ],
   "source": [
    "plt.plot(time,position,\"r*\")\n",
    "plt.xlabel(\"Time [s]\")\n",
    "plt.ylabel(\"Position [m]\")\n",
    "plt.title(\"Time v. Position for a Mass on a Spring\")"
   ]
  },
  {
   "cell_type": "markdown",
   "metadata": {},
   "source": [
    "In case you don't believe that rk4 actually worked, let's plot this with an analytic function for simple harmonic motion and determine the residuals."
   ]
  },
  {
   "cell_type": "code",
   "execution_count": 9,
   "metadata": {
    "collapsed": true
   },
   "outputs": [],
   "source": [
    "def SMH_pos(time,init_condns,params):\n",
    "    omega = np.sqrt(params[0]/params[1])\n",
    "    init_pos = init_condns[0]\n",
    "    init_vel = init_condns[1]\n",
    "    return init_pos*np.cos(omega*time) + init_vel/omega * np.sin(omega * time)"
   ]
  },
  {
   "cell_type": "code",
   "execution_count": 10,
   "metadata": {
    "collapsed": true
   },
   "outputs": [],
   "source": [
    "analytic_position = SMH_pos(time,[x_0,v_0],[k,m])"
   ]
  },
  {
   "cell_type": "code",
   "execution_count": 11,
   "metadata": {
    "collapsed": false
   },
   "outputs": [
    {
     "data": {
      "text/plain": [
       "<matplotlib.text.Text at 0x119411cf8>"
      ]
     },
     "execution_count": 11,
     "metadata": {},
     "output_type": "execute_result"
    },
    {
     "data": {
      "image/png": "[encoded data removed]",
      "text/plain": [
       "<matplotlib.figure.Figure at 0x119496978>"
      ]
     },
     "metadata": {},
     "output_type": "display_data"
    }
   ],
   "source": [
    "fig, axs = plt.subplots(2, 1, figsize=(12, 6))\n",
    "\n",
    "axs[0].plot(time,position,\"r*\",label=\"rk4\")\n",
    "axs[0].plot(time,analytic_position,label=\"analytic\")\n",
    "axs[0].set_title(\"Time v. Position for a Mass on a Spring\")\n",
    "axs[0].legend(bbox_to_anchor=(1.05, 1), loc=2, borderaxespad=0.)\n",
    "\n",
    "residuals = position - analytic_position\n",
    "\n",
    "axs[1].plot(time,residuals)\n",
    "\n",
    "fig.text(0.5, 0.04, 'Time [s]')\n",
    "fig.text(0.06, 0.75, 'Position [m]', rotation='vertical')\n",
    "fig.text(.05,.35,'Residuals',rotation = 'vertical')"
   ]
  },
  {
   "cell_type": "markdown",
   "metadata": {},
   "source": [
    "The residuals are very small, which indicates that rk4 is a very accurate integration technique."
   ]
  }
 ],
 "metadata": {
  "kernelspec": {
   "display_name": "Python 3",
   "language": "python",
   "name": "python3"
  },
  "language_info": {
   "codemirror_mode": {
    "name": "ipython",
    "version": 3
   },
   "file_extension": ".py",
   "mimetype": "text/x-python",
   "name": "python",
   "nbconvert_exporter": "python",
   "pygments_lexer": "ipython3",
   "version": "3.6.0"
  }
 },
 "nbformat": 4,
 "nbformat_minor": 2
}
