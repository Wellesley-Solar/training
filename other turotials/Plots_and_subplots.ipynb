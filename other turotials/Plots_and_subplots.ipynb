{
 "cells": [
  {
   "cell_type": "code",
   "execution_count": 1,
   "metadata": {
    "collapsed": true
   },
   "outputs": [],
   "source": [
    "import numpy as np\n",
    "import matplotlib.pyplot as plt \n",
    "%matplotlib inline"
   ]
  },
  {
   "cell_type": "code",
   "execution_count": 5,
   "metadata": {
    "collapsed": false
   },
   "outputs": [
    {
     "data": {
      "text/plain": [
       "<matplotlib.text.Text at 0x10755fc50>"
      ]
     },
     "execution_count": 5,
     "metadata": {},
     "output_type": "execute_result"
    },
    {
     "data": {
      "image/png": "[encoded data removed]",
      "text/plain": [
       "<matplotlib.figure.Figure at 0x1073cdb50>"
      ]
     },
     "metadata": {},
     "output_type": "display_data"
    }
   ],
   "source": [
    "# generate an array from 0 to 5 in steps of 0.1\n",
    "# e.g. [0, 0.1, 0.2, ...]\n",
    "x = np.arange(0.0, 5.0, 0.1)\n",
    "\n",
    "plt.figure(1)  # Make a figure that will hold plots\n",
    "\n",
    "plt.subplot(2,1,1)  # Tell python you want a subplot 2 vertical, 1 horizontal\n",
    "plt.plot(x, 5*x, 'bo')\n",
    "plt.ylabel(\"y-axis 1\")\n",
    "\n",
    "plt.subplot(2,1,2)  # And a second subplot\n",
    "plt.plot(x, x**2, 'r-')\n",
    "plt.ylabel(\"y-axis 2\")\n",
    "plt.xlabel(\"x-axis\")"
   ]
  },
  {
   "cell_type": "code",
   "execution_count": null,
   "metadata": {
    "collapsed": true
   },
   "outputs": [],
   "source": []
  }
 ],
 "metadata": {
  "kernelspec": {
   "display_name": "Python 2",
   "language": "python",
   "name": "python2"
  },
  "language_info": {
   "codemirror_mode": {
    "name": "ipython",
    "version": 2
   },
   "file_extension": ".py",
   "mimetype": "text/x-python",
   "name": "python",
   "nbconvert_exporter": "python",
   "pygments_lexer": "ipython2",
   "version": "2.7.13"
  }
 },
 "nbformat": 4,
 "nbformat_minor": 2
}
