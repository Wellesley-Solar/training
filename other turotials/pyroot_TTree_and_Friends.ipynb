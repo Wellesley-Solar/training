{
 "cells": [
  {
   "cell_type": "code",
   "execution_count": 8,
   "metadata": {
    "collapsed": false,
    "deletable": true,
    "editable": true
   },
   "outputs": [],
   "source": [
    "import ROOT\n",
    "import numpy as np"
   ]
  },
  {
   "cell_type": "code",
   "execution_count": 9,
   "metadata": {
    "collapsed": false,
    "deletable": true,
    "editable": true
   },
   "outputs": [],
   "source": [
    "# Make a ROOT file with a TTree\n",
    "f = ROOT.TFile('test.root', 'recreate' )\n",
    "t = ROOT.TTree('t1', 'tree' )\n",
    "\n",
    "n = np.zeros(1, dtype='float')  # numpy float is C++ double\n",
    "m = np.zeros(1, dtype='float')\n",
    "t.Branch('val1', n, 'val1/D')\n",
    "t.Branch('val2', m, 'val2/D')\n",
    "\n",
    "for ii in range(3):\n",
    "    n[0] = (ii+1)*2\n",
    "    m[0] = (ii+1)*3\n",
    "    t.Fill()\n",
    "\n",
    "f.Write()\n",
    "f.Close()"
   ]
  },
  {
   "cell_type": "code",
   "execution_count": 10,
   "metadata": {
    "collapsed": false,
    "deletable": true,
    "editable": true
   },
   "outputs": [
    {
     "name": "stdout",
     "output_type": "stream",
     "text": [
      "************************************\n",
      "*    Row   *      val1 *      val2 *\n",
      "************************************\n",
      "*        0 *         2 *         3 *\n",
      "*        1 *         4 *         6 *\n",
      "*        2 *         6 *         9 *\n",
      "************************************\n",
      "2, 3, 5\n",
      "4, 6, 10\n",
      "6, 9, 15\n",
      "************************\n",
      "*    Row   *      val3 *\n",
      "************************\n",
      "*        0 *         5 *\n",
      "*        1 *        10 *\n",
      "*        2 *        15 *\n",
      "************************\n"
     ]
    }
   ],
   "source": [
    "# Read in the ROOT file, compute a quantity and write it to a \"Friend\" tree\n",
    "f1 = ROOT.TFile('test.root')\n",
    "t1 = f1.Get('t1')\n",
    "t1.Scan()\n",
    "\n",
    "f2 = ROOT.TFile('testfriend.root', 'RECREATE')\n",
    "t2 = ROOT.TTree('t1f', 'a friend tree')\n",
    "w = np.zeros(1, dtype='float')\n",
    "t2.Branch('val3', w, 'val3/D')\n",
    "\n",
    "for event in t1:\n",
    "    # Now you have acess to the leaves/branches of each entry in the tree, e.g.\n",
    "    w[0] = event.val1 + event.val2\n",
    "    print \"%d, %d, %d\" % (event.val1, event.val2, w)\n",
    "    t2.Fill()\n",
    "\n",
    "t2.Scan()\n",
    "f2.cd()\n",
    "t2.Write()\n",
    "f1.Close()\n",
    "f2.Close()"
   ]
  },
  {
   "cell_type": "code",
   "execution_count": 22,
   "metadata": {
    "collapsed": false,
    "deletable": true,
    "editable": true
   },
   "outputs": [
    {
     "data": {
      "text/plain": [
       "3L"
      ]
     },
     "execution_count": 22,
     "metadata": {},
     "output_type": "execute_result"
    },
    {
     "name": "stdout",
     "output_type": "stream",
     "text": [
      "************************************\n",
      "*    Row   *      val1 *      val2 *\n",
      "************************************\n",
      "*        0 *         2 *         3 *\n",
      "*        1 *         4 *         6 *\n",
      "*        2 *         6 *         9 *\n",
      "************************************\n",
      "************************************************\n",
      "*    Row   *      val1 *      val2 *      val3 *\n",
      "************************************************\n",
      "*        0 *         2 *         3 *         5 *\n",
      "*        1 *         4 *         6 *        10 *\n",
      "*        2 *         6 *         9 *        15 *\n",
      "************************************************\n"
     ]
    }
   ],
   "source": [
    "# Read in the original TTree\n",
    "fA = ROOT.TFile('test.root')\n",
    "tA = fA.Get('t1')\n",
    "tA.Scan()\n",
    "\n",
    "# And associate the Friend TTree\n",
    "tA.AddFriend(\"t1f\", 'testfriend.root')\n",
    "\n",
    "# Then the original and friend are tied together\n",
    "tA.Scan('val1:val2:val3')"
   ]
  },
  {
   "cell_type": "code",
   "execution_count": null,
   "metadata": {
    "collapsed": true,
    "deletable": true,
    "editable": true
   },
   "outputs": [],
   "source": []
  }
 ],
 "metadata": {
  "kernelspec": {
   "display_name": "Python 2",
   "language": "python",
   "name": "python2"
  },
  "language_info": {
   "codemirror_mode": {
    "name": "ipython",
    "version": 2
   },
   "file_extension": ".py",
   "mimetype": "text/x-python",
   "name": "python",
   "nbconvert_exporter": "python",
   "pygments_lexer": "ipython2",
   "version": "2.7.13"
  }
 },
 "nbformat": 4,
 "nbformat_minor": 2
}
