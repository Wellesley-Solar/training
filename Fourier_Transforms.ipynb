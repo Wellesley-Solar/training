{
 "cells": [
  {
   "cell_type": "markdown",
   "metadata": {
    "deletable": true,
    "editable": true
   },
   "source": [
    "# Fourier Transforms\n"
   ]
  },
  {
   "cell_type": "code",
   "execution_count": null,
   "metadata": {
    "collapsed": true,
    "deletable": true,
    "editable": true
   },
   "outputs": [],
   "source": [
    "# numpy is the main Python array library\n",
    "import numpy as np # \"as np\" allows us to use the abbreviation np for convenience\n",
    "\n",
    "# we use matplotlib for plotting graphs\n",
    "import matplotlib.pyplot as plt \n",
    "%matplotlib inline"
   ]
  },
  {
   "cell_type": "markdown",
   "metadata": {
    "deletable": true,
    "editable": true
   },
   "source": [
    "### First, let's generate the time-series data"
   ]
  },
  {
   "cell_type": "markdown",
   "metadata": {
    "deletable": true,
    "editable": true
   },
   "source": [
    "(e.g. voltage vs. time from an oscilloscope)\n",
    "Our example signal will be the sum of two sine waves, with different amplitudes and whose frequencies differ by a factor of two."
   ]
  },
  {
   "cell_type": "code",
   "execution_count": null,
   "metadata": {
    "collapsed": false,
    "deletable": true,
    "editable": true
   },
   "outputs": [],
   "source": [
    "Fs    = 1e11    # [Hz] sampling rate\n",
    "Ts    = 1/Fs   # [s]  sampling interval (time interval between samples)\n",
    "tmin  = 0      # [s]  start time\n",
    "tmax  = 5e-3   # [s]  end time\n",
    "tt = np.arange(tmin, tmax, Ts)  # [s] time samples\n",
    "\n",
    "ff    = 3e3          # [Hz]  Signal frequency\n",
    "omega = ff*(2*np.pi) # [rad/s] Signal angular frequency\n",
    "yy = 3.0*np.sin(omega*tt) + 7.0*np.sin(2*omega*tt)\n",
    "plt.plot(tt, yy, 'k-')\n",
    "plt.grid()"
   ]
  },
  {
   "cell_type": "markdown",
   "metadata": {
    "deletable": true,
    "editable": true
   },
   "source": [
    "Doing the Fourier Transform\n",
    "We then compute the fourier transform, as well as the corresponding frequencies. We expect two peaks, one for each input frequency, and the amplitudes of the peaks should correspond to the amplitudes of the original input sine waves."
   ]
  },
  {
   "cell_type": "code",
   "execution_count": null,
   "metadata": {
    "collapsed": false,
    "deletable": true,
    "editable": true
   },
   "outputs": [],
   "source": [
    "def fourierCompare(Ts,tt,y):\n",
    "    sp   = np.fft.fft(y)#........................compute the FTT\n",
    "    sp   = np.abs(sp)/(0.5*len(tt))#.............compute the magnitude of the (complex) FTT (the abs value) and normalize\n",
    "    freq = np.fft.fftfreq(len(tt),Ts) #..........compute the corresponding frequencies [Hz]\n",
    "    plt.plot(freq, np.abs(sp))#..................plot the frequency Vs. amplitude graph\n",
    "    plt.xlim(xmin=-10000, xmax=10000) \n",
    "    plt.grid()\n",
    "fourierCompare(Ts, tt,yy)"
   ]
  },
  {
   "cell_type": "markdown",
   "metadata": {
    "deletable": true,
    "editable": true
   },
   "source": [
    "Limiting the frequencies to positive values allows our specta to be one-sided instead of two-sided."
   ]
  },
  {
   "cell_type": "code",
   "execution_count": null,
   "metadata": {
    "collapsed": false,
    "deletable": true,
    "editable": true,
    "scrolled": true
   },
   "outputs": [],
   "source": [
    "def fourier(Ts,tt,y):\n",
    "    sp   = np.fft.fft(y)\n",
    "    sp   = np.abs(sp)/(0.5*len(tt))\n",
    "    freq = np.fft.fftfreq(len(tt),Ts)\n",
    "    plt.plot(abs(freq), np.abs(sp))#......only look at the \"positive frequencies\" and gives us one-sided power spectral density(PSD)\n",
    "    plt.xlim(xmin=0, xmax=100000)\n",
    "    plt.xlabel('Frequency [Hz]')\n",
    "    plt.ylabel('Amplitude [arb]')\n",
    "    plt.grid()\n",
    "fourier(Ts, tt,yy)"
   ]
  },
  {
   "cell_type": "markdown",
   "metadata": {
    "deletable": true,
    "editable": true
   },
   "source": [
    "By having more data points, we can have a peak with narrower width."
   ]
  },
  {
   "cell_type": "code",
   "execution_count": null,
   "metadata": {
    "collapsed": false,
    "deletable": true,
    "editable": true,
    "scrolled": true
   },
   "outputs": [],
   "source": [
    "t = np.arange(tmin, 6*tmax, Ts)  # we multiplied tmax to get more data points with the same step size.\n",
    "y = 3.0*np.sin(omega*t) + 7.0*np.sin(2*omega*t)\n",
    "fourier(Ts, t,y)"
   ]
  },
  {
   "cell_type": "markdown",
   "metadata": {
    "deletable": true,
    "editable": true
   },
   "source": [
    "And as we gather more and more data points, our fourier transform becomes a delta function."
   ]
  },
  {
   "cell_type": "markdown",
   "metadata": {
    "deletable": true,
    "editable": true
   },
   "source": [
    "#### The Nyquist Critical Frequency"
   ]
  },
  {
   "cell_type": "markdown",
   "metadata": {
    "deletable": true,
    "editable": true
   },
   "source": [
    "$$\n",
    "f_c=\\frac{1}{2Ts}\n",
    "$$"
   ]
  },
  {
   "cell_type": "markdown",
   "metadata": {
    "deletable": true,
    "editable": true
   },
   "source": [
    "Since critical sampling of a sine wave is two sampling per cycle, if a function is bandwidth limited to frequencies smaller in magnitude than the $f_c$, then the function is completely determined by its samples.\n",
    "Otherwise, the PSD outside the domain[-$f_c$, $f_c$] is moved to  this domain. This is called aliasing."
   ]
  },
  {
   "cell_type": "markdown",
   "metadata": {
    "deletable": true,
    "editable": true
   },
   "source": [
    "Our    $f_c$=0.5*Ts  =5e5"
   ]
  },
  {
   "cell_type": "markdown",
   "metadata": {
    "deletable": true,
    "editable": true
   },
   "source": [
    "Now let's add a function of frequency f>$f_c$ to our y function."
   ]
  },
  {
   "cell_type": "code",
   "execution_count": 42,
   "metadata": {
    "collapsed": false,
    "deletable": true,
    "editable": true,
    "scrolled": false
   },
   "outputs": [
    {
     "name": "stdout",
     "output_type": "stream",
     "text": [
      "f 942477.7960769379\n",
      "freq 30000\n",
      "sp 30000\n",
      "(6000.0, 6.9999999999999822)\n",
      "(400000.0, 4.9999999999999929)\n",
      "(400000.0, 4.9999999999999929)\n",
      "(6000.0, 6.9999999999999805)\n"
     ]
    },
    {
     "data": {
      "image/png": "[encoded data removed]",
      "text/plain": [
       "<matplotlib.figure.Figure at 0x1dc3a173908>"
      ]
     },
     "metadata": {},
     "output_type": "display_data"
    }
   ],
   "source": [
    "\n",
    "t = np.arange(tmin, 6.*tmax, Ts)  # we multiplied tmax to get more data points with the same step size.\n",
    "f=6e5\n",
    "newOmega=f*(2*np.pi)\n",
    "y1 = 3.0*np.sin(omega*t) + 7.0*np.sin(2*omega*t)+5.0*   #np.sin(newOmega*t)\n",
    "print ('f', (100./np.pi*omega)/2*np.pi)\n",
    "# our new frequency is 100./np.pi*omega=6e5.\n",
    "def fourier(Ts,tt,y):\n",
    "    sp   = np.fft.fft(y)\n",
    "    sp   = np.abs(sp)/(0.5*len(tt))\n",
    "    freq = np.fft.fftfreq(len(tt),Ts)\n",
    "    freqabs=np.abs(freq)\n",
    "    spabs=np.abs(sp)\n",
    "    print ('freq', len(freqabs))\n",
    "    print ('sp', len(spabs))\n",
    "    \n",
    "    for i in range(len(spabs)):\n",
    "        if spabs[i]>4:\n",
    "              print ((freqabs[i], spabs[i]))\n",
    "    plt.plot(np.abs(freq), np.abs(sp))#......only look at the \"positive frequencies\" and gives us one-sided power spectral density(PSD)\n",
    "    plt.xlim(xmin=0, xmax=5e5)\n",
    "    plt.xlabel('Frequency [Hz]')\n",
    "    plt.ylabel('Amplitude [arb]')\n",
    "    plt.grid()\n",
    "fourier(Ts, t,y1)"
   ]
  },
  {
   "cell_type": "code",
   "execution_count": null,
   "metadata": {
    "collapsed": true,
    "deletable": true,
    "editable": true
   },
   "outputs": [],
   "source": []
  }
 ],
 "metadata": {
  "kernelspec": {
   "display_name": "Python 2",
   "language": "python",
   "name": "python2"
  },
  "language_info": {
   "codemirror_mode": {
    "name": "ipython",
    "version": 3
   },
   "file_extension": ".py",
   "mimetype": "text/x-python",
   "name": "python",
   "nbconvert_exporter": "python",
   "pygments_lexer": "ipython3",
   "version": "3.6.0"
  }
 },
 "nbformat": 4,
 "nbformat_minor": 2
}
