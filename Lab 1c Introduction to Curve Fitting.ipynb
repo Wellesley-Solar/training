{
 "cells": [
  {
   "cell_type": "markdown",
   "metadata": {},
   "source": [
    "# Wellesley College, Physics 202 Lab\n",
    "### Fall 2016\n",
    "\n",
    "### Lauri Wardell and Jerome Fung"
   ]
  },
  {
   "cell_type": "markdown",
   "metadata": {},
   "source": [
    "Let's recap what you've accomplished so far:\n",
    "\n",
    "* You've installed a scientific Python distribution and become familiar with the basics of Jupyter notebooks\n",
    "* You've gotten some practice working with numpy arrays.\n",
    "* You've learned how to write functions.\n",
    "* You've learned how to make plots using matplotlib.\n",
    "\n",
    "We will now draw on those skills as we introduce *curve fitting*. \n",
    "\n",
    "We first begin with the usual import statements."
   ]
  },
  {
   "cell_type": "code",
   "execution_count": 1,
   "metadata": {
    "collapsed": true
   },
   "outputs": [],
   "source": [
    "import numpy as np\n",
    "import matplotlib.pyplot as plt\n",
    "import scipy.stats\n",
    "import scipy.optimize # we'll use this now\n",
    "%matplotlib inline"
   ]
  },
  {
   "cell_type": "markdown",
   "metadata": {},
   "source": [
    "# Theoretical Background"
   ]
  },
  {
   "cell_type": "markdown",
   "metadata": {},
   "source": [
    "Most often, we have a set of $n$ points $\\{ x_i, y_i \\}$ from experimental measurements. We are usually seeking to fit some mathematical function to the experimentally measured points. The function can be written in a general way as\n",
    "\n",
    "$$ f(x_i; p_j) $$\n",
    "\n",
    "where the $p_j$ represent a set of $m$ unknown *parameters*. \n",
    "\n",
    "As an example, consider a linear function:\n",
    "\n",
    "$$ f(x_i) = A + Bx_i$$\n",
    "\n",
    "Here, there are two parameters to be determined by fitting, the y-intercept $A$ and the slope $B$.\n",
    "\n",
    "The general objective in the curve-fitting problem is to find optimal values for the parameters $p_{j,opt}$ such that $f(x_i; p_{j,opt})$ is a \"best fit\" to the measured points $y_i$. How can \"best fit\" be defined in a quantitative way? One way is by considering the *residuals* for some set of parameters $p_j$. For a given set $p_j$ and data point $x_i$, the $i$th residual $r_i$ is defined such that\n",
    "\n",
    "$$r_i = y_i - f(x_i; p_j)$$\n",
    "\n",
    "Note that $r_i=0$ if the function $f(x_i;p_j)$ exactly equals the measured point $y_i$. \n",
    "\n",
    "The most common definition of $p_{j,opt}$ is that they are the set of $p_j$ such that the quantity $\\chi^2$ (chi-squared), defined as \n",
    "$$\\chi^2 \\equiv \\sum_{i}^n r_i^2 $$\n",
    "is *minimized*."
   ]
  },
  {
   "cell_type": "markdown",
   "metadata": {},
   "source": [
    "***Exercise 6***\n",
    "\n",
    "Explain why is it not a good idea to minimize the sum of the residuals\n",
    "\n",
    "$$\\sum_{i}^n r_i$$\n",
    "\n",
    "and why minimizing $\\chi^2$ is preferable."
   ]
  },
  {
   "cell_type": "code",
   "execution_count": null,
   "metadata": {
    "collapsed": true
   },
   "outputs": [],
   "source": []
  }
 ],
 "metadata": {
  "anaconda-cloud": {},
  "kernelspec": {
   "display_name": "Python [conda env:py35]",
   "language": "python",
   "name": "conda-env-py35-py"
  },
  "language_info": {
   "codemirror_mode": {
    "name": "ipython",
    "version": 3
   },
   "file_extension": ".py",
   "mimetype": "text/x-python",
   "name": "python",
   "nbconvert_exporter": "python",
   "pygments_lexer": "ipython3",
   "version": "3.5.2"
  }
 },
 "nbformat": 4,
 "nbformat_minor": 1
}
